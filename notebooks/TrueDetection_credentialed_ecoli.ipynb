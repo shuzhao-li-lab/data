{
 "cells": [
  {
   "cell_type": "markdown",
   "id": "c7a07c18-0a73-43ff-82b0-5355fa3f0805",
   "metadata": {},
   "source": [
    "# Annotation of SZ22 by khipu, using feature tables from asari vs XCMS\n",
    "\n",
    "SL 2023-1-29"
   ]
  },
  {
   "cell_type": "code",
   "execution_count": 1,
   "id": "b337156f-9d6a-438c-93b6-57da33bd1d22",
   "metadata": {},
   "outputs": [],
   "source": [
    "import json"
   ]
  },
  {
   "cell_type": "code",
   "execution_count": 18,
   "id": "eca0c66d-0655-4fcd-82e9-e31fe9cab0f8",
   "metadata": {},
   "outputs": [],
   "source": [
    "asari = json.load(open('szasari.json'))\n",
    "xcms = json.load(open('szxcmsh.json'))"
   ]
  },
  {
   "cell_type": "code",
   "execution_count": 19,
   "id": "86848c34-14f9-435d-b1e9-4086bc40e3d4",
   "metadata": {},
   "outputs": [
    {
     "data": {
      "text/plain": [
       "(295, 268)"
      ]
     },
     "execution_count": 19,
     "metadata": {},
     "output_type": "execute_result"
    }
   ],
   "source": [
    "len(asari), len(xcms)"
   ]
  },
  {
   "cell_type": "code",
   "execution_count": 20,
   "id": "02b58dd0-bba3-4754-9740-1a1011ca4152",
   "metadata": {},
   "outputs": [
    {
     "data": {
      "text/plain": [
       "{'interim_id': 'kp1_128.0583',\n",
       " 'neutral_formula_mass': 128.05827686656332,\n",
       " 'neutral_formula': None,\n",
       " 'Database_referred': [],\n",
       " 'identity': [],\n",
       " 'MS1_pseudo_Spectra': [{'id': 'F37',\n",
       "   'mz': 134.0824,\n",
       "   'rtime': 25.36,\n",
       "   'intensities': [23.79, 28.07, 268.0],\n",
       "   'representative_intensity': 106.62,\n",
       "   'parent_masstrack_id': '134.0824',\n",
       "   'isotope': '13C/12C*5',\n",
       "   'modification': 'M+H+',\n",
       "   'ion_relation': '13C/12C*5,M+H+'},\n",
       "  {'id': 'F2',\n",
       "   'mz': 132.0752,\n",
       "   'rtime': 24.48,\n",
       "   'intensities': [22.38, 26.91, 257.0],\n",
       "   'representative_intensity': 102.09666666666668,\n",
       "   'parent_masstrack_id': '132.0752',\n",
       "   'isotope': '13C/12C*3',\n",
       "   'modification': 'M+H+',\n",
       "   'ion_relation': '13C/12C*3,M+H+'},\n",
       "  {'id': 'F1378',\n",
       "   'mz': 129.0659,\n",
       "   'rtime': 25.58,\n",
       "   'intensities': [22.86, 28.31, 1091.0],\n",
       "   'representative_intensity': 380.72333333333336,\n",
       "   'parent_masstrack_id': '129.0659',\n",
       "   'isotope': 'M0',\n",
       "   'modification': 'M+H+',\n",
       "   'ion_relation': 'M0,M+H+'}],\n",
       " 'MS2_Spectra': []}"
      ]
     },
     "execution_count": 20,
     "metadata": {},
     "output_type": "execute_result"
    }
   ],
   "source": [
    "asari[0]"
   ]
  },
  {
   "cell_type": "code",
   "execution_count": 21,
   "id": "c819f101-c881-4ebb-ad2c-f6a52acaf4be",
   "metadata": {},
   "outputs": [],
   "source": [
    "# Get epds with both M0 and M2 or beyond\n",
    "\n",
    "def is_good(p):\n",
    "    '''M1 is '13C/12C', no '*'.\n",
    "    '''\n",
    "    good = False\n",
    "    isotopes = []\n",
    "    for x in p['MS1_pseudo_Spectra']:\n",
    "        if 'isotope' in x:\n",
    "            isotopes.append(x['isotope'])\n",
    "    \n",
    "    if 'M0' in isotopes:\n",
    "        remaining = [x for x in isotopes if '13C/12C*' in x]\n",
    "        if remaining:\n",
    "            good = True\n",
    "    return good\n",
    "    "
   ]
  },
  {
   "cell_type": "code",
   "execution_count": 10,
   "id": "4805908a-2786-4e67-a295-044db9a0bd5d",
   "metadata": {},
   "outputs": [
    {
     "data": {
      "text/plain": [
       "True"
      ]
     },
     "execution_count": 10,
     "metadata": {},
     "output_type": "execute_result"
    }
   ],
   "source": [
    "is_good(asari[0])"
   ]
  },
  {
   "cell_type": "code",
   "execution_count": 22,
   "id": "863cf9ee-5030-4073-b091-eb926344b3a9",
   "metadata": {},
   "outputs": [
    {
     "data": {
      "text/plain": [
       "(243, 197)"
      ]
     },
     "execution_count": 22,
     "metadata": {},
     "output_type": "execute_result"
    }
   ],
   "source": [
    "asari_good = [p for p in asari if is_good(p)]\n",
    "xcms_good = [p for p in xcms if is_good(p)]\n",
    "len(asari_good), len(xcms_good)"
   ]
  },
  {
   "cell_type": "code",
   "execution_count": 14,
   "id": "0bf9dd17-6c4a-419c-87ae-f8ce686ed0f4",
   "metadata": {},
   "outputs": [
    {
     "data": {
      "text/plain": [
       "{'interim_id': 'kp12_77.0989',\n",
       " 'neutral_formula_mass': 77.09886421823,\n",
       " 'neutral_formula': None,\n",
       " 'Database_referred': [],\n",
       " 'identity': [],\n",
       " 'MS1_pseudo_Spectra': [{'id': 'FT0142',\n",
       "   'mz': 82.11957365,\n",
       "   'rtime': 27.05752945,\n",
       "   'intensities': [60246.289, 63496.57029, 46331.53318],\n",
       "   'representative_intensity': 56691.46415666666,\n",
       "   'parent_masstrack_id': '82.11957365',\n",
       "   'isotope': '13C/12C*4',\n",
       "   'modification': 'M+H+',\n",
       "   'ion_relation': '13C/12C*4,M+H+'},\n",
       "  {'id': 'FT0101',\n",
       "   'mz': 78.10612772,\n",
       "   'rtime': 27.13708896,\n",
       "   'intensities': [199027.7776, 209735.1529, 175678.5478],\n",
       "   'representative_intensity': 194813.82610000003,\n",
       "   'parent_masstrack_id': '78.10612772',\n",
       "   'isotope': 'M0',\n",
       "   'modification': 'M+H+',\n",
       "   'ion_relation': 'M0,M+H+'}],\n",
       " 'MS2_Spectra': []}"
      ]
     },
     "execution_count": 14,
     "metadata": {},
     "output_type": "execute_result"
    }
   ],
   "source": [
    "xcms_good[10]"
   ]
  },
  {
   "cell_type": "code",
   "execution_count": 24,
   "id": "87bc4c92-b01d-4d6e-bcfd-7b5fe51dab14",
   "metadata": {},
   "outputs": [
    {
     "name": "stdout",
     "output_type": "stream",
     "text": [
      "196 180 159\n"
     ]
    }
   ],
   "source": [
    "# compare neutral_formula_mass\n",
    "\n",
    "nms_asari = [str(round(p['neutral_formula_mass'],2)) for p in asari_good]\n",
    "nms_xcms = [str(round(p['neutral_formula_mass'],2)) for p in xcms_good]\n",
    "\n",
    "op = set(nms_asari).intersection(set(nms_xcms))\n",
    "\n",
    "print(len(set(nms_asari)), len(set(nms_xcms)), len(op))"
   ]
  },
  {
   "cell_type": "code",
   "execution_count": 31,
   "id": "478e256d-1ff4-48a5-97d7-daaaaa3bd8cf",
   "metadata": {},
   "outputs": [
    {
     "data": {
      "text/plain": [
       "(591, 480)"
      ]
     },
     "execution_count": 31,
     "metadata": {},
     "output_type": "execute_result"
    }
   ],
   "source": [
    "# get all M+H peaks from good epds\n",
    "peaks_asari, peaks_xcms = [], []\n",
    "for p in asari_good:\n",
    "    for x in p['MS1_pseudo_Spectra']:\n",
    "        if 'modification' in x and x['modification'] == 'M+H+':\n",
    "            peaks_asari.append(x)\n",
    "\n",
    "for p in xcms_good:\n",
    "    for x in p['MS1_pseudo_Spectra']:\n",
    "        if 'modification' in x and x['modification'] == 'M+H+':\n",
    "            peaks_xcms.append(x)\n",
    "\n",
    "len(peaks_asari), len(peaks_xcms)\n",
    "\n"
   ]
  },
  {
   "cell_type": "code",
   "execution_count": 28,
   "id": "33b667eb-a030-4172-a8e7-ad2ca246de96",
   "metadata": {},
   "outputs": [],
   "source": [
    "!pip install --upgrade -q asari-metabolomics\n",
    "from asari.tools import match_features as mf"
   ]
  },
  {
   "cell_type": "code",
   "execution_count": 32,
   "id": "b027f28f-7e54-4c64-af03-2b561e0d2caa",
   "metadata": {},
   "outputs": [
    {
     "name": "stdout",
     "output_type": "stream",
     "text": [
      "\n",
      "    ~~~ By best rtime matches ~~~     \n",
      "\n",
      "Of 591 list1 features, number of uni-direction matched features is 466.\n",
      "Of 480 list1 features, number of uni-direction matched features is 429.\n",
      "~~~ Biodirectional, unique Number of matched feature pairs: ~~~\n",
      " 429\n",
      "\n",
      "\n",
      "########################################################################\n",
      "    ~~~ By best m/z matches ~~~     \n",
      "\n",
      "Of 591 list1 features, number of uni-direction matched features is 466.\n",
      "Of 480 list1 features, number of uni-direction matched features is 429.\n",
      "~~~ Biodirectional, unique Number of matched feature pairs: ~~~\n",
      "     428\n",
      "########################################################################\n",
      "\n",
      "\n"
     ]
    }
   ],
   "source": [
    "valid_matches, dict1, dict2 = mf.bidirectional_best_match(peaks_asari, peaks_xcms, mz_ppm=5, rt_tolerance=6)"
   ]
  },
  {
   "cell_type": "code",
   "execution_count": 38,
   "id": "cfd517d8-eaa7-4b0e-8f7b-2e4b4894e8a3",
   "metadata": {},
   "outputs": [
    {
     "data": {
      "text/plain": [
       "'F115'"
      ]
     },
     "execution_count": 38,
     "metadata": {},
     "output_type": "execute_result"
    }
   ],
   "source": [
    "dict2['FT0040']"
   ]
  },
  {
   "cell_type": "code",
   "execution_count": 34,
   "id": "cbb2fd84-05a7-4cd7-a003-f23789555d23",
   "metadata": {},
   "outputs": [
    {
     "name": "stdout",
     "output_type": "stream",
     "text": [
      "428\n"
     ]
    },
    {
     "data": {
      "text/plain": [
       "('F37', 'FT0577')"
      ]
     },
     "execution_count": 34,
     "metadata": {},
     "output_type": "execute_result"
    }
   ],
   "source": [
    "print(len(valid_matches))\n",
    "valid_matches[0] # considered as true"
   ]
  },
  {
   "cell_type": "code",
   "execution_count": 39,
   "id": "454605d4-a19c-4566-882a-116320918ef8",
   "metadata": {},
   "outputs": [
    {
     "name": "stdout",
     "output_type": "stream",
     "text": [
      "215 {'id': 'F66', 'mz': 135.0667, 'rtime': 25.36, 'intensities': [22.62, 28.07, 273.0], 'representative_intensity': 107.89666666666666, 'parent_masstrack_id': '135.0667', 'isotope': '13C/12C*5', 'modification': 'M+H+', 'ion_relation': '13C/12C*5,M+H+'}\n"
     ]
    }
   ],
   "source": [
    "# create merged \"EXTRA true feature list\"\n",
    "have1, have2 = [x[0] for x in valid_matches], [x[1] for x in valid_matches]\n",
    "\n",
    "extra = []\n",
    "for p in peaks_asari:\n",
    "    if p['id'] not in have1:\n",
    "        extra.append(p)\n",
    "\n",
    "for p in peaks_xcms:\n",
    "    if p['id'] not in have2:\n",
    "        extra.append(p)\n",
    "        \n",
    "print(len(extra), extra[1])"
   ]
  },
  {
   "cell_type": "markdown",
   "id": "7469bbf6-dc8a-4ab5-8f5a-0bf8446bf6c6",
   "metadata": {},
   "source": [
    "**True list = 643, i.e. (428 + 215)**"
   ]
  },
  {
   "cell_type": "code",
   "execution_count": 40,
   "id": "e5fd38be-029d-49cb-968a-9e8af3b9e8c6",
   "metadata": {},
   "outputs": [
    {
     "name": "stdout",
     "output_type": "stream",
     "text": [
      "1399 \n",
      " {'id': 'row5', 'mz': 132.0752, 'rtime': 68.4}\n",
      "1525 \n",
      " {'id': 'row5', 'mz': 69.04478012, 'rtime': 91.34202102}\n"
     ]
    }
   ],
   "source": [
    "asari_ = mf.get_featureList('SZ22_asari_full_Feature_table.tsv', start_row=1, mz_col=1, rt_col=2, sep='\\t')\n",
    "print(len(asari_), '\\n', asari_[3])\n",
    "\n",
    "xcms_ = mf.get_featureList('SZ22_XCMS_featureTable.txt', start_row=1, mz_col=1, rt_col=2, sep='\\t')\n",
    "print(len(xcms_), '\\n', xcms_[3])"
   ]
  },
  {
   "cell_type": "code",
   "execution_count": 44,
   "id": "3c2c25c3-56b8-449f-a567-e3d1cc3d3db4",
   "metadata": {},
   "outputs": [],
   "source": [
    "def compare(list1, list2):\n",
    "    '''compare matches and print unmatched in list1.\n",
    "    '''\n",
    "    print(\"\\n  Best match comparisons:\")\n",
    "    valid_matches, dict1, dict2 = mf.bidirectional_best_match(list1, list2, mz_ppm=5, rt_tolerance=10)\n",
    "\n",
    "    print(\"\\n  List based inclusive comparisons:\")\n",
    "    dict1, dict2 = mf.bidirectional_match(list1, list2, mz_ppm=5, rt_tolerance=10)\n",
    "\n",
    "    \n",
    "    unmatched = [p for p in list1 if p['id'] not in dict1]\n",
    "    print(\"\\n\\nUnmatched features ****** \", len(unmatched), \"*******\\n\")\n",
    "    unmatched = [(p['mz'], p['rtime']) for p in unmatched]\n",
    "    for x in unmatched:\n",
    "        print(x)\n"
   ]
  },
  {
   "cell_type": "code",
   "execution_count": 45,
   "id": "8cc9cf6c-2af5-45d2-9392-8e82760eedae",
   "metadata": {},
   "outputs": [
    {
     "name": "stdout",
     "output_type": "stream",
     "text": [
      "\n",
      "  Best match comparisons:\n",
      "\n",
      "    ~~~ By best rtime matches ~~~     \n",
      "\n",
      "Of 215 list1 features, number of uni-direction matched features is 193.\n",
      "Of 1399 list1 features, number of uni-direction matched features is 245.\n",
      "~~~ Biodirectional, unique Number of matched feature pairs: ~~~\n",
      " 193\n",
      "\n",
      "\n",
      "########################################################################\n",
      "    ~~~ By best m/z matches ~~~     \n",
      "\n",
      "Of 215 list1 features, number of uni-direction matched features is 193.\n",
      "Of 1399 list1 features, number of uni-direction matched features is 245.\n",
      "~~~ Biodirectional, unique Number of matched feature pairs: ~~~\n",
      "     177\n",
      "########################################################################\n",
      "\n",
      "\n",
      "\n",
      "  List based inclusive comparisons:\n",
      "Of 215 list1 features, number of uni-direction matched features is 193.\n",
      "Of 1399 list1 features, number of uni-direction matched features is 245.\n",
      "    ~~~ match_numbers ~~~     \n",
      "\n",
      "Unique Number of matched features in table 1:  121\n",
      "Unique Number of matched features in table 2:  208\n",
      "Biodirectional, unique Number of matched feature pairs:  121\n",
      "\n",
      "\n",
      "Unmatched features ******  22 *******\n",
      "\n",
      "(114.0550584, 68.76032257)\n",
      "(118.0686016, 67.91684565)\n",
      "(129.0754771, 12.96059227)\n",
      "(123.0553302, 14.00247574)\n",
      "(126.0550083, 30.87797356)\n",
      "(130.0500128, 69.04935837)\n",
      "(135.0666956, 69.62822723)\n",
      "(135.9702195, 71.20482254)\n",
      "(138.9801192, 70.87448883)\n",
      "(140.994931, 35.62469292)\n",
      "(154.0912831, 80.03768921)\n",
      "(114.0550554, 27.44833765)\n",
      "(136.0758335, 70.0676651)\n",
      "(183.0620523, 30.60485077)\n",
      "(186.0612818, 30.16775894)\n",
      "(195.0877614, 29.6368885)\n",
      "(237.9897532, 26.46392441)\n",
      "(254.0894894, 30.60485077)\n",
      "(291.0649054, 30.19418907)\n",
      "(316.1170551, 30.60485077)\n",
      "(320.0913351, 30.46461105)\n",
      "(414.0404525, 60.29673767)\n"
     ]
    }
   ],
   "source": [
    "compare(extra, asari_)"
   ]
  },
  {
   "cell_type": "code",
   "execution_count": 48,
   "id": "69e67fa8-cd0e-4571-941a-f59ee4d2b145",
   "metadata": {},
   "outputs": [
    {
     "data": {
      "text/plain": [
       "-5.4540670388610286e-06"
      ]
     },
     "execution_count": 48,
     "metadata": {},
     "output_type": "execute_result"
    }
   ],
   "source": [
    "(140.994931-140.9957)/140.9957"
   ]
  },
  {
   "cell_type": "code",
   "execution_count": 50,
   "id": "0634bebe-b55e-4d34-a27b-fd40ba14ce3d",
   "metadata": {},
   "outputs": [
    {
     "data": {
      "text/plain": [
       "1.0613586187569832e-05"
      ]
     },
     "execution_count": 50,
     "metadata": {},
     "output_type": "execute_result"
    }
   ],
   "source": [
    "(316.1170551-316.1137)/316.1137"
   ]
  },
  {
   "cell_type": "code",
   "execution_count": null,
   "id": "32eaa75b-e55a-4337-904a-d05bb39a4128",
   "metadata": {},
   "outputs": [],
   "source": []
  },
  {
   "cell_type": "code",
   "execution_count": 46,
   "id": "207432c7-d4ac-423e-8719-18c71680a80b",
   "metadata": {},
   "outputs": [
    {
     "name": "stdout",
     "output_type": "stream",
     "text": [
      "\n",
      "  Best match comparisons:\n",
      "\n",
      "    ~~~ By best rtime matches ~~~     \n",
      "\n",
      "Of 215 list1 features, number of uni-direction matched features is 153.\n",
      "Of 1525 list1 features, number of uni-direction matched features is 155.\n",
      "~~~ Biodirectional, unique Number of matched feature pairs: ~~~\n",
      " 141\n",
      "\n",
      "\n",
      "########################################################################\n",
      "    ~~~ By best m/z matches ~~~     \n",
      "\n",
      "Of 215 list1 features, number of uni-direction matched features is 153.\n",
      "Of 1525 list1 features, number of uni-direction matched features is 155.\n",
      "~~~ Biodirectional, unique Number of matched feature pairs: ~~~\n",
      "     140\n",
      "########################################################################\n",
      "\n",
      "\n",
      "\n",
      "  List based inclusive comparisons:\n",
      "Of 215 list1 features, number of uni-direction matched features is 153.\n",
      "Of 1525 list1 features, number of uni-direction matched features is 155.\n",
      "    ~~~ match_numbers ~~~     \n",
      "\n",
      "Unique Number of matched features in table 1:  135\n",
      "Unique Number of matched features in table 2:  139\n",
      "Biodirectional, unique Number of matched feature pairs:  112\n",
      "\n",
      "\n",
      "Unmatched features ******  62 *******\n",
      "\n",
      "(101.071, 24.92)\n",
      "(135.9702, 2.93)\n",
      "(85.0284, 68.4)\n",
      "(103.0543, 70.78)\n",
      "(91.0085, 1.77)\n",
      "(131.0639, 71.47)\n",
      "(156.0703, 68.4)\n",
      "(233.1968, 30.43)\n",
      "(240.1918, 72.2)\n",
      "(229.1549, 71.0)\n",
      "(269.1077, 59.91)\n",
      "(277.1346, 59.15)\n",
      "(301.1524, 29.98)\n",
      "(165.1331, 69.85)\n",
      "(101.1667, 30.65)\n",
      "(316.1137, 50.66)\n",
      "(163.1174, 24.02)\n",
      "(318.9191, 1.31)\n",
      "(311.8963, 2.01)\n",
      "(314.6087, 30.65)\n",
      "(76.0393, 30.21)\n",
      "(344.0767, 30.87)\n",
      "(137.1549, 70.56)\n",
      "(171.0702, 26.02)\n",
      "(131.0493, 71.0)\n",
      "(241.1678, 72.45)\n",
      "(90.055, 68.4)\n",
      "(93.0651, 68.64)\n",
      "(90.055, 73.92)\n",
      "(93.0651, 73.67)\n",
      "(184.1638, 30.65)\n",
      "(184.1638, 70.56)\n",
      "(337.6304, 67.94)\n",
      "(327.5968, 67.94)\n",
      "(182.0813, 45.23)\n",
      "(335.5426, 50.66)\n",
      "(345.5758, 50.42)\n",
      "(196.0654, 30.43)\n",
      "(198.1086, 83.01)\n",
      "(279.1218, 68.4)\n",
      "(269.0886, 68.87)\n",
      "(137.0869, 30.65)\n",
      "(210.0722, 69.85)\n",
      "(206.9938, 24.26)\n",
      "(148.1177, 19.05)\n",
      "(294.1329, 68.4)\n",
      "(284.0992, 68.64)\n",
      "(228.0827, 69.6)\n",
      "(190.071, 30.87)\n",
      "(213.1235, 77.95)\n",
      "(308.6039, 49.92)\n",
      "(298.5703, 51.64)\n",
      "(311.0908, 30.65)\n",
      "(308.0823, 51.15)\n",
      "(318.1155, 50.66)\n",
      "(283.2089, 30.43)\n",
      "(324.1249, 69.36)\n",
      "(309.1342, 73.18)\n",
      "(314.5926, 30.87)\n",
      "(323.6234, 30.43)\n",
      "(378.1375, 30.65)\n",
      "(366.0968, 30.87)\n"
     ]
    }
   ],
   "source": [
    "compare(extra, xcms_)"
   ]
  },
  {
   "cell_type": "code",
   "execution_count": 47,
   "id": "375263c1-97b0-49ff-8b30-213725eac4f1",
   "metadata": {},
   "outputs": [
    {
     "data": {
      "text/plain": [
       "(1399, 1525)"
      ]
     },
     "execution_count": 47,
     "metadata": {},
     "output_type": "execute_result"
    }
   ],
   "source": [
    "len(asari_), len(xcms_)"
   ]
  },
  {
   "cell_type": "markdown",
   "id": "0f8a7a2b-e11a-4937-b809-9ca82e5b96db",
   "metadata": {},
   "source": [
    "## Consclusion\n",
    "\n",
    "Using similar parameters (peak height > 1E5), asari extracted 1399 features, and XCMS 1525.\n",
    "\n",
    "len(asari_good), len(xcms_good) =\n",
    "243, 197\n",
    "\n",
    "The M+H+ features are \n",
    "(591, 480)\n",
    "\n",
    "Combined, we have established a \"True list\" of 643 features.\n",
    "\n",
    "asari missed 22, XCMS missed 62 of these 643 features.\n",
    "\n",
    "Among the 22 missed by asari, two features were out of the 5 ppm m/z range;\n",
    "two failed due to gaps or  in \n",
    "The remaining 18 features are deemed to be inadequate quality in asari.\n"
   ]
  }
 ],
 "metadata": {
  "kernelspec": {
   "display_name": "Python 3 (ipykernel)",
   "language": "python",
   "name": "python3"
  },
  "language_info": {
   "codemirror_mode": {
    "name": "ipython",
    "version": 3
   },
   "file_extension": ".py",
   "mimetype": "text/x-python",
   "name": "python",
   "nbconvert_exporter": "python",
   "pygments_lexer": "ipython3",
   "version": "3.10.5"
  }
 },
 "nbformat": 4,
 "nbformat_minor": 5
}
