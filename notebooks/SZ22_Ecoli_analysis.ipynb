{
 "cells": [
  {
   "cell_type": "markdown",
   "metadata": {},
   "source": [
    "# SZ22, E. coli credentialed data\n",
    "\n"
   ]
  },
  {
   "cell_type": "code",
   "execution_count": 1,
   "metadata": {},
   "outputs": [
    {
     "name": "stdout",
     "output_type": "stream",
     "text": [
      "Requirement already satisfied: mass2chem in /opt/conda/lib/python3.7/site-packages (0.3.2)\r\n",
      "Requirement already satisfied: scipy in /opt/conda/lib/python3.7/site-packages (from mass2chem) (1.3.1)\r\n",
      "Requirement already satisfied: numpy in /opt/conda/lib/python3.7/site-packages (from mass2chem) (1.17.2)\r\n"
     ]
    }
   ],
   "source": [
    "!pip install mass2chem "
   ]
  },
  {
   "cell_type": "code",
   "execution_count": 2,
   "metadata": {},
   "outputs": [],
   "source": [
    "import numpy as np\n",
    "import json\n",
    "import pandas as pd\n",
    "\n",
    "from scipy import stats \n",
    "\n",
    "from mass2chem.epdsConstructor import epdsConstructor\n",
    "\n",
    "from matplotlib import pyplot as plt\n",
    "# import seaborn \n",
    "\n",
    "%matplotlib inline"
   ]
  },
  {
   "cell_type": "code",
   "execution_count": 3,
   "metadata": {},
   "outputs": [],
   "source": [
    "# from JMS\n",
    "def read_table_to_peaks(infile, \n",
    "                        has_header=True, mz_col=1, rtime_col=2, feature_id=None,\n",
    "                        full_extract=False,\n",
    "                        delimiter='\\t'):\n",
    "    '''\n",
    "    Read a text feature table, and \n",
    "    return list of peaks, e.g. [ {\n",
    "        'id_number': 555,\n",
    "        'mz': 133.0970, \n",
    "        'apex': 654, \n",
    "        'height': 14388.0, \n",
    "        }, ... ]\n",
    "    \n",
    "    full_extract: to keep all fields in output as strings, only if has_header.\n",
    "    feature_id: if None, create id for each peak/feature.\n",
    "    '''\n",
    "    def _make_id(ii, mz, rt):\n",
    "        return 'F' + str(ii) + '_' + str(round(mz, 6)) + '@' + str(round(rt, 2))\n",
    "\n",
    "    list_peaks = []\n",
    "    w = open(infile).readlines()\n",
    "    if has_header:\n",
    "        header = w[0].rstrip().split(delimiter)\n",
    "        w = w[1:]\n",
    "    ii = 0\n",
    "    for line in w:\n",
    "        a = line.split(delimiter)   # not rstrip, so trailing EOL will be carried forward\n",
    "        mz, rt = float(a[mz_col]), float(a[rtime_col])\n",
    "        if feature_id != None:\n",
    "            fid = a[feature_id].strip()\n",
    "        else:\n",
    "            ii += 1\n",
    "            fid = _make_id(ii, mz, rt)\n",
    "        peak = {'id_number': fid, 'mz': mz, 'rtime': rt, 'apex': rt}\n",
    "        if has_header and full_extract:\n",
    "            peak2 = dict(zip(header, a))\n",
    "            peak2.update(peak)\n",
    "            peak = peak2\n",
    "\n",
    "        list_peaks.append( peak )\n",
    "\n",
    "    return list_peaks"
   ]
  },
  {
   "cell_type": "code",
   "execution_count": 4,
   "metadata": {},
   "outputs": [
    {
     "name": "stdout",
     "output_type": "stream",
     "text": [
      "asari_cred.tsv\t\t\t\t ratios_xcms_RPpos_creds.xlsx\r\n",
      "asari_SZ22_RPpos_full_Feature_table.tsv  run_xcms_SZ22.R\r\n",
      "ratios_asari_RPpos_creds.csv\t\t SZ22_RPpos_XCMS_featureTable.csv\r\n",
      "ratios_asari_RPpos_creds.xlsx\t\t xcms_cred.tsv\r\n",
      "ratios_xcms_RPpos_creds.csv\r\n"
     ]
    }
   ],
   "source": [
    "!ls ecoli"
   ]
  },
  {
   "cell_type": "code",
   "execution_count": 5,
   "metadata": {},
   "outputs": [
    {
     "data": {
      "text/html": [
       "<div>\n",
       "<style scoped>\n",
       "    .dataframe tbody tr th:only-of-type {\n",
       "        vertical-align: middle;\n",
       "    }\n",
       "\n",
       "    .dataframe tbody tr th {\n",
       "        vertical-align: top;\n",
       "    }\n",
       "\n",
       "    .dataframe thead th {\n",
       "        text-align: right;\n",
       "    }\n",
       "</style>\n",
       "<table border=\"1\" class=\"dataframe\">\n",
       "  <thead>\n",
       "    <tr style=\"text-align: right;\">\n",
       "      <th></th>\n",
       "      <th>mz</th>\n",
       "      <th>rtime</th>\n",
       "      <th>rtime_left_base</th>\n",
       "      <th>rtime_right_base</th>\n",
       "      <th>parent_masstrack_id</th>\n",
       "      <th>peak_area</th>\n",
       "      <th>cSelectivity</th>\n",
       "      <th>goodness_fitting</th>\n",
       "      <th>snr</th>\n",
       "      <th>detection_counts</th>\n",
       "      <th>13C_Ecoli_20220321_004_20220322101150</th>\n",
       "      <th>12C_Ecoli_20220321_004</th>\n",
       "      <th>12C_Ecoli_20220321_004_20220322095030</th>\n",
       "      <th>12C_Ecoli_20220321_004_20220322130235</th>\n",
       "      <th>13C_Ecoli_20220321_004</th>\n",
       "      <th>13C_Ecoli_20220321_004_20220322132355</th>\n",
       "    </tr>\n",
       "    <tr>\n",
       "      <th>id_number</th>\n",
       "      <th></th>\n",
       "      <th></th>\n",
       "      <th></th>\n",
       "      <th></th>\n",
       "      <th></th>\n",
       "      <th></th>\n",
       "      <th></th>\n",
       "      <th></th>\n",
       "      <th></th>\n",
       "      <th></th>\n",
       "      <th></th>\n",
       "      <th></th>\n",
       "      <th></th>\n",
       "      <th></th>\n",
       "      <th></th>\n",
       "      <th></th>\n",
       "    </tr>\n",
       "  </thead>\n",
       "  <tbody>\n",
       "    <tr>\n",
       "      <td>F1</td>\n",
       "      <td>95.9735</td>\n",
       "      <td>125.06</td>\n",
       "      <td>83.20</td>\n",
       "      <td>166.12</td>\n",
       "      <td>276</td>\n",
       "      <td>8230447</td>\n",
       "      <td>0.98</td>\n",
       "      <td>0.61</td>\n",
       "      <td>10</td>\n",
       "      <td>6</td>\n",
       "      <td>1159692</td>\n",
       "      <td>2079328</td>\n",
       "      <td>984349</td>\n",
       "      <td>1314348</td>\n",
       "      <td>1707804</td>\n",
       "      <td>1299125</td>\n",
       "    </tr>\n",
       "    <tr>\n",
       "      <td>F2</td>\n",
       "      <td>61.9278</td>\n",
       "      <td>40.94</td>\n",
       "      <td>38.27</td>\n",
       "      <td>41.92</td>\n",
       "      <td>0</td>\n",
       "      <td>312476</td>\n",
       "      <td>0.97</td>\n",
       "      <td>0.44</td>\n",
       "      <td>11</td>\n",
       "      <td>4</td>\n",
       "      <td>57714</td>\n",
       "      <td>42543</td>\n",
       "      <td>0</td>\n",
       "      <td>0</td>\n",
       "      <td>43369</td>\n",
       "      <td>60144</td>\n",
       "    </tr>\n",
       "    <tr>\n",
       "      <td>F3</td>\n",
       "      <td>115.9802</td>\n",
       "      <td>11.42</td>\n",
       "      <td>0.54</td>\n",
       "      <td>30.54</td>\n",
       "      <td>548</td>\n",
       "      <td>20375423</td>\n",
       "      <td>1.00</td>\n",
       "      <td>0.42</td>\n",
       "      <td>14</td>\n",
       "      <td>6</td>\n",
       "      <td>3326312</td>\n",
       "      <td>3362695</td>\n",
       "      <td>3228128</td>\n",
       "      <td>4076328</td>\n",
       "      <td>3201740</td>\n",
       "      <td>3942341</td>\n",
       "    </tr>\n",
       "    <tr>\n",
       "      <td>F4</td>\n",
       "      <td>115.9860</td>\n",
       "      <td>5.83</td>\n",
       "      <td>0.54</td>\n",
       "      <td>25.49</td>\n",
       "      <td>549</td>\n",
       "      <td>11153489</td>\n",
       "      <td>1.00</td>\n",
       "      <td>0.79</td>\n",
       "      <td>26</td>\n",
       "      <td>6</td>\n",
       "      <td>1642861</td>\n",
       "      <td>2035714</td>\n",
       "      <td>1739145</td>\n",
       "      <td>1978764</td>\n",
       "      <td>1977817</td>\n",
       "      <td>2040421</td>\n",
       "    </tr>\n",
       "    <tr>\n",
       "      <td>F5</td>\n",
       "      <td>115.9860</td>\n",
       "      <td>27.96</td>\n",
       "      <td>25.49</td>\n",
       "      <td>30.10</td>\n",
       "      <td>549</td>\n",
       "      <td>1123274</td>\n",
       "      <td>1.00</td>\n",
       "      <td>0.69</td>\n",
       "      <td>15</td>\n",
       "      <td>6</td>\n",
       "      <td>185255</td>\n",
       "      <td>182603</td>\n",
       "      <td>219669</td>\n",
       "      <td>248607</td>\n",
       "      <td>199092</td>\n",
       "      <td>185630</td>\n",
       "    </tr>\n",
       "    <tr>\n",
       "      <td>...</td>\n",
       "      <td>...</td>\n",
       "      <td>...</td>\n",
       "      <td>...</td>\n",
       "      <td>...</td>\n",
       "      <td>...</td>\n",
       "      <td>...</td>\n",
       "      <td>...</td>\n",
       "      <td>...</td>\n",
       "      <td>...</td>\n",
       "      <td>...</td>\n",
       "      <td>...</td>\n",
       "      <td>...</td>\n",
       "      <td>...</td>\n",
       "      <td>...</td>\n",
       "      <td>...</td>\n",
       "      <td>...</td>\n",
       "    </tr>\n",
       "    <tr>\n",
       "      <td>F3598</td>\n",
       "      <td>285.1692</td>\n",
       "      <td>30.54</td>\n",
       "      <td>30.10</td>\n",
       "      <td>32.33</td>\n",
       "      <td>4299</td>\n",
       "      <td>424430</td>\n",
       "      <td>1.00</td>\n",
       "      <td>0.54</td>\n",
       "      <td>27</td>\n",
       "      <td>1</td>\n",
       "      <td>0</td>\n",
       "      <td>0</td>\n",
       "      <td>0</td>\n",
       "      <td>0</td>\n",
       "      <td>0</td>\n",
       "      <td>411079</td>\n",
       "    </tr>\n",
       "    <tr>\n",
       "      <td>F3599</td>\n",
       "      <td>134.1046</td>\n",
       "      <td>104.21</td>\n",
       "      <td>98.34</td>\n",
       "      <td>109.06</td>\n",
       "      <td>3739</td>\n",
       "      <td>476867</td>\n",
       "      <td>1.00</td>\n",
       "      <td>0.70</td>\n",
       "      <td>12</td>\n",
       "      <td>3</td>\n",
       "      <td>0</td>\n",
       "      <td>0</td>\n",
       "      <td>125475</td>\n",
       "      <td>176741</td>\n",
       "      <td>0</td>\n",
       "      <td>154015</td>\n",
       "    </tr>\n",
       "    <tr>\n",
       "      <td>F3600</td>\n",
       "      <td>155.0104</td>\n",
       "      <td>35.46</td>\n",
       "      <td>34.03</td>\n",
       "      <td>36.16</td>\n",
       "      <td>3754</td>\n",
       "      <td>274424</td>\n",
       "      <td>0.40</td>\n",
       "      <td>0.37</td>\n",
       "      <td>10</td>\n",
       "      <td>0</td>\n",
       "      <td>0</td>\n",
       "      <td>0</td>\n",
       "      <td>0</td>\n",
       "      <td>0</td>\n",
       "      <td>0</td>\n",
       "      <td>0</td>\n",
       "    </tr>\n",
       "    <tr>\n",
       "      <td>F3601</td>\n",
       "      <td>173.0296</td>\n",
       "      <td>19.63</td>\n",
       "      <td>17.98</td>\n",
       "      <td>21.05</td>\n",
       "      <td>3763</td>\n",
       "      <td>326132</td>\n",
       "      <td>1.00</td>\n",
       "      <td>0.60</td>\n",
       "      <td>12</td>\n",
       "      <td>3</td>\n",
       "      <td>0</td>\n",
       "      <td>0</td>\n",
       "      <td>107893</td>\n",
       "      <td>147438</td>\n",
       "      <td>0</td>\n",
       "      <td>109426</td>\n",
       "    </tr>\n",
       "    <tr>\n",
       "      <td>F3602</td>\n",
       "      <td>177.0329</td>\n",
       "      <td>30.32</td>\n",
       "      <td>28.20</td>\n",
       "      <td>33.79</td>\n",
       "      <td>3766</td>\n",
       "      <td>1139636</td>\n",
       "      <td>1.00</td>\n",
       "      <td>0.81</td>\n",
       "      <td>24</td>\n",
       "      <td>2</td>\n",
       "      <td>0</td>\n",
       "      <td>0</td>\n",
       "      <td>41861</td>\n",
       "      <td>710052</td>\n",
       "      <td>0</td>\n",
       "      <td>0</td>\n",
       "    </tr>\n",
       "  </tbody>\n",
       "</table>\n",
       "<p>3602 rows × 16 columns</p>\n",
       "</div>"
      ],
      "text/plain": [
       "                 mz   rtime  rtime_left_base  rtime_right_base  \\\n",
       "id_number                                                        \n",
       "F1          95.9735  125.06            83.20            166.12   \n",
       "F2          61.9278   40.94            38.27             41.92   \n",
       "F3         115.9802   11.42             0.54             30.54   \n",
       "F4         115.9860    5.83             0.54             25.49   \n",
       "F5         115.9860   27.96            25.49             30.10   \n",
       "...             ...     ...              ...               ...   \n",
       "F3598      285.1692   30.54            30.10             32.33   \n",
       "F3599      134.1046  104.21            98.34            109.06   \n",
       "F3600      155.0104   35.46            34.03             36.16   \n",
       "F3601      173.0296   19.63            17.98             21.05   \n",
       "F3602      177.0329   30.32            28.20             33.79   \n",
       "\n",
       "           parent_masstrack_id  peak_area  cSelectivity  goodness_fitting  \\\n",
       "id_number                                                                   \n",
       "F1                         276    8230447          0.98              0.61   \n",
       "F2                           0     312476          0.97              0.44   \n",
       "F3                         548   20375423          1.00              0.42   \n",
       "F4                         549   11153489          1.00              0.79   \n",
       "F5                         549    1123274          1.00              0.69   \n",
       "...                        ...        ...           ...               ...   \n",
       "F3598                     4299     424430          1.00              0.54   \n",
       "F3599                     3739     476867          1.00              0.70   \n",
       "F3600                     3754     274424          0.40              0.37   \n",
       "F3601                     3763     326132          1.00              0.60   \n",
       "F3602                     3766    1139636          1.00              0.81   \n",
       "\n",
       "           snr  detection_counts  13C_Ecoli_20220321_004_20220322101150  \\\n",
       "id_number                                                                 \n",
       "F1          10                 6                                1159692   \n",
       "F2          11                 4                                  57714   \n",
       "F3          14                 6                                3326312   \n",
       "F4          26                 6                                1642861   \n",
       "F5          15                 6                                 185255   \n",
       "...        ...               ...                                    ...   \n",
       "F3598       27                 1                                      0   \n",
       "F3599       12                 3                                      0   \n",
       "F3600       10                 0                                      0   \n",
       "F3601       12                 3                                      0   \n",
       "F3602       24                 2                                      0   \n",
       "\n",
       "           12C_Ecoli_20220321_004  12C_Ecoli_20220321_004_20220322095030  \\\n",
       "id_number                                                                  \n",
       "F1                        2079328                                 984349   \n",
       "F2                          42543                                      0   \n",
       "F3                        3362695                                3228128   \n",
       "F4                        2035714                                1739145   \n",
       "F5                         182603                                 219669   \n",
       "...                           ...                                    ...   \n",
       "F3598                           0                                      0   \n",
       "F3599                           0                                 125475   \n",
       "F3600                           0                                      0   \n",
       "F3601                           0                                 107893   \n",
       "F3602                           0                                  41861   \n",
       "\n",
       "           12C_Ecoli_20220321_004_20220322130235  13C_Ecoli_20220321_004  \\\n",
       "id_number                                                                  \n",
       "F1                                       1314348                 1707804   \n",
       "F2                                             0                   43369   \n",
       "F3                                       4076328                 3201740   \n",
       "F4                                       1978764                 1977817   \n",
       "F5                                        248607                  199092   \n",
       "...                                          ...                     ...   \n",
       "F3598                                          0                       0   \n",
       "F3599                                     176741                       0   \n",
       "F3600                                          0                       0   \n",
       "F3601                                     147438                       0   \n",
       "F3602                                     710052                       0   \n",
       "\n",
       "           13C_Ecoli_20220321_004_20220322132355  \n",
       "id_number                                         \n",
       "F1                                       1299125  \n",
       "F2                                         60144  \n",
       "F3                                       3942341  \n",
       "F4                                       2040421  \n",
       "F5                                        185630  \n",
       "...                                          ...  \n",
       "F3598                                     411079  \n",
       "F3599                                     154015  \n",
       "F3600                                          0  \n",
       "F3601                                     109426  \n",
       "F3602                                          0  \n",
       "\n",
       "[3602 rows x 16 columns]"
      ]
     },
     "execution_count": 5,
     "metadata": {},
     "output_type": "execute_result"
    }
   ],
   "source": [
    "asari_table = pd.read_csv(\"ecoli/asari_SZ22_RPpos_full_Feature_table.tsv\", index_col=0, header=0, sep='\\t')\n",
    "asari_table"
   ]
  },
  {
   "cell_type": "code",
   "execution_count": 6,
   "metadata": {},
   "outputs": [
    {
     "name": "stdout",
     "output_type": "stream",
     "text": [
      "3602 {'id_number': 'F6', 'mz': 133.0649, 'rtime': 42.17, 'apex': 42.17}\n"
     ]
    }
   ],
   "source": [
    "list_peaks = read_table_to_peaks(\"ecoli/asari_SZ22_RPpos_full_Feature_table.tsv\", \n",
    "                        has_header=True, mz_col=1, rtime_col=2, feature_id=0,\n",
    "                        full_extract=False,\n",
    "                        delimiter='\\t')\n",
    "print(len(list_peaks), list_peaks[5])"
   ]
  },
  {
   "cell_type": "code",
   "execution_count": 7,
   "metadata": {},
   "outputs": [
    {
     "name": "stdout",
     "output_type": "stream",
     "text": [
      "\n",
      "\n",
      "Annotating empirical compounds on 3602 features/peaks, ...\n",
      "epdsConstructor - numbers of seeded epds and included peaks:  (409, 932)\n"
     ]
    }
   ],
   "source": [
    "ECCON = epdsConstructor(list_peaks, mode='pos')\n",
    "dict_empCpds = ECCON.peaks_to_epdDict(\n",
    "        seed_search_patterns = ECCON.seed_search_patterns, \n",
    "        ext_search_patterns = ECCON.ext_search_patterns,\n",
    "        mz_tolerance_ppm=5, \n",
    "        coelution_function='distance',\n",
    "        check_isotope_ratio = False\n",
    ") "
   ]
  },
  {
   "cell_type": "code",
   "execution_count": 8,
   "metadata": {},
   "outputs": [
    {
     "data": {
      "text/plain": [
       "{'interim_id': 55,\n",
       " 'neutral_formula_mass': None,\n",
       " 'neutral_formula': None,\n",
       " 'Database_referred': [],\n",
       " 'identity': [],\n",
       " 'MS1_pseudo_Spectra': [{'id_number': 'F309',\n",
       "   'mz': 118.9776,\n",
       "   'rtime': 61.52,\n",
       "   'apex': 61.52,\n",
       "   'ion_relation': 'anchor'},\n",
       "  {'id_number': 'F382',\n",
       "   'mz': 119.9807,\n",
       "   'rtime': 60.06,\n",
       "   'apex': 60.06,\n",
       "   'ion_relation': '13C/12C'},\n",
       "  {'id_number': 'F261',\n",
       "   'mz': 136.9883,\n",
       "   'rtime': 54.41,\n",
       "   'apex': 54.41,\n",
       "   'ion_relation': 'anchor,+H2O'},\n",
       "  {'id_number': 'F262',\n",
       "   'mz': 136.9883,\n",
       "   'rtime': 64.01,\n",
       "   'apex': 64.01,\n",
       "   'ion_relation': 'anchor,+H2O'}],\n",
       " 'MS2_Spectra': []}"
      ]
     },
     "execution_count": 8,
     "metadata": {},
     "output_type": "execute_result"
    }
   ],
   "source": [
    "dict_empCpds[55]"
   ]
  },
  {
   "cell_type": "code",
   "execution_count": 9,
   "metadata": {},
   "outputs": [
    {
     "name": "stdout",
     "output_type": "stream",
     "text": [
      "253 ['F15', 'F27', 'F44', 'F45', 'F52']\n"
     ]
    }
   ],
   "source": [
    "use_features, use_epds = [], []\n",
    "for v in dict_empCpds.values():\n",
    "    ion_relations = [x.get('ion_relation', '') for x in v['MS1_pseudo_Spectra']]\n",
    "    if \"13C/12C\" in ion_relations:\n",
    "        use_features.append(v['MS1_pseudo_Spectra'][0]['id_number'])\n",
    "        use_epds.append(v)\n",
    "\n",
    "print(len(use_features), use_features[:5])"
   ]
  },
  {
   "cell_type": "code",
   "execution_count": 10,
   "metadata": {},
   "outputs": [
    {
     "name": "stdout",
     "output_type": "stream",
     "text": [
      "{'13C/12C': 'F96', 'anchor,+H2O': 'F1678'}\n",
      "{'13C/12C': 'F1322'}\n",
      "{'13C/12C': 'F2372', 'Na/H': 'F1325', '13C/12C,39K/H': 'F2124'}\n",
      "{'Na/H': 'F2999', '13C/12C': 'F3046', 'Na/H,Na/H, double charged': 'F3415'}\n",
      "{'H': 'F3261', '13C/12C': 'F3264', '13C/12C,Acetonitrile': 'F3404'}\n",
      "248 [('F15', 'F136'), ('F60', 'F27'), ('F44', 'F79')]\n"
     ]
    }
   ],
   "source": [
    "creds = []\n",
    "for C in use_epds:\n",
    "    d = {}\n",
    "    for peak in C['MS1_pseudo_Spectra']:\n",
    "        d[peak['ion_relation']] = peak['id_number']\n",
    "        \n",
    "    try:\n",
    "        creds.append((d['anchor'], d['13C/12C']))\n",
    "    except KeyError:\n",
    "        print(d)\n",
    "    \n",
    "print(len(creds), creds[:3])"
   ]
  },
  {
   "cell_type": "code",
   "execution_count": 11,
   "metadata": {},
   "outputs": [
    {
     "data": {
      "text/plain": [
       "Index(['mz', 'rtime', 'rtime_left_base', 'rtime_right_base',\n",
       "       'parent_masstrack_id', 'peak_area', 'cSelectivity', 'goodness_fitting',\n",
       "       'snr', 'detection_counts', '13C_Ecoli_20220321_004_20220322101150',\n",
       "       '12C_Ecoli_20220321_004', '12C_Ecoli_20220321_004_20220322095030',\n",
       "       '12C_Ecoli_20220321_004_20220322130235', '13C_Ecoli_20220321_004',\n",
       "       '13C_Ecoli_20220321_004_20220322132355'],\n",
       "      dtype='object')"
      ]
     },
     "execution_count": 11,
     "metadata": {},
     "output_type": "execute_result"
    }
   ],
   "source": [
    "asari_table.columns"
   ]
  },
  {
   "cell_type": "code",
   "execution_count": 12,
   "metadata": {},
   "outputs": [],
   "source": [
    "C12 = ['12C_Ecoli_20220321_004',\n",
    "       '12C_Ecoli_20220321_004_20220322095030',\n",
    "       '12C_Ecoli_20220321_004_20220322130235',]\n",
    "C13 = ['13C_Ecoli_20220321_004',\n",
    "       '13C_Ecoli_20220321_004_20220322101150',\n",
    "       '13C_Ecoli_20220321_004_20220322132355',]"
   ]
  },
  {
   "cell_type": "code",
   "execution_count": 13,
   "metadata": {},
   "outputs": [],
   "source": [
    "pair1 = [x[0] for x in creds]\n",
    "pair2 = [x[1] for x in creds]\n",
    "\n",
    "data1 = asari_table[C12 + C13].loc[pair1, :]\n",
    "data2 = asari_table[C12 + C13].loc[pair2, :]\n",
    "\n",
    "# data1 have 12C peaks in all 6 samples; data2 13C"
   ]
  },
  {
   "cell_type": "markdown",
   "metadata": {},
   "source": [
    "## select credentialed features\n",
    "\n",
    "In Mahieu et al 2014, the samples were mixed at specific ratios.\n",
    "\n",
    "Our 12C and 13C samples were analyzed separately.\n",
    "\n",
    "to call a credentialed feature, we require \n",
    "- (Feature_13C_unlabeled: Feature_12C_unlabeled) <= 1 (= because both can be missing)\n",
    "- (Feature_13C_labeled: Feature_12C_labeled)/(Feature_13C_unlabeled: Feature_12C_unlabeled) > 2\n",
    "\n",
    "\n"
   ]
  },
  {
   "cell_type": "code",
   "execution_count": 14,
   "metadata": {},
   "outputs": [],
   "source": [
    "data1.to_csv(\"data1.tsv\", sep=\"\\t\")\n",
    "data2.to_csv(\"data2.tsv\", sep=\"\\t\")"
   ]
  },
  {
   "cell_type": "code",
   "execution_count": 18,
   "metadata": {},
   "outputs": [
    {
     "data": {
      "text/html": [
       "<div>\n",
       "<style scoped>\n",
       "    .dataframe tbody tr th:only-of-type {\n",
       "        vertical-align: middle;\n",
       "    }\n",
       "\n",
       "    .dataframe tbody tr th {\n",
       "        vertical-align: top;\n",
       "    }\n",
       "\n",
       "    .dataframe thead th {\n",
       "        text-align: right;\n",
       "    }\n",
       "</style>\n",
       "<table border=\"1\" class=\"dataframe\">\n",
       "  <thead>\n",
       "    <tr style=\"text-align: right;\">\n",
       "      <th></th>\n",
       "      <th>12C_Ecoli_20220321_004</th>\n",
       "      <th>12C_Ecoli_20220321_004_20220322095030</th>\n",
       "      <th>12C_Ecoli_20220321_004_20220322130235</th>\n",
       "      <th>13C_Ecoli_20220321_004</th>\n",
       "      <th>13C_Ecoli_20220321_004_20220322101150</th>\n",
       "      <th>13C_Ecoli_20220321_004_20220322132355</th>\n",
       "      <th>12C_Ecoli_a</th>\n",
       "      <th>12C_Ecoli_b</th>\n",
       "      <th>12C_Ecoli_c</th>\n",
       "      <th>13C_Ecoli_a</th>\n",
       "      <th>13C_Ecoli_b</th>\n",
       "      <th>13C_Ecoli_c</th>\n",
       "      <th>detection_counts</th>\n",
       "    </tr>\n",
       "    <tr>\n",
       "      <th>id_number</th>\n",
       "      <th></th>\n",
       "      <th></th>\n",
       "      <th></th>\n",
       "      <th></th>\n",
       "      <th></th>\n",
       "      <th></th>\n",
       "      <th></th>\n",
       "      <th></th>\n",
       "      <th></th>\n",
       "      <th></th>\n",
       "      <th></th>\n",
       "      <th></th>\n",
       "      <th></th>\n",
       "    </tr>\n",
       "  </thead>\n",
       "  <tbody>\n",
       "    <tr>\n",
       "      <td>F44</td>\n",
       "      <td>151998387</td>\n",
       "      <td>159288756</td>\n",
       "      <td>137455404</td>\n",
       "      <td>161488773</td>\n",
       "      <td>152909184</td>\n",
       "      <td>137151280</td>\n",
       "      <td>125199</td>\n",
       "      <td>301853</td>\n",
       "      <td>217885</td>\n",
       "      <td>72210</td>\n",
       "      <td>152668</td>\n",
       "      <td>167346</td>\n",
       "      <td>12</td>\n",
       "    </tr>\n",
       "    <tr>\n",
       "      <td>F45</td>\n",
       "      <td>53221677</td>\n",
       "      <td>84354887</td>\n",
       "      <td>77646261</td>\n",
       "      <td>20481890</td>\n",
       "      <td>21381814</td>\n",
       "      <td>20919628</td>\n",
       "      <td>1848384</td>\n",
       "      <td>183515</td>\n",
       "      <td>2088978</td>\n",
       "      <td>120561</td>\n",
       "      <td>184393</td>\n",
       "      <td>190855</td>\n",
       "      <td>12</td>\n",
       "    </tr>\n",
       "    <tr>\n",
       "      <td>F72</td>\n",
       "      <td>1719283462</td>\n",
       "      <td>1488674573</td>\n",
       "      <td>1010324382</td>\n",
       "      <td>1811272395</td>\n",
       "      <td>1363333313</td>\n",
       "      <td>978051854</td>\n",
       "      <td>2211725</td>\n",
       "      <td>1625797</td>\n",
       "      <td>1682689</td>\n",
       "      <td>2134514</td>\n",
       "      <td>1595910</td>\n",
       "      <td>1693058</td>\n",
       "      <td>12</td>\n",
       "    </tr>\n",
       "    <tr>\n",
       "      <td>F76</td>\n",
       "      <td>387642</td>\n",
       "      <td>372886</td>\n",
       "      <td>362583</td>\n",
       "      <td>397482</td>\n",
       "      <td>324959</td>\n",
       "      <td>390103</td>\n",
       "      <td>1918801</td>\n",
       "      <td>2178378</td>\n",
       "      <td>1835371</td>\n",
       "      <td>2132995</td>\n",
       "      <td>2321761</td>\n",
       "      <td>2018808</td>\n",
       "      <td>12</td>\n",
       "    </tr>\n",
       "    <tr>\n",
       "      <td>F77</td>\n",
       "      <td>176706</td>\n",
       "      <td>1422483</td>\n",
       "      <td>807810</td>\n",
       "      <td>194714</td>\n",
       "      <td>166123</td>\n",
       "      <td>114366</td>\n",
       "      <td>799491</td>\n",
       "      <td>1613574</td>\n",
       "      <td>2222528</td>\n",
       "      <td>760287</td>\n",
       "      <td>460771</td>\n",
       "      <td>248471</td>\n",
       "      <td>12</td>\n",
       "    </tr>\n",
       "    <tr>\n",
       "      <td>...</td>\n",
       "      <td>...</td>\n",
       "      <td>...</td>\n",
       "      <td>...</td>\n",
       "      <td>...</td>\n",
       "      <td>...</td>\n",
       "      <td>...</td>\n",
       "      <td>...</td>\n",
       "      <td>...</td>\n",
       "      <td>...</td>\n",
       "      <td>...</td>\n",
       "      <td>...</td>\n",
       "      <td>...</td>\n",
       "      <td>...</td>\n",
       "    </tr>\n",
       "    <tr>\n",
       "      <td>F2886</td>\n",
       "      <td>5568288</td>\n",
       "      <td>1205098</td>\n",
       "      <td>1433741</td>\n",
       "      <td>4758047</td>\n",
       "      <td>1193449</td>\n",
       "      <td>1560575</td>\n",
       "      <td>609337</td>\n",
       "      <td>148114</td>\n",
       "      <td>146678</td>\n",
       "      <td>498886</td>\n",
       "      <td>140562</td>\n",
       "      <td>189704</td>\n",
       "      <td>12</td>\n",
       "    </tr>\n",
       "    <tr>\n",
       "      <td>F2923</td>\n",
       "      <td>282180</td>\n",
       "      <td>285904</td>\n",
       "      <td>255256</td>\n",
       "      <td>288224</td>\n",
       "      <td>294914</td>\n",
       "      <td>304948</td>\n",
       "      <td>441462</td>\n",
       "      <td>464202</td>\n",
       "      <td>518981</td>\n",
       "      <td>439253</td>\n",
       "      <td>396505</td>\n",
       "      <td>529441</td>\n",
       "      <td>12</td>\n",
       "    </tr>\n",
       "    <tr>\n",
       "      <td>F3041</td>\n",
       "      <td>923579</td>\n",
       "      <td>972898</td>\n",
       "      <td>1088808</td>\n",
       "      <td>906066</td>\n",
       "      <td>953567</td>\n",
       "      <td>1125138</td>\n",
       "      <td>1465321</td>\n",
       "      <td>1273356</td>\n",
       "      <td>1610692</td>\n",
       "      <td>1323812</td>\n",
       "      <td>1264131</td>\n",
       "      <td>1672011</td>\n",
       "      <td>12</td>\n",
       "    </tr>\n",
       "    <tr>\n",
       "      <td>F3392</td>\n",
       "      <td>4131422</td>\n",
       "      <td>366937</td>\n",
       "      <td>3521334</td>\n",
       "      <td>2330501</td>\n",
       "      <td>2651044</td>\n",
       "      <td>3867100</td>\n",
       "      <td>3643265</td>\n",
       "      <td>2301435</td>\n",
       "      <td>2259312</td>\n",
       "      <td>3186833</td>\n",
       "      <td>2652404</td>\n",
       "      <td>2287518</td>\n",
       "      <td>12</td>\n",
       "    </tr>\n",
       "    <tr>\n",
       "      <td>F3478</td>\n",
       "      <td>309274</td>\n",
       "      <td>340479</td>\n",
       "      <td>355981</td>\n",
       "      <td>373365</td>\n",
       "      <td>311167</td>\n",
       "      <td>373483</td>\n",
       "      <td>1199685</td>\n",
       "      <td>994250</td>\n",
       "      <td>1345220</td>\n",
       "      <td>1146557</td>\n",
       "      <td>1029678</td>\n",
       "      <td>1334896</td>\n",
       "      <td>12</td>\n",
       "    </tr>\n",
       "  </tbody>\n",
       "</table>\n",
       "<p>69 rows × 13 columns</p>\n",
       "</div>"
      ],
      "text/plain": [
       "           12C_Ecoli_20220321_004  12C_Ecoli_20220321_004_20220322095030  \\\n",
       "id_number                                                                  \n",
       "F44                     151998387                              159288756   \n",
       "F45                      53221677                               84354887   \n",
       "F72                    1719283462                             1488674573   \n",
       "F76                        387642                                 372886   \n",
       "F77                        176706                                1422483   \n",
       "...                           ...                                    ...   \n",
       "F2886                     5568288                                1205098   \n",
       "F2923                      282180                                 285904   \n",
       "F3041                      923579                                 972898   \n",
       "F3392                     4131422                                 366937   \n",
       "F3478                      309274                                 340479   \n",
       "\n",
       "           12C_Ecoli_20220321_004_20220322130235  13C_Ecoli_20220321_004  \\\n",
       "id_number                                                                  \n",
       "F44                                    137455404               161488773   \n",
       "F45                                     77646261                20481890   \n",
       "F72                                   1010324382              1811272395   \n",
       "F76                                       362583                  397482   \n",
       "F77                                       807810                  194714   \n",
       "...                                          ...                     ...   \n",
       "F2886                                    1433741                 4758047   \n",
       "F2923                                     255256                  288224   \n",
       "F3041                                    1088808                  906066   \n",
       "F3392                                    3521334                 2330501   \n",
       "F3478                                     355981                  373365   \n",
       "\n",
       "           13C_Ecoli_20220321_004_20220322101150  \\\n",
       "id_number                                          \n",
       "F44                                    152909184   \n",
       "F45                                     21381814   \n",
       "F72                                   1363333313   \n",
       "F76                                       324959   \n",
       "F77                                       166123   \n",
       "...                                          ...   \n",
       "F2886                                    1193449   \n",
       "F2923                                     294914   \n",
       "F3041                                     953567   \n",
       "F3392                                    2651044   \n",
       "F3478                                     311167   \n",
       "\n",
       "           13C_Ecoli_20220321_004_20220322132355  12C_Ecoli_a  12C_Ecoli_b  \\\n",
       "id_number                                                                    \n",
       "F44                                    137151280       125199       301853   \n",
       "F45                                     20919628      1848384       183515   \n",
       "F72                                    978051854      2211725      1625797   \n",
       "F76                                       390103      1918801      2178378   \n",
       "F77                                       114366       799491      1613574   \n",
       "...                                          ...          ...          ...   \n",
       "F2886                                    1560575       609337       148114   \n",
       "F2923                                     304948       441462       464202   \n",
       "F3041                                    1125138      1465321      1273356   \n",
       "F3392                                    3867100      3643265      2301435   \n",
       "F3478                                     373483      1199685       994250   \n",
       "\n",
       "           12C_Ecoli_c  13C_Ecoli_a  13C_Ecoli_b  13C_Ecoli_c  \\\n",
       "id_number                                                       \n",
       "F44             217885        72210       152668       167346   \n",
       "F45            2088978       120561       184393       190855   \n",
       "F72            1682689      2134514      1595910      1693058   \n",
       "F76            1835371      2132995      2321761      2018808   \n",
       "F77            2222528       760287       460771       248471   \n",
       "...                ...          ...          ...          ...   \n",
       "F2886           146678       498886       140562       189704   \n",
       "F2923           518981       439253       396505       529441   \n",
       "F3041          1610692      1323812      1264131      1672011   \n",
       "F3392          2259312      3186833      2652404      2287518   \n",
       "F3478          1345220      1146557      1029678      1334896   \n",
       "\n",
       "           detection_counts  \n",
       "id_number                    \n",
       "F44                      12  \n",
       "F45                      12  \n",
       "F72                      12  \n",
       "F76                      12  \n",
       "F77                      12  \n",
       "...                     ...  \n",
       "F2886                    12  \n",
       "F2923                    12  \n",
       "F3041                    12  \n",
       "F3392                    12  \n",
       "F3478                    12  \n",
       "\n",
       "[69 rows x 13 columns]"
      ]
     },
     "execution_count": 18,
     "metadata": {},
     "output_type": "execute_result"
    }
   ],
   "source": [
    "# Manually edited two tables into one: ecoli/asari_cred.tsv\n",
    "\n",
    "Ndata = pd.read_csv('ecoli/asari_cred.tsv', index_col=0, header=0, sep=\"\\t\")\n",
    "\n",
    "count = Ndata[Ndata>1].count(axis='columns')\n",
    "Ndata['detection_counts'] = count\n",
    "\n",
    "Ndata = Ndata[Ndata['detection_counts'] > 11]\n",
    "\n",
    "Ndata"
   ]
  },
  {
   "cell_type": "code",
   "execution_count": 19,
   "metadata": {},
   "outputs": [],
   "source": [
    "# Ndata = Ndata.fillna(0)"
   ]
  },
  {
   "cell_type": "code",
   "execution_count": 20,
   "metadata": {},
   "outputs": [
    {
     "data": {
      "text/plain": [
       "Index(['12C_Ecoli_20220321_004', '12C_Ecoli_20220321_004_20220322095030',\n",
       "       '12C_Ecoli_20220321_004_20220322130235'],\n",
       "      dtype='object')"
      ]
     },
     "execution_count": 20,
     "metadata": {},
     "output_type": "execute_result"
    }
   ],
   "source": [
    "Ndata.columns[:3]"
   ]
  },
  {
   "cell_type": "code",
   "execution_count": 21,
   "metadata": {},
   "outputs": [],
   "source": [
    "# ratio calculation\n",
    "\n",
    "FF = 100   # Add a stablizing number, because ratio calculation is unreliable when peak intensities are low.\n",
    "\n",
    "GA = Ndata.columns[9:12]  #13 peaks in labeled samples\n",
    "GB = Ndata.columns[3:6 ]\n",
    "ratios13 = []\n",
    "\n",
    "GA12 = Ndata.columns[6:9] #13 peaks in unlabeled samples\n",
    "GB12 = Ndata.columns[:3]   \n",
    "\n",
    "ratios12 = [] \n",
    "RRS = []\n",
    "\n",
    "for index, row in Ndata.iterrows():\n",
    "    a = sum(row[GA12] + FF)/ sum(row[GB12] + FF)\n",
    "    b = sum(row[GA] + FF)/ sum(row[GB] + FF)\n",
    "    ratios12.append( a )\n",
    "    ratios13.append( b )\n",
    "    RRS.append(b/a)\n",
    "    \n",
    "    \n",
    "Ndata['ratios_unlabeled'] = ratios12\n",
    "Ndata['ratios_labeled'] = ratios13\n",
    "Ndata['RRS'] = RRS\n",
    "\n",
    "Ndata.to_csv(\"ratios_asari_RPpos_creds.csv\")\n",
    "\n",
    "\n"
   ]
  },
  {
   "cell_type": "code",
   "execution_count": 23,
   "metadata": {},
   "outputs": [],
   "source": [
    "# Got 143 credentialed features \n",
    "# Manually retrieved from spreadsheet.\n",
    "\n",
    "cDict = dict(creds)"
   ]
  },
  {
   "cell_type": "code",
   "execution_count": 24,
   "metadata": {},
   "outputs": [],
   "source": [
    "asari_features = \"\"\"F1101\n",
    "F273\n",
    "F2713\n",
    "F1597\n",
    "F1447\n",
    "F1446\n",
    "F609\n",
    "F186\n",
    "F1490\n",
    "F2409\n",
    "F2357\n",
    "F1210\n",
    "F1465\n",
    "F1445\n",
    "F524\n",
    "F1136\n",
    "F1106\n",
    "F974\n",
    "F1923\n",
    "F198\n",
    "F788\n",
    "F1737\n",
    "F848\n",
    "F2869\n",
    "F2050\n",
    "F1326\n",
    "F1518\n",
    "F1779\n",
    "F497\n",
    "F2886\"\"\".split()\n",
    "\n",
    "# then get the 13C partners\n",
    "\n",
    "all_asari_cred = []\n",
    "for x in asari_features:\n",
    "    all_asari_cred += [x, cDict[x]]\n",
    "    "
   ]
  },
  {
   "cell_type": "code",
   "execution_count": 25,
   "metadata": {},
   "outputs": [
    {
     "data": {
      "text/plain": [
       "(60, ['F1101', 'F27', 'F273', 'F346', 'F2713', 'F2718', 'F1597', 'F1676'])"
      ]
     },
     "execution_count": 25,
     "metadata": {},
     "output_type": "execute_result"
    }
   ],
   "source": [
    "len(all_asari_cred), all_asari_cred[:8]"
   ]
  },
  {
   "cell_type": "markdown",
   "metadata": {},
   "source": [
    "## We got 60 credentialed features in asari result\n",
    "\n",
    "Now onto XCMS result"
   ]
  },
  {
   "cell_type": "code",
   "execution_count": 26,
   "metadata": {},
   "outputs": [
    {
     "data": {
      "text/html": [
       "<div>\n",
       "<style scoped>\n",
       "    .dataframe tbody tr th:only-of-type {\n",
       "        vertical-align: middle;\n",
       "    }\n",
       "\n",
       "    .dataframe tbody tr th {\n",
       "        vertical-align: top;\n",
       "    }\n",
       "\n",
       "    .dataframe thead th {\n",
       "        text-align: right;\n",
       "    }\n",
       "</style>\n",
       "<table border=\"1\" class=\"dataframe\">\n",
       "  <thead>\n",
       "    <tr style=\"text-align: right;\">\n",
       "      <th></th>\n",
       "      <th>mzmed</th>\n",
       "      <th>mzmin</th>\n",
       "      <th>mzmax</th>\n",
       "      <th>rtmed</th>\n",
       "      <th>rtmin</th>\n",
       "      <th>rtmax</th>\n",
       "      <th>npeaks</th>\n",
       "      <th>X12C_Ecoli_20220321_004_20220322095030.mzML</th>\n",
       "      <th>X12C_Ecoli_20220321_004_20220322130235.mzML</th>\n",
       "      <th>X12C_Ecoli_20220321_004.mzML</th>\n",
       "      <th>X13C_Ecoli_20220321_004_20220322101150.mzML</th>\n",
       "      <th>X13C_Ecoli_20220321_004_20220322132355.mzML</th>\n",
       "      <th>X13C_Ecoli_20220321_004.mzML</th>\n",
       "    </tr>\n",
       "  </thead>\n",
       "  <tbody>\n",
       "    <tr>\n",
       "      <td>FT0001</td>\n",
       "      <td>61.927787</td>\n",
       "      <td>61.927787</td>\n",
       "      <td>61.927787</td>\n",
       "      <td>17.251722</td>\n",
       "      <td>17.251722</td>\n",
       "      <td>17.251722</td>\n",
       "      <td>1</td>\n",
       "      <td>7123.804449</td>\n",
       "      <td>0.000000</td>\n",
       "      <td>0.000000</td>\n",
       "      <td>0.000000</td>\n",
       "      <td>0.000000</td>\n",
       "      <td>0.000000</td>\n",
       "    </tr>\n",
       "    <tr>\n",
       "      <td>FT0002</td>\n",
       "      <td>62.051181</td>\n",
       "      <td>62.051181</td>\n",
       "      <td>62.051181</td>\n",
       "      <td>24.452236</td>\n",
       "      <td>24.452236</td>\n",
       "      <td>24.452236</td>\n",
       "      <td>1</td>\n",
       "      <td>0.000000</td>\n",
       "      <td>0.000000</td>\n",
       "      <td>0.000000</td>\n",
       "      <td>17185.875523</td>\n",
       "      <td>0.000000</td>\n",
       "      <td>0.000000</td>\n",
       "    </tr>\n",
       "    <tr>\n",
       "      <td>FT0003</td>\n",
       "      <td>62.098197</td>\n",
       "      <td>62.098159</td>\n",
       "      <td>62.098216</td>\n",
       "      <td>29.940554</td>\n",
       "      <td>29.775288</td>\n",
       "      <td>30.043172</td>\n",
       "      <td>3</td>\n",
       "      <td>28506.908086</td>\n",
       "      <td>0.000000</td>\n",
       "      <td>25227.421208</td>\n",
       "      <td>16494.047689</td>\n",
       "      <td>0.000000</td>\n",
       "      <td>0.000000</td>\n",
       "    </tr>\n",
       "    <tr>\n",
       "      <td>FT0004</td>\n",
       "      <td>65.010928</td>\n",
       "      <td>65.010928</td>\n",
       "      <td>65.010928</td>\n",
       "      <td>18.212740</td>\n",
       "      <td>18.212740</td>\n",
       "      <td>18.212740</td>\n",
       "      <td>1</td>\n",
       "      <td>8136.009134</td>\n",
       "      <td>0.000000</td>\n",
       "      <td>0.000000</td>\n",
       "      <td>0.000000</td>\n",
       "      <td>0.000000</td>\n",
       "      <td>0.000000</td>\n",
       "    </tr>\n",
       "    <tr>\n",
       "      <td>FT0005</td>\n",
       "      <td>66.033868</td>\n",
       "      <td>66.033842</td>\n",
       "      <td>66.033894</td>\n",
       "      <td>131.768318</td>\n",
       "      <td>129.254333</td>\n",
       "      <td>134.282303</td>\n",
       "      <td>2</td>\n",
       "      <td>69965.485464</td>\n",
       "      <td>0.000000</td>\n",
       "      <td>0.000000</td>\n",
       "      <td>0.000000</td>\n",
       "      <td>0.000000</td>\n",
       "      <td>66028.965148</td>\n",
       "    </tr>\n",
       "    <tr>\n",
       "      <td>...</td>\n",
       "      <td>...</td>\n",
       "      <td>...</td>\n",
       "      <td>...</td>\n",
       "      <td>...</td>\n",
       "      <td>...</td>\n",
       "      <td>...</td>\n",
       "      <td>...</td>\n",
       "      <td>...</td>\n",
       "      <td>...</td>\n",
       "      <td>...</td>\n",
       "      <td>...</td>\n",
       "      <td>...</td>\n",
       "      <td>...</td>\n",
       "    </tr>\n",
       "    <tr>\n",
       "      <td>FT4750</td>\n",
       "      <td>702.211924</td>\n",
       "      <td>702.211924</td>\n",
       "      <td>702.211924</td>\n",
       "      <td>212.114914</td>\n",
       "      <td>212.114914</td>\n",
       "      <td>212.114914</td>\n",
       "      <td>1</td>\n",
       "      <td>0.000000</td>\n",
       "      <td>4067.282716</td>\n",
       "      <td>0.000000</td>\n",
       "      <td>0.000000</td>\n",
       "      <td>0.000000</td>\n",
       "      <td>0.000000</td>\n",
       "    </tr>\n",
       "    <tr>\n",
       "      <td>FT4751</td>\n",
       "      <td>758.569022</td>\n",
       "      <td>758.569022</td>\n",
       "      <td>758.569022</td>\n",
       "      <td>196.320267</td>\n",
       "      <td>196.320267</td>\n",
       "      <td>196.320267</td>\n",
       "      <td>1</td>\n",
       "      <td>0.000000</td>\n",
       "      <td>19375.677032</td>\n",
       "      <td>0.000000</td>\n",
       "      <td>0.000000</td>\n",
       "      <td>0.000000</td>\n",
       "      <td>0.000000</td>\n",
       "    </tr>\n",
       "    <tr>\n",
       "      <td>FT4752</td>\n",
       "      <td>759.572589</td>\n",
       "      <td>759.572589</td>\n",
       "      <td>759.572589</td>\n",
       "      <td>196.320267</td>\n",
       "      <td>196.320267</td>\n",
       "      <td>196.320267</td>\n",
       "      <td>1</td>\n",
       "      <td>0.000000</td>\n",
       "      <td>8437.890509</td>\n",
       "      <td>0.000000</td>\n",
       "      <td>0.000000</td>\n",
       "      <td>0.000000</td>\n",
       "      <td>0.000000</td>\n",
       "    </tr>\n",
       "    <tr>\n",
       "      <td>FT4753</td>\n",
       "      <td>774.562487</td>\n",
       "      <td>774.562487</td>\n",
       "      <td>774.562487</td>\n",
       "      <td>195.012543</td>\n",
       "      <td>195.012543</td>\n",
       "      <td>195.012543</td>\n",
       "      <td>1</td>\n",
       "      <td>0.000000</td>\n",
       "      <td>0.000000</td>\n",
       "      <td>0.000000</td>\n",
       "      <td>4841.619461</td>\n",
       "      <td>0.000000</td>\n",
       "      <td>0.000000</td>\n",
       "    </tr>\n",
       "    <tr>\n",
       "      <td>FT4754</td>\n",
       "      <td>782.568440</td>\n",
       "      <td>782.568440</td>\n",
       "      <td>782.568440</td>\n",
       "      <td>196.405899</td>\n",
       "      <td>196.405899</td>\n",
       "      <td>196.405899</td>\n",
       "      <td>1</td>\n",
       "      <td>0.000000</td>\n",
       "      <td>0.000000</td>\n",
       "      <td>0.000000</td>\n",
       "      <td>0.000000</td>\n",
       "      <td>22542.738521</td>\n",
       "      <td>0.000000</td>\n",
       "    </tr>\n",
       "  </tbody>\n",
       "</table>\n",
       "<p>4754 rows × 13 columns</p>\n",
       "</div>"
      ],
      "text/plain": [
       "             mzmed       mzmin       mzmax       rtmed       rtmin  \\\n",
       "FT0001   61.927787   61.927787   61.927787   17.251722   17.251722   \n",
       "FT0002   62.051181   62.051181   62.051181   24.452236   24.452236   \n",
       "FT0003   62.098197   62.098159   62.098216   29.940554   29.775288   \n",
       "FT0004   65.010928   65.010928   65.010928   18.212740   18.212740   \n",
       "FT0005   66.033868   66.033842   66.033894  131.768318  129.254333   \n",
       "...            ...         ...         ...         ...         ...   \n",
       "FT4750  702.211924  702.211924  702.211924  212.114914  212.114914   \n",
       "FT4751  758.569022  758.569022  758.569022  196.320267  196.320267   \n",
       "FT4752  759.572589  759.572589  759.572589  196.320267  196.320267   \n",
       "FT4753  774.562487  774.562487  774.562487  195.012543  195.012543   \n",
       "FT4754  782.568440  782.568440  782.568440  196.405899  196.405899   \n",
       "\n",
       "             rtmax  npeaks  X12C_Ecoli_20220321_004_20220322095030.mzML  \\\n",
       "FT0001   17.251722       1                                  7123.804449   \n",
       "FT0002   24.452236       1                                     0.000000   \n",
       "FT0003   30.043172       3                                 28506.908086   \n",
       "FT0004   18.212740       1                                  8136.009134   \n",
       "FT0005  134.282303       2                                 69965.485464   \n",
       "...            ...     ...                                          ...   \n",
       "FT4750  212.114914       1                                     0.000000   \n",
       "FT4751  196.320267       1                                     0.000000   \n",
       "FT4752  196.320267       1                                     0.000000   \n",
       "FT4753  195.012543       1                                     0.000000   \n",
       "FT4754  196.405899       1                                     0.000000   \n",
       "\n",
       "        X12C_Ecoli_20220321_004_20220322130235.mzML  \\\n",
       "FT0001                                     0.000000   \n",
       "FT0002                                     0.000000   \n",
       "FT0003                                     0.000000   \n",
       "FT0004                                     0.000000   \n",
       "FT0005                                     0.000000   \n",
       "...                                             ...   \n",
       "FT4750                                  4067.282716   \n",
       "FT4751                                 19375.677032   \n",
       "FT4752                                  8437.890509   \n",
       "FT4753                                     0.000000   \n",
       "FT4754                                     0.000000   \n",
       "\n",
       "        X12C_Ecoli_20220321_004.mzML  \\\n",
       "FT0001                      0.000000   \n",
       "FT0002                      0.000000   \n",
       "FT0003                  25227.421208   \n",
       "FT0004                      0.000000   \n",
       "FT0005                      0.000000   \n",
       "...                              ...   \n",
       "FT4750                      0.000000   \n",
       "FT4751                      0.000000   \n",
       "FT4752                      0.000000   \n",
       "FT4753                      0.000000   \n",
       "FT4754                      0.000000   \n",
       "\n",
       "        X13C_Ecoli_20220321_004_20220322101150.mzML  \\\n",
       "FT0001                                     0.000000   \n",
       "FT0002                                 17185.875523   \n",
       "FT0003                                 16494.047689   \n",
       "FT0004                                     0.000000   \n",
       "FT0005                                     0.000000   \n",
       "...                                             ...   \n",
       "FT4750                                     0.000000   \n",
       "FT4751                                     0.000000   \n",
       "FT4752                                     0.000000   \n",
       "FT4753                                  4841.619461   \n",
       "FT4754                                     0.000000   \n",
       "\n",
       "        X13C_Ecoli_20220321_004_20220322132355.mzML  \\\n",
       "FT0001                                     0.000000   \n",
       "FT0002                                     0.000000   \n",
       "FT0003                                     0.000000   \n",
       "FT0004                                     0.000000   \n",
       "FT0005                                     0.000000   \n",
       "...                                             ...   \n",
       "FT4750                                     0.000000   \n",
       "FT4751                                     0.000000   \n",
       "FT4752                                     0.000000   \n",
       "FT4753                                     0.000000   \n",
       "FT4754                                 22542.738521   \n",
       "\n",
       "        X13C_Ecoli_20220321_004.mzML  \n",
       "FT0001                      0.000000  \n",
       "FT0002                      0.000000  \n",
       "FT0003                      0.000000  \n",
       "FT0004                      0.000000  \n",
       "FT0005                  66028.965148  \n",
       "...                              ...  \n",
       "FT4750                      0.000000  \n",
       "FT4751                      0.000000  \n",
       "FT4752                      0.000000  \n",
       "FT4753                      0.000000  \n",
       "FT4754                      0.000000  \n",
       "\n",
       "[4754 rows x 13 columns]"
      ]
     },
     "execution_count": 26,
     "metadata": {},
     "output_type": "execute_result"
    }
   ],
   "source": [
    "xcms_table = pd.read_csv(\"ecoli/SZ22_RPpos_XCMS_featureTable.csv\", index_col=0, header=0,)\n",
    "xcms_table = xcms_table.fillna(0)\n",
    "xcms_table"
   ]
  },
  {
   "cell_type": "code",
   "execution_count": 27,
   "metadata": {},
   "outputs": [
    {
     "name": "stdout",
     "output_type": "stream",
     "text": [
      "4754 {'id_number': '\"FT0006\"', 'mz': 66.0338189315886, 'rtime': 149.593322753906, 'apex': 149.593322753906}\n"
     ]
    }
   ],
   "source": [
    "list_peaks2 = read_table_to_peaks(\"ecoli/SZ22_RPpos_XCMS_featureTable.csv\", \n",
    "                        has_header=True, mz_col=1, rtime_col=4, feature_id=0,\n",
    "                        full_extract=False,\n",
    "                        delimiter=',')\n",
    "print(len(list_peaks2), list_peaks2[5])"
   ]
  },
  {
   "cell_type": "code",
   "execution_count": 28,
   "metadata": {},
   "outputs": [
    {
     "name": "stdout",
     "output_type": "stream",
     "text": [
      "\n",
      "\n",
      "Annotating empirical compounds on 4754 features/peaks, ...\n",
      "epdsConstructor - numbers of seeded epds and included peaks:  (775, 1699)\n"
     ]
    }
   ],
   "source": [
    "ECCON = epdsConstructor(list_peaks2, mode='pos')\n",
    "dict_empCpds2 = ECCON.peaks_to_epdDict(\n",
    "        seed_search_patterns = ECCON.seed_search_patterns, \n",
    "        ext_search_patterns = ECCON.ext_search_patterns,\n",
    "        mz_tolerance_ppm=5, \n",
    "        coelution_function='distance',\n",
    "        check_isotope_ratio = False\n",
    ") "
   ]
  },
  {
   "cell_type": "code",
   "execution_count": 29,
   "metadata": {},
   "outputs": [
    {
     "data": {
      "text/plain": [
       "{'interim_id': 55,\n",
       " 'neutral_formula_mass': None,\n",
       " 'neutral_formula': None,\n",
       " 'Database_referred': [],\n",
       " 'identity': [],\n",
       " 'MS1_pseudo_Spectra': [{'id_number': '\"FT0498\"',\n",
       "   'mz': 102.009186260366,\n",
       "   'rtime': 18.3397682520635,\n",
       "   'apex': 18.3397682520635,\n",
       "   'ion_relation': 'anchor'},\n",
       "  {'id_number': '\"FT0520\"',\n",
       "   'mz': 103.012589253303,\n",
       "   'rtime': 18.953092717103,\n",
       "   'apex': 18.953092717103,\n",
       "   'ion_relation': '13C/12C'},\n",
       "  {'id_number': '\"FT0700\"',\n",
       "   'mz': 114.003707942245,\n",
       "   'rtime': 17.596471786499,\n",
       "   'apex': 17.596471786499,\n",
       "   'ion_relation': '13C/12C,Na/H, double charged'}],\n",
       " 'MS2_Spectra': []}"
      ]
     },
     "execution_count": 29,
     "metadata": {},
     "output_type": "execute_result"
    }
   ],
   "source": [
    "dict_empCpds2[55]"
   ]
  },
  {
   "cell_type": "code",
   "execution_count": 30,
   "metadata": {},
   "outputs": [
    {
     "name": "stdout",
     "output_type": "stream",
     "text": [
      "477 ['\"FT0026\"', '\"FT0040\"', '\"FT0047\"', '\"FT0072\"', '\"FT0081\"']\n"
     ]
    }
   ],
   "source": [
    "use_features, use_epds = [], []\n",
    "for v in dict_empCpds2.values():\n",
    "    ion_relations = [x.get('ion_relation', '') for x in v['MS1_pseudo_Spectra']]\n",
    "    if \"13C/12C\" in ion_relations:\n",
    "        use_features.append(v['MS1_pseudo_Spectra'][0]['id_number'])\n",
    "        use_epds.append(v)\n",
    "\n",
    "print(len(use_features), use_features[:5])"
   ]
  },
  {
   "cell_type": "code",
   "execution_count": 31,
   "metadata": {},
   "outputs": [
    {
     "name": "stdout",
     "output_type": "stream",
     "text": [
      "477 [('FT0026', 'FT0036'), ('FT0040', 'FT0048'), ('FT0047', 'FT0057')]\n"
     ]
    }
   ],
   "source": [
    "xcreds = []\n",
    "for C in use_epds:\n",
    "    d = {}\n",
    "    for peak in C['MS1_pseudo_Spectra']:\n",
    "        d[peak['ion_relation']] = peak['id_number']\n",
    "        \n",
    "    try:\n",
    "        xcreds.append((d['anchor'].replace('\"', ''), d['13C/12C'].replace('\"', '')))\n",
    "    except KeyError:\n",
    "        print(d)\n",
    "    \n",
    "print(len(xcreds), xcreds[:3])"
   ]
  },
  {
   "cell_type": "code",
   "execution_count": 32,
   "metadata": {},
   "outputs": [
    {
     "data": {
      "text/plain": [
       "Index(['mzmed', 'mzmin', 'mzmax', 'rtmed', 'rtmin', 'rtmax', 'npeaks',\n",
       "       'X12C_Ecoli_20220321_004_20220322095030.mzML',\n",
       "       'X12C_Ecoli_20220321_004_20220322130235.mzML',\n",
       "       'X12C_Ecoli_20220321_004.mzML',\n",
       "       'X13C_Ecoli_20220321_004_20220322101150.mzML',\n",
       "       'X13C_Ecoli_20220321_004_20220322132355.mzML',\n",
       "       'X13C_Ecoli_20220321_004.mzML'],\n",
       "      dtype='object')"
      ]
     },
     "execution_count": 32,
     "metadata": {},
     "output_type": "execute_result"
    }
   ],
   "source": [
    "xcms_table.columns"
   ]
  },
  {
   "cell_type": "code",
   "execution_count": 33,
   "metadata": {},
   "outputs": [],
   "source": [
    "C12 = ['12C_Ecoli_20220321_004',\n",
    "       '12C_Ecoli_20220321_004_20220322095030',\n",
    "       '12C_Ecoli_20220321_004_20220322130235',]\n",
    "C13 = ['13C_Ecoli_20220321_004',\n",
    "       '13C_Ecoli_20220321_004_20220322101150',\n",
    "       '13C_Ecoli_20220321_004_20220322132355',]"
   ]
  },
  {
   "cell_type": "code",
   "execution_count": 34,
   "metadata": {},
   "outputs": [],
   "source": [
    "C12 = ['X'+x+'.mzML' for x in C12]\n",
    "C13 = ['X'+x+'.mzML' for x in C13]\n",
    "\n",
    "pair1 = [x[0] for x in xcreds]\n",
    "pair2 = [x[1] for x in xcreds]\n",
    "\n",
    "data1 = xcms_table[C12 + C13].loc[pair1, :]\n",
    "data2 = xcms_table[C12 + C13].loc[pair2, :]\n",
    "\n",
    "data1.to_csv(\"data1.tsv\", sep=\"\\t\")\n",
    "data2.to_csv(\"data2.tsv\", sep=\"\\t\")"
   ]
  },
  {
   "cell_type": "code",
   "execution_count": 35,
   "metadata": {},
   "outputs": [
    {
     "data": {
      "text/plain": [
       "(23, 13)"
      ]
     },
     "execution_count": 35,
     "metadata": {},
     "output_type": "execute_result"
    }
   ],
   "source": [
    "# Manually edited two tables into one: ecoli/xcms_cred.tsv\n",
    "\n",
    "Ndata = pd.read_csv('ecoli/xcms_cred.tsv', index_col=0, header=0, sep=\"\\t\")\n",
    "\n",
    "count = Ndata[Ndata>1].count(axis='columns')\n",
    "Ndata['detection_counts'] = count\n",
    "\n",
    "Ndata = Ndata[Ndata['detection_counts'] > 11]\n",
    "\n",
    "Ndata.shape"
   ]
  },
  {
   "cell_type": "code",
   "execution_count": 36,
   "metadata": {},
   "outputs": [],
   "source": [
    "# ratio calculation\n",
    "\n",
    "FF = 100   # Add a stablizing number, because ratio calculation is unreliable when peak intensities are low.\n",
    "\n",
    "GA = Ndata.columns[9:12]  #13 peaks in labeled samples\n",
    "GB = Ndata.columns[3:6 ]\n",
    "ratios13 = []\n",
    "\n",
    "GA12 = Ndata.columns[6:9] #13 peaks in unlabeled samples\n",
    "GB12 = Ndata.columns[:3]   \n",
    "\n",
    "ratios12 = [] \n",
    "RRS = []\n",
    "\n",
    "for index, row in Ndata.iterrows():\n",
    "    a = sum(row[GA12] + FF)/ sum(row[GB12] + FF)\n",
    "    b = sum(row[GA] + FF)/ sum(row[GB] + FF)\n",
    "    ratios12.append( a )\n",
    "    ratios13.append( b )\n",
    "    RRS.append(b/a)\n",
    "    \n",
    "    \n",
    "Ndata['ratios_unlabeled'] = ratios12\n",
    "Ndata['ratios_labeled'] = ratios13\n",
    "Ndata['RRS'] = RRS\n",
    "\n",
    "Ndata.to_csv(\"ratios_xcms_RPpos_creds.csv\")\n",
    "\n"
   ]
  },
  {
   "cell_type": "code",
   "execution_count": 37,
   "metadata": {},
   "outputs": [],
   "source": [
    "# Got 310 features \n",
    "# Manually retrieved from spreadsheet.\n",
    "\n",
    "xDict = dict(xcreds)"
   ]
  },
  {
   "cell_type": "code",
   "execution_count": 38,
   "metadata": {},
   "outputs": [],
   "source": [
    "xcms_features = \"\"\"FT1248\n",
    "FT2460\n",
    "FT4460\n",
    "FT2604\n",
    "FT4516\n",
    "FT1710\n",
    "FT2766\n",
    "FT3548\n",
    "FT2023\n",
    "FT1044\n",
    "FT1394\"\"\".split()\n",
    "\n",
    "# then get the 13C partners\n",
    "\n",
    "all_xcms_cred = []\n",
    "for x in xcms_features:\n",
    "    all_xcms_cred += [x, xDict[x]]\n",
    "    "
   ]
  },
  {
   "cell_type": "code",
   "execution_count": 39,
   "metadata": {},
   "outputs": [
    {
     "data": {
      "text/plain": [
       "(22,\n",
       " ['FT1248',\n",
       "  'FT1282',\n",
       "  'FT2460',\n",
       "  'FT2476',\n",
       "  'FT4460',\n",
       "  'FT4464',\n",
       "  'FT2604',\n",
       "  'FT2622'])"
      ]
     },
     "execution_count": 39,
     "metadata": {},
     "output_type": "execute_result"
    }
   ],
   "source": [
    "len(all_xcms_cred), all_xcms_cred[:8]"
   ]
  },
  {
   "cell_type": "markdown",
   "metadata": {},
   "source": [
    "## We got 22 credentialed features in XCMS result\n",
    "\n",
    "Now combine the data to create ground truth set of features.\n",
    "\n",
    "First test how many overlap."
   ]
  },
  {
   "cell_type": "code",
   "execution_count": 40,
   "metadata": {},
   "outputs": [
    {
     "data": {
      "text/plain": [
       "False"
      ]
     },
     "execution_count": 40,
     "metadata": {},
     "output_type": "execute_result"
    }
   ],
   "source": [
    "# match functions\n",
    "# 0.000010 is 10 ppm\n",
    "PPM_tolerance = 0.000005\n",
    "# use a large number to include anything in RTime, small number to be specific\n",
    "RTime_tolerance = 10       # seconds in retention time, usually a small number\n",
    "                            # more lenient for diff instruments\n",
    "                            # and possible diff void volume\n",
    "             \n",
    "# F1 = (m/z, rt)\n",
    "def match2(F1, F2, PPM_tolerance=PPM_tolerance, RTime_tolerance=RTime_tolerance):\n",
    "    if abs(F1[0]-F2[0])/F1[0] < PPM_tolerance and abs(F1[1] - F2[1]) < RTime_tolerance:\n",
    "        return True\n",
    "    else:\n",
    "        return False\n",
    "    \n",
    "# test\n",
    "match2((129.1541, 55), (129.1538, 14))"
   ]
  },
  {
   "cell_type": "code",
   "execution_count": 41,
   "metadata": {},
   "outputs": [
    {
     "data": {
      "text/plain": [
       "(60, 22)"
      ]
     },
     "execution_count": 41,
     "metadata": {},
     "output_type": "execute_result"
    }
   ],
   "source": [
    "len(all_asari_cred), len(all_xcms_cred)"
   ]
  },
  {
   "cell_type": "code",
   "execution_count": 42,
   "metadata": {},
   "outputs": [
    {
     "data": {
      "text/plain": [
       "(59, 22)"
      ]
     },
     "execution_count": 42,
     "metadata": {},
     "output_type": "execute_result"
    }
   ],
   "source": [
    "len(set(all_asari_cred)), len(set(all_xcms_cred))"
   ]
  },
  {
   "cell_type": "code",
   "execution_count": 43,
   "metadata": {},
   "outputs": [],
   "source": [
    "asari_table = pd.read_csv(\"ecoli/asari_SZ22_RPpos_full_Feature_table.tsv\", index_col=0, header=0, sep='\\t')\n",
    "xcms_table = pd.read_csv(\"ecoli/SZ22_RPpos_XCMS_featureTable.csv\", index_col=0, header=0,)\n",
    "\n",
    "asari_table = asari_table.loc[all_asari_cred]\n",
    "xcms_table = xcms_table.loc[all_xcms_cred]    # ['\"'+x+'\"' for x in all_xcms_cred]"
   ]
  },
  {
   "cell_type": "code",
   "execution_count": 44,
   "metadata": {},
   "outputs": [
    {
     "name": "stdout",
     "output_type": "stream",
     "text": [
      "60 22\n"
     ]
    }
   ],
   "source": [
    "mz_a, rt_a = asari_table['mz'].to_list(), asari_table['rtime'].to_list()\n",
    "mz_x, rt_x = xcms_table['mzmed'].to_list(), xcms_table['rtmed'].to_list()\n",
    "N1_, N2_ = len(mz_a), len(mz_x)\n",
    "print(N1_, N2_)\n",
    "\n",
    "good = []\n",
    "for ii in range(N1_):\n",
    "    F1 = (mz_a[ii], rt_a[ii])\n",
    "    for jj in range(N2_):\n",
    "        F2 = (mz_x[jj], rt_x[jj])\n",
    "        if match2(F1, F2):\n",
    "            good.append((ii, jj))"
   ]
  },
  {
   "cell_type": "code",
   "execution_count": 45,
   "metadata": {},
   "outputs": [
    {
     "data": {
      "text/plain": [
       "8"
      ]
     },
     "execution_count": 45,
     "metadata": {},
     "output_type": "execute_result"
    }
   ],
   "source": [
    "len(good)"
   ]
  },
  {
   "cell_type": "code",
   "execution_count": 46,
   "metadata": {},
   "outputs": [
    {
     "name": "stdout",
     "output_type": "stream",
     "text": [
      "8\n",
      "14 [2, 3, 4, 5, 8]\n"
     ]
    }
   ],
   "source": [
    "# not in overlap but in XCMS\n",
    "set2 = set([x[1] for x in good])\n",
    "print(len(set2))\n",
    "xcms_only = [jj for jj in range(N2_) if jj not in set2]\n",
    "print(len(xcms_only), xcms_only[:5])\n"
   ]
  },
  {
   "cell_type": "code",
   "execution_count": 47,
   "metadata": {},
   "outputs": [
    {
     "name": "stdout",
     "output_type": "stream",
     "text": [
      "8\n",
      "52 [0, 1, 4, 5, 6]\n"
     ]
    }
   ],
   "source": [
    "# not in overlap but in asari\n",
    "set1 = set([x[0] for x in good])\n",
    "print(len(set1))\n",
    "asari_only = [ii for ii in range(N1_) if ii not in set1]\n",
    "print(len(asari_only), asari_only[:5])\n"
   ]
  },
  {
   "cell_type": "markdown",
   "metadata": {},
   "source": [
    "**This means ground truth features are 82, 8 of which overlap**\n",
    "\n"
   ]
  },
  {
   "cell_type": "code",
   "execution_count": 48,
   "metadata": {},
   "outputs": [
    {
     "data": {
      "text/plain": [
       "(60, 22)"
      ]
     },
     "execution_count": 48,
     "metadata": {},
     "output_type": "execute_result"
    }
   ],
   "source": [
    "len(mz_a), len(mz_x)"
   ]
  },
  {
   "cell_type": "code",
   "execution_count": 49,
   "metadata": {},
   "outputs": [
    {
     "data": {
      "text/plain": [
       "(82,\n",
       " [(132.1214, 25.05),\n",
       "  (133.1248, 24.82),\n",
       "  (137.0457, 30.54),\n",
       "  (138.0488, 30.54),\n",
       "  (314.3422, 129.37)])"
      ]
     },
     "execution_count": 49,
     "metadata": {},
     "output_type": "execute_result"
    }
   ],
   "source": [
    "true_mzs = mz_a + mz_x\n",
    "true_rts = rt_a + rt_x\n",
    "\n",
    "true_features = list(zip(true_mzs, true_rts))\n",
    "\n",
    "len(true_features), true_features[:5]"
   ]
  },
  {
   "cell_type": "code",
   "execution_count": 55,
   "metadata": {},
   "outputs": [],
   "source": [
    "true_features.sort()\n",
    "s = 'mz\\trt\\n'\n",
    "for T in true_features:\n",
    "    s += str(T[0]) + '\\t' + str(T[1]) + '\\n'\n",
    "with open(\"Ecoli_ground_truth_features.txt\", \"w\") as O:\n",
    "    O.write(s)"
   ]
  },
  {
   "cell_type": "code",
   "execution_count": 56,
   "metadata": {},
   "outputs": [],
   "source": [
    "asari_table = pd.read_csv(\"ecoli/asari_SZ22_RPpos_full_Feature_table.tsv\", index_col=0, header=0, sep='\\t')\n",
    "xcms_table = pd.read_csv(\"ecoli/SZ22_RPpos_XCMS_featureTable.csv\", index_col=0, header=0,)\n"
   ]
  },
  {
   "cell_type": "code",
   "execution_count": 57,
   "metadata": {},
   "outputs": [
    {
     "name": "stdout",
     "output_type": "stream",
     "text": [
      "3602 82\n",
      "91 78\n",
      "~~~~   79    ~~~~  \n",
      "(199.99920579749298, 1.04856933095572)\n",
      "(418.220827711138, 124.892322255)\n",
      "(291.851048148417, 21.5713682174683)\n"
     ]
    }
   ],
   "source": [
    "mz_a, rt_a = asari_table['mz'].to_list(), asari_table['rtime'].to_list()\n",
    "mz_x, rt_x = true_mzs, true_rts\n",
    "\n",
    "N1_, N2_ = len(mz_a), len(mz_x)\n",
    "print(N1_, N2_)\n",
    "\n",
    "good = []\n",
    "for ii in range(N1_):\n",
    "    F1 = (mz_a[ii], rt_a[ii])\n",
    "    for jj in range(N2_):\n",
    "        F2 = (mz_x[jj], rt_x[jj])\n",
    "        if match2(F1, F2):\n",
    "            good.append((ii, jj))\n",
    "            \n",
    "print(len(good),\n",
    "     len(set([x[0] for x in good])),\n",
    "     )\n",
    "\n",
    "found_true = set([x[1] for x in good])\n",
    "print(\"~~~~  \", len(found_true), \"   ~~~~  \")\n",
    "for ii in range(N2_):\n",
    "    if ii not in found_true:\n",
    "        print( (mz_x[ii], rt_x[ii]) )"
   ]
  },
  {
   "attachments": {},
   "cell_type": "markdown",
   "metadata": {},
   "source": [
    "The above 3 missed peaks: two are too below min peak height;\n",
    "\n",
    "one has bad shape, missing 1st half\n"
   ]
  },
  {
   "cell_type": "code",
   "execution_count": 58,
   "metadata": {},
   "outputs": [
    {
     "name": "stdout",
     "output_type": "stream",
     "text": [
      "4754 82\n",
      "72 63\n",
      "~~~~   68    ~~~~  \n",
      "(192.9756, 15.79)\n",
      "(142.9621, 68.65)\n",
      "(99.9647, 27.73)\n",
      "(152.9883, 16.04)\n",
      "(192.9756, 15.79)\n",
      "(80.045, 148.01)\n",
      "(113.1074, 170.79)\n",
      "(114.1107, 170.79)\n",
      "(89.5068, 1.54)\n",
      "(118.98299999999999, 61.52)\n",
      "(183.9888, 136.77)\n",
      "(154.9708, 16.04)\n",
      "(178.9843, 10.2)\n",
      "(140.9913, 151.33)\n"
     ]
    }
   ],
   "source": [
    "mz_a, rt_a = xcms_table['mzmed'].to_list(), xcms_table['rtmed'].to_list()\n",
    "\n",
    "mz_x, rt_x = true_mzs, true_rts\n",
    "\n",
    "N1_, N2_ = len(mz_a), len(mz_x)\n",
    "print(N1_, N2_)\n",
    "\n",
    "good = []\n",
    "for ii in range(N1_):\n",
    "    F1 = (mz_a[ii], rt_a[ii])\n",
    "    for jj in range(N2_):\n",
    "        F2 = (mz_x[jj], rt_x[jj])\n",
    "        if match2(F1, F2):\n",
    "            good.append((ii, jj))\n",
    "            \n",
    "print(len(good),\n",
    "     len(set([x[0] for x in good])),\n",
    "     )\n",
    "\n",
    "found_true = set([x[1] for x in good])\n",
    "print(\"~~~~  \", len(found_true), \"   ~~~~  \")\n",
    "for ii in range(N2_):\n",
    "    if ii not in found_true:\n",
    "        print( (mz_x[ii], rt_x[ii]) )"
   ]
  },
  {
   "cell_type": "markdown",
   "metadata": {},
   "source": [
    "# Conclusion\n",
    "\n",
    "Ground truth in this dataset has 82 (-8) features that are certified by at least one tool.\n",
    "\n",
    "All viusally inspected to be true. \n",
    "\n",
    "Asari table has 3602 features, 71/74 matched to ground truth.\n",
    "\n",
    "3 missed peaks: two are too below min peak height; one has bad shape, missing 1st half\n",
    "\n",
    "XCMS table has 4754 features, 60/74 matched to ground truth.\n"
   ]
  }
 ],
 "metadata": {
  "kernelspec": {
   "display_name": "Python 3",
   "language": "python",
   "name": "python3"
  },
  "language_info": {
   "codemirror_mode": {
    "name": "ipython",
    "version": 3
   },
   "file_extension": ".py",
   "mimetype": "text/x-python",
   "name": "python",
   "nbconvert_exporter": "python",
   "pygments_lexer": "ipython3",
   "version": "3.7.3"
  }
 },
 "nbformat": 4,
 "nbformat_minor": 2
}
