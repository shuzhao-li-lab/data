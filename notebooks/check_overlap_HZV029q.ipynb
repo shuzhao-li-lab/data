{
 "cells": [
  {
   "cell_type": "markdown",
   "id": "1c91e02e-99ca-4d19-a0a5-4f7a976b906c",
   "metadata": {},
   "source": [
    "# Check overlap features from different software algorithms\n",
    "\n",
    "HZV029 dataset has two samples repeatedly measured many times. \n",
    "The HZV029q subset is Qstd QC sample repeated 184 times over 17 batches.\n",
    "HILIC column ESI+ (there may be a typo in XCMS output as RPpos somewhere).\n",
    "\n",
    "- XCMS v3.18.0 (R 4.2.0)\n",
    "- MZmine 2.53 (peak detection via centwave and local mininum)\n",
    "- MS-Dial v4.90\n",
    "- asari 1.10.06\n",
    "\n",
    "Not including OpenMS as no concensus workflow for untargeted metabolomics. My consensus map returned > 200K features.\n",
    "\n",
    "SL 2023-01-19"
   ]
  },
  {
   "cell_type": "code",
   "execution_count": 1,
   "id": "a66f300e-ee71-463e-a995-d96c4224d3ee",
   "metadata": {},
   "outputs": [],
   "source": [
    "!pip install --upgrade -q asari-metabolomics"
   ]
  },
  {
   "cell_type": "code",
   "execution_count": 2,
   "id": "3cb13c23-a030-4b9f-bc38-180e0b688614",
   "metadata": {},
   "outputs": [],
   "source": [
    "from asari.tools import match_features as mf\n",
    "from asari.mass_functions import calculate_selectivity"
   ]
  },
  {
   "cell_type": "markdown",
   "id": "0d8d1103-45c8-48dd-952e-acdec7dabf30",
   "metadata": {},
   "source": [
    "## Understand overlap btw XCMS and MZmine 2\n",
    "\n",
    "Use **best RT match** when applicable, less impacted by sample numbers.\n",
    "Because m/z alignment is more likely to shift on differetn sample numbers."
   ]
  },
  {
   "cell_type": "code",
   "execution_count": 3,
   "id": "dcfbf921-6578-4d66-baec-e095f844b6c3",
   "metadata": {},
   "outputs": [
    {
     "name": "stdout",
     "output_type": "stream",
     "text": [
      "['best_mz_match_lcms_features', 'best_rt_match_lcms_features', 'bidirectional_best_match', 'bidirectional_match', 'build_centurion_tree', 'build_peak_id_dict', 'common_adducts', 'convert_min2secs', 'convert_sec2mins', 'find_adduct_signatures', 'find_all_matches_centurion_indexed_list', 'find_best_match_centurion_indexed_list', 'find_isotopic_signatures', 'find_mzdiff_pairs_from_masstracks', 'get_featureList', 'is_coeluted', 'isotopic_patterns', 'list_match_lcms_features', 'mass_paired_mapping', 'score_emp_cpd_matches', 'search_formulae', 'seed_empCpd_patterns']\n"
     ]
    }
   ],
   "source": [
    "# functions available via asari.tools.match_features \n",
    "print([x for x in dir(mf) if \"__\"!=x[:2]])"
   ]
  },
  {
   "cell_type": "code",
   "execution_count": 5,
   "id": "afc85cba-6dc7-4a81-8d50-98362444ad87",
   "metadata": {},
   "outputs": [
    {
     "name": "stdout",
     "output_type": "stream",
     "text": [
      "42099 \n",
      " [{'id': 'row2', 'mz': 80.98845195770264, 'rtime': 4.262263463983335}, {'id': 'row3', 'mz': 82.05246177086464, 'rtime': 3.2342773543094014}, {'id': 'row4', 'mz': 82.06530077704068, 'rtime': 0.34617262381810343}]\n",
      "10901 \n",
      " [{'id': 'row2', 'mz': 82.0654271305487, 'rtime': 20.748610496521}, {'id': 'row3', 'mz': 83.0604013829366, 'rtime': 170.604278564453}, {'id': 'row4', 'mz': 83.0856576718156, 'rtime': 20.0426769256592}]\n"
     ]
    }
   ],
   "source": [
    "mzmine_ = mf.get_featureList('HZV029q_MZmine2.53_centwave_featureTable.csv', start_row=1, mz_col=1, rt_col=2, sep=',')\n",
    "print(len(mzmine_), '\\n', mzmine_[:3])\n",
    "\n",
    "xcms_ = mf.get_featureList('hzv029q_XCMS_featureTable.csv', start_row=1, mz_col=1, rt_col=4, sep=',')\n",
    "print(len(xcms_), '\\n', xcms_[:3])\n",
    "# convert to minute\n",
    "for x in xcms_:\n",
    "    x['rtime'] = x['rtime']/60"
   ]
  },
  {
   "cell_type": "code",
   "execution_count": 8,
   "id": "744d80f3-2cca-4db1-bbde-b013218c257c",
   "metadata": {},
   "outputs": [
    {
     "name": "stdout",
     "output_type": "stream",
     "text": [
      "mzmine_, xcms_ best matches only: \n",
      "\n",
      "    ~~~ By best rtime matches ~~~     \n",
      "\n",
      "Of 42099 list1 features, number of uni-direction matched features is 7414.\n",
      "Of 10901 list1 features, number of uni-direction matched features is 10633.\n",
      "~~~ Biodirectional, unique Number of matched feature pairs: ~~~\n",
      " 6186\n",
      "\n",
      "\n",
      "########################################################################\n",
      "    ~~~ By best m/z matches ~~~     \n",
      "\n",
      "Of 42099 list1 features, number of uni-direction matched features is 7414.\n",
      "Of 10901 list1 features, number of uni-direction matched features is 10633.\n",
      "~~~ Biodirectional, unique Number of matched feature pairs: ~~~\n",
      "     6801\n",
      "########################################################################\n",
      "\n",
      "\n"
     ]
    }
   ],
   "source": [
    "print(\"mzmine_, xcms_ best matches only: \")\n",
    "valid_matches, dict1, dict2 = mf.bidirectional_best_match(mzmine_, xcms_, mz_ppm=5, rt_tolerance=0.1)"
   ]
  },
  {
   "cell_type": "code",
   "execution_count": 9,
   "id": "9f6e034d-7d68-423d-a340-a99bda686e64",
   "metadata": {},
   "outputs": [
    {
     "data": {
      "text/plain": [
       "(0.5674708742317218, 0.6238877167232364)"
      ]
     },
     "execution_count": 9,
     "metadata": {},
     "output_type": "execute_result"
    }
   ],
   "source": [
    "6186/10901, 6801/10901"
   ]
  },
  {
   "cell_type": "code",
   "execution_count": 11,
   "id": "f01942ad-211e-4776-b7e5-c2f9dce45903",
   "metadata": {},
   "outputs": [
    {
     "name": "stdout",
     "output_type": "stream",
     "text": [
      "mzmine_, xcms_, list matches (allowing N:N)\n",
      "Of 42099 list1 features, number of uni-direction matched features is 7414.\n",
      "Of 10901 list1 features, number of uni-direction matched features is 10633.\n",
      "    ~~~ match_numbers ~~~     \n",
      "\n",
      "Unique Number of matched features in table 1:  3347\n",
      "Unique Number of matched features in table 2:  8133\n",
      "Biodirectional, unique Number of matched feature pairs:  2201\n"
     ]
    }
   ],
   "source": [
    "print(\"mzmine_, xcms_, list matches (allowing N:N)\")\n",
    "dict1, dict2 = mf.bidirectional_match(mzmine_, xcms_, mz_ppm=5, rt_tolerance=0.1)"
   ]
  },
  {
   "cell_type": "code",
   "execution_count": 12,
   "id": "9dd6a6d1-d556-4851-9c4e-fa76ccfd0a33",
   "metadata": {},
   "outputs": [
    {
     "name": "stdout",
     "output_type": "stream",
     "text": [
      "51 [['row1017', 'row22676', 'row31180'], ['row1298', 'row25098', 'row31937']] \n",
      "\n",
      "(['row5553', 'row25225', 'row39068'], ['row9166', 'row9167', 'row9168', 'row9170', 'row9171'])\n",
      "(['row5553', 'row25225', 'row39068'], ['row9166', 'row9167', 'row9168', 'row9170', 'row9171'])\n",
      "(['row5553', 'row25225', 'row39068'], ['row9166', 'row9167', 'row9168', 'row9170', 'row9171'])\n",
      "(['row5553', 'row25225', 'row39068'], ['row9166', 'row9167', 'row9168', 'row9170', 'row9171'])\n",
      "(['row5553', 'row25225', 'row39068'], ['row9166', 'row9167', 'row9168', 'row9170', 'row9171'])\n",
      "(['row5553', 'row25225', 'row39068'], ['row9166', 'row9167', 'row9168', 'row9170', 'row9171'])\n",
      "(['row32192', 'row5666', 'row8163'], ['row9431', 'row9432', 'row9433', 'row9434', 'row9435'])\n",
      "(['row32192', 'row5666', 'row8163'], ['row9431', 'row9432', 'row9433', 'row9434', 'row9435'])\n"
     ]
    }
   ],
   "source": [
    "# build illustration figure, Fig. 1B\n",
    "\n",
    "# find a feature in xcms_ with >=3 matches to mzmine_\n",
    "xmm = [v for x,v in dict2.items() if len(v)>2]\n",
    "print(len(xmm), xmm[:2], '\\n')\n",
    "\n",
    "# find a feature in xmm with 4 matches to xcms_\n",
    "use_ = []\n",
    "for v in xmm:\n",
    "    for x in v:\n",
    "        if len(dict1[x])>3:\n",
    "            use_.append( (v, dict1[x]) )\n",
    "\n",
    "for x in use_:\n",
    "    print(x)"
   ]
  },
  {
   "cell_type": "code",
   "execution_count": 13,
   "id": "7cd716da-fa70-437a-bc14-26c55dbedf32",
   "metadata": {},
   "outputs": [],
   "source": [
    "def list2dict(LL):\n",
    "    d = {}\n",
    "    for x in LL:\n",
    "        d[x['id']] = x\n",
    "    return d\n",
    "\n",
    "dict_xcms_, dict_mzmine_ = list2dict(xcms_), list2dict(mzmine_)"
   ]
  },
  {
   "cell_type": "code",
   "execution_count": 14,
   "id": "d427a501-8b05-40ba-ba94-e59d82c1746b",
   "metadata": {},
   "outputs": [
    {
     "name": "stdout",
     "output_type": "stream",
     "text": [
      "row32192 788.6082 72\n",
      "row5666 788.6109 72\n",
      "row8163 788.615 77\n",
      "=\n",
      "row9431 788.6073 67\n",
      "row9432 788.608 71\n",
      "row9433 788.609 72\n",
      "row9434 788.6106 71\n",
      "row9435 788.6116 72\n"
     ]
    }
   ],
   "source": [
    "for x in ['row32192', 'row5666', 'row8163']:\n",
    "    print(dict_mzmine_[x]['id'], round(dict_mzmine_[x]['mz'], 4), int(dict_mzmine_[x]['rtime']*60))\n",
    "    \n",
    "print(\"=\")\n",
    "    \n",
    "for x in ['row9431', 'row9432', 'row9433', 'row9434', 'row9435']:\n",
    "    print(dict_xcms_[x]['id'], round(dict_xcms_[x]['mz'], 4), int(dict_xcms_[x]['rtime']*60))"
   ]
  },
  {
   "cell_type": "code",
   "execution_count": 15,
   "id": "9682341d-6855-4836-8bc0-bb2c2370a9b4",
   "metadata": {},
   "outputs": [
    {
     "name": "stdout",
     "output_type": "stream",
     "text": [
      "row5553 760.5857 73\n",
      "row25225 760.5833 73\n",
      "row39068 760.5815 67\n",
      "=\n",
      "row9166 760.5807 68\n",
      "row9167 760.5817 72\n",
      "row9168 760.5826 72\n",
      "row9170 760.5837 72\n",
      "row9171 760.5847 73\n"
     ]
    }
   ],
   "source": [
    "# list features from XCMS\n",
    "for x in ['row5553', 'row25225', 'row39068']:\n",
    "    print(dict_mzmine_[x]['id'], round(dict_mzmine_[x]['mz'], 4), int(dict_mzmine_[x]['rtime']*60))\n",
    "    \n",
    "print(\"=\")\n",
    "\n",
    "# list features from MZmine\n",
    "for x in ['row9166', 'row9167', 'row9168', 'row9170', 'row9171']:\n",
    "    print(dict_xcms_[x]['id'], round(dict_xcms_[x]['mz'], 4), int(dict_xcms_[x]['rtime']*60))"
   ]
  },
  {
   "cell_type": "code",
   "execution_count": 16,
   "id": "c9cccdca-7e11-4b70-81ef-2b463c19df69",
   "metadata": {},
   "outputs": [
    {
     "data": {
      "text/plain": [
       "3.2869621856037104e-06"
      ]
     },
     "execution_count": 16,
     "metadata": {},
     "output_type": "execute_result"
    }
   ],
   "source": [
    "0.0025/760.5807"
   ]
  },
  {
   "cell_type": "code",
   "execution_count": 18,
   "id": "ebf103d4-1c03-4583-93c3-517532f9ecad",
   "metadata": {},
   "outputs": [
    {
     "name": "stdout",
     "output_type": "stream",
     "text": [
      "asari_1.10.6_full_Feature_table.tsv\n",
      "authenticstandards_HILICpos_2022-04-19_Zheng_Gong.json\n",
      "check_overlap_HZV029q.ipynb\n",
      "explore_overlap_HZV029q.ipynb\n",
      "__Fig1E_featuresmatch_10_184\n",
      "fil60_HZV029q_asari1.92_full_Feature_table.tsv\n",
      "groundTruth_asari.txt\n",
      "HMDB_matched_selected_Qstd_CDacquireX.txt\n",
      "HZV029q-Height_0_2022824553.txt\n",
      "HZV029q_MSdial4.90-Area_0_2022824556.txt\n",
      "HZV029q_MZmine2.53_centwave_featureTable.csv\n",
      "HZV029q_MZmine2.53_LocalMinium_featureTable.csv\n",
      "hzv029q_XCMS_featureTable.csv\n",
      "kde_asari_mSelectivity_noRounding.pdf\n",
      "kde_asari_mSelectivity_noRounding.png\n",
      "kde_asari_mSelectivity.pdf\n",
      "kde_asari_mSelectivity.png\n",
      "kde_MZmine_mSelectivity.pdf\n",
      "kde_MZmine_mSelectivity.png\n",
      "kde_XCMS_mSelectivity.pdf\n",
      "kde_XCMS_mSelectivity.png\n"
     ]
    }
   ],
   "source": [
    "!ls "
   ]
  },
  {
   "cell_type": "code",
   "execution_count": 19,
   "id": "2392c0d2-bcbb-4a13-859d-7dcd1a390423",
   "metadata": {},
   "outputs": [
    {
     "name": "stdout",
     "output_type": "stream",
     "text": [
      "22440 [{'id': 'row2', 'mz': 80.9478, 'rtime': 133.56}, {'id': 'row3', 'mz': 80.9478, 'rtime': 145.35}, {'id': 'row4', 'mz': 80.9885, 'rtime': 248.69}]\n"
     ]
    }
   ],
   "source": [
    "asari_ = mf.get_featureList('asari_1.10.6_full_Feature_table.tsv', start_row=1, mz_col=1, rt_col=2, sep='\\t')\n",
    "print(len(asari_), asari_[:3])\n",
    "# change RT from seconds to minutes\n",
    "for x in asari_:\n",
    "    x['rtime'] = x['rtime']/60"
   ]
  },
  {
   "cell_type": "code",
   "execution_count": 20,
   "id": "9ce4811a-29c0-45e0-a002-63397132f777",
   "metadata": {},
   "outputs": [
    {
     "name": "stdout",
     "output_type": "stream",
     "text": [
      "asari_, xcms_ best matches only: \n",
      "\n",
      "    ~~~ By best rtime matches ~~~     \n",
      "\n",
      "Of 22440 list1 features, number of uni-direction matched features is 6280.\n",
      "Of 10901 list1 features, number of uni-direction matched features is 9534.\n",
      "~~~ Biodirectional, unique Number of matched feature pairs: ~~~\n",
      " 5360\n",
      "\n",
      "\n",
      "########################################################################\n",
      "    ~~~ By best m/z matches ~~~     \n",
      "\n",
      "Of 22440 list1 features, number of uni-direction matched features is 6280.\n",
      "Of 10901 list1 features, number of uni-direction matched features is 9534.\n",
      "~~~ Biodirectional, unique Number of matched feature pairs: ~~~\n",
      "     5234\n",
      "########################################################################\n",
      "\n",
      "\n"
     ]
    }
   ],
   "source": [
    "print(\"asari_, xcms_ best matches only: \")\n",
    "valid_matches, dict1, dict2 = mf.bidirectional_best_match(asari_, xcms_, mz_ppm=5, rt_tolerance=0.1)"
   ]
  },
  {
   "cell_type": "code",
   "execution_count": 21,
   "id": "f9273fe8-e52d-477b-b547-ef14dc1ec05a",
   "metadata": {},
   "outputs": [
    {
     "name": "stdout",
     "output_type": "stream",
     "text": [
      "asari_, mzmine_ best matches only: \n",
      "\n",
      "    ~~~ By best rtime matches ~~~     \n",
      "\n",
      "Of 22440 list1 features, number of uni-direction matched features is 15765.\n",
      "Of 42099 list1 features, number of uni-direction matched features is 15361.\n",
      "~~~ Biodirectional, unique Number of matched feature pairs: ~~~\n",
      " 13164\n",
      "\n",
      "\n",
      "########################################################################\n",
      "    ~~~ By best m/z matches ~~~     \n",
      "\n",
      "Of 22440 list1 features, number of uni-direction matched features is 15765.\n",
      "Of 42099 list1 features, number of uni-direction matched features is 15361.\n",
      "~~~ Biodirectional, unique Number of matched feature pairs: ~~~\n",
      "     12969\n",
      "########################################################################\n",
      "\n",
      "\n"
     ]
    }
   ],
   "source": [
    "print(\"asari_, mzmine_ best matches only: \")\n",
    "valid_matches, dict1, dict2 = mf.bidirectional_best_match(asari_, mzmine_, mz_ppm=5, rt_tolerance=0.1)"
   ]
  },
  {
   "cell_type": "markdown",
   "id": "2e9092c4-a5d3-4ee7-b8d6-0d3b9d731664",
   "metadata": {},
   "source": [
    "## Get mSelectivity on datasets"
   ]
  },
  {
   "cell_type": "code",
   "execution_count": 102,
   "id": "cf9a4db7-a397-4643-b921-2137109e5ffc",
   "metadata": {},
   "outputs": [],
   "source": [
    "from matplotlib import pyplot as plt\n",
    "import seaborn \n",
    "\n",
    "%matplotlib inline"
   ]
  },
  {
   "cell_type": "code",
   "execution_count": 131,
   "id": "927cf75d-654f-4495-aa34-98d1f87473ab",
   "metadata": {},
   "outputs": [
    {
     "name": "stdout",
     "output_type": "stream",
     "text": [
      "10901\n",
      "9778\n"
     ]
    }
   ],
   "source": [
    "# round to 3th decimal\n",
    "mzlist_xcms_ = [x['mz'] for x in xcms_]\n",
    "print(len(mzlist_xcms_))\n",
    "mzlist_xcms_ = set([str(round(x,3)) for x in mzlist_xcms_])\n",
    "mzlist_xcms_ = sorted([float(x) for x in mzlist_xcms_])\n",
    "print(len(mzlist_xcms_))"
   ]
  },
  {
   "cell_type": "code",
   "execution_count": 132,
   "id": "8fd41ab4-f27d-4501-9a09-8b278728eb8b",
   "metadata": {},
   "outputs": [],
   "source": [
    "xcms_msel = calculate_selectivity(mzlist_xcms_)"
   ]
  },
  {
   "cell_type": "code",
   "execution_count": 133,
   "id": "f886ce23-903d-4877-bcb2-136c8f4f6d08",
   "metadata": {},
   "outputs": [
    {
     "data": {
      "image/png": "[encoded data removed]",
      "text/plain": [
       "<Figure size 216x216 with 1 Axes>"
      ]
     },
     "metadata": {
      "needs_background": "light"
     },
     "output_type": "display_data"
    }
   ],
   "source": [
    "plt.figure(figsize=(3,3))\n",
    "ax = seaborn.kdeplot(data=xcms_msel,  fill=True,)\n",
    "plt.title(\"XCMS mSelectivity\")\n",
    "plt.savefig(\"kde_XCMS_mSelectivity\" + \".png\")\n",
    "plt.savefig(\"kde_XCMS_mSelectivity\" + \".pdf\")"
   ]
  },
  {
   "cell_type": "code",
   "execution_count": 134,
   "id": "ebbb4220-ca22-42ba-b70f-b6ed3a92f607",
   "metadata": {},
   "outputs": [
    {
     "name": "stdout",
     "output_type": "stream",
     "text": [
      "42099\n",
      "26447\n"
     ]
    }
   ],
   "source": [
    "# round to 3th decimal\n",
    "mzlist_mzmine_ = [x['mz'] for x in mzmine_]\n",
    "print(len(mzlist_mzmine_))\n",
    "mzlist_mzmine_ = set([str(round(x,3)) for x in mzlist_mzmine_])\n",
    "mzlist_mzmine_ = sorted([float(x) for x in mzlist_mzmine_])\n",
    "print(len(mzlist_mzmine_))\n",
    "\n",
    "mzmine_msel = calculate_selectivity(mzlist_mzmine_)"
   ]
  },
  {
   "cell_type": "code",
   "execution_count": 135,
   "id": "5f317f4c-177f-4a71-8941-9ecdcbf0cdac",
   "metadata": {},
   "outputs": [
    {
     "data": {
      "image/png": "[encoded data removed]",
      "text/plain": [
       "<Figure size 216x216 with 1 Axes>"
      ]
     },
     "metadata": {
      "needs_background": "light"
     },
     "output_type": "display_data"
    }
   ],
   "source": [
    "plt.figure(figsize=(3,3))\n",
    "ax = seaborn.kdeplot(data=mzmine_msel,  fill=True,)\n",
    "plt.title(\"MZmine mSelectivity\")\n",
    "plt.savefig(\"kde_MZmine_mSelectivity\" + \".png\")\n",
    "plt.savefig(\"kde_MZmine_mSelectivity\" + \".pdf\")"
   ]
  },
  {
   "cell_type": "code",
   "execution_count": 144,
   "id": "995d78d9-abbd-421a-9be9-9237b6f458bd",
   "metadata": {},
   "outputs": [
    {
     "name": "stdout",
     "output_type": "stream",
     "text": [
      "22492\n",
      "8915\n"
     ]
    }
   ],
   "source": [
    "# round to 4th decimal\n",
    "mzlist_asari_ = [x['mz'] for x in asari_]\n",
    "print(len(mzlist_asari_))\n",
    "mzlist_asari_ = set([str(round(x,3)) for x in mzlist_asari_])\n",
    "mzlist_asari_ = set(mzlist_asari_)\n",
    "mzlist_asari_ = sorted([float(x) for x in mzlist_asari_])\n",
    "print(len(mzlist_asari_))\n",
    "\n",
    "mzasari_msel = calculate_selectivity(mzlist_asari_)"
   ]
  },
  {
   "cell_type": "code",
   "execution_count": 145,
   "id": "eb18bbd3-24a9-46c6-8142-f5cc0a530b37",
   "metadata": {},
   "outputs": [
    {
     "data": {
      "image/png": "[encoded data removed]",
      "text/plain": [
       "<Figure size 216x216 with 1 Axes>"
      ]
     },
     "metadata": {
      "needs_background": "light"
     },
     "output_type": "display_data"
    }
   ],
   "source": [
    "plt.figure(figsize=(3,3))\n",
    "ax = seaborn.kdeplot(data=mzasari_msel,  fill=True,)\n",
    "plt.title(\"asari mSelectivity\")\n",
    "plt.savefig(\"kde_asari_mSelectivity_noRounding\" + \".png\")\n",
    "plt.savefig(\"kde_asari_mSelectivity_noRounding\" + \".pdf\")"
   ]
  },
  {
   "cell_type": "markdown",
   "id": "325c560a-8117-469f-a680-c9b60f197538",
   "metadata": {},
   "source": [
    "## Check on other tools"
   ]
  },
  {
   "cell_type": "code",
   "execution_count": 23,
   "id": "c09cd95e-6c75-41e3-9287-b4e7198b3c57",
   "metadata": {},
   "outputs": [
    {
     "name": "stdout",
     "output_type": "stream",
     "text": [
      "24837 \n",
      " [{'id': 'row2', 'mz': 80.9884950068959, 'rtime': 4.217872535444738}, {'id': 'row3', 'mz': 80.98846538250262, 'rtime': 4.395459038155128}, {'id': 'row4', 'mz': 80.98851069697628, 'rtime': 4.346391957839508}]\n"
     ]
    }
   ],
   "source": [
    "mzmine_L_ = mf.get_featureList('HZV029q_MZmine2.53_LocalMinium_featureTable.csv', start_row=1, mz_col=1, rt_col=2, sep=',')\n",
    "print(len(mzmine_L_), '\\n', mzmine_L_[:3])"
   ]
  },
  {
   "cell_type": "code",
   "execution_count": 24,
   "id": "ff1a9083-1dcb-474f-b4a0-ca72a4d09b41",
   "metadata": {},
   "outputs": [
    {
     "name": "stdout",
     "output_type": "stream",
     "text": [
      "mzmine_, mzmine_L_\n",
      "\n",
      "    ~~~ By best rtime matches ~~~     \n",
      "\n",
      "Of 42099 list1 features, number of uni-direction matched features is 19675.\n",
      "Of 24837 list1 features, number of uni-direction matched features is 21386.\n",
      "~~~ Biodirectional, unique Number of matched feature pairs: ~~~\n",
      " 17223\n",
      "\n",
      "\n",
      "########################################################################\n",
      "    ~~~ By best m/z matches ~~~     \n",
      "\n",
      "Of 42099 list1 features, number of uni-direction matched features is 19675.\n",
      "Of 24837 list1 features, number of uni-direction matched features is 21386.\n",
      "~~~ Biodirectional, unique Number of matched feature pairs: ~~~\n",
      "     17707\n",
      "########################################################################\n",
      "\n",
      "\n"
     ]
    }
   ],
   "source": [
    "print(\"mzmine_, mzmine_L_\")\n",
    "\n",
    "valid_matches, dict1, dict2 = mf.bidirectional_best_match(mzmine_, mzmine_L_, mz_ppm=5, rt_tolerance=0.1)\n"
   ]
  },
  {
   "cell_type": "code",
   "execution_count": 25,
   "id": "921eb959-50b7-49fc-9c79-5069824a59bc",
   "metadata": {},
   "outputs": [
    {
     "name": "stdout",
     "output_type": "stream",
     "text": [
      "mzmine_L_, xcms_\n",
      "\n",
      "    ~~~ By best rtime matches ~~~     \n",
      "\n",
      "Of 24837 list1 features, number of uni-direction matched features is 8437.\n",
      "Of 10901 list1 features, number of uni-direction matched features is 10569.\n",
      "~~~ Biodirectional, unique Number of matched feature pairs: ~~~\n",
      " 6227\n",
      "\n",
      "\n",
      "########################################################################\n",
      "    ~~~ By best m/z matches ~~~     \n",
      "\n",
      "Of 24837 list1 features, number of uni-direction matched features is 8437.\n",
      "Of 10901 list1 features, number of uni-direction matched features is 10569.\n",
      "~~~ Biodirectional, unique Number of matched feature pairs: ~~~\n",
      "     7072\n",
      "########################################################################\n",
      "\n",
      "\n"
     ]
    }
   ],
   "source": [
    "print(\"mzmine_L_, xcms_\")\n",
    "\n",
    "valid_matches, dict1, dict2 = mf.bidirectional_best_match(mzmine_L_, xcms_, mz_ppm=5, rt_tolerance=0.1)"
   ]
  },
  {
   "cell_type": "code",
   "execution_count": 26,
   "id": "a31a0d85-0efd-4bb7-966a-c15a48c99c15",
   "metadata": {},
   "outputs": [
    {
     "name": "stdout",
     "output_type": "stream",
     "text": [
      "asari_, mzmine_L_\n",
      "\n",
      "    ~~~ By best rtime matches ~~~     \n",
      "\n",
      "Of 22440 list1 features, number of uni-direction matched features is 13734.\n",
      "Of 24837 list1 features, number of uni-direction matched features is 14987.\n",
      "~~~ Biodirectional, unique Number of matched feature pairs: ~~~\n",
      " 11963\n",
      "\n",
      "\n",
      "########################################################################\n",
      "    ~~~ By best m/z matches ~~~     \n",
      "\n",
      "Of 22440 list1 features, number of uni-direction matched features is 13734.\n",
      "Of 24837 list1 features, number of uni-direction matched features is 14987.\n",
      "~~~ Biodirectional, unique Number of matched feature pairs: ~~~\n",
      "     11428\n",
      "########################################################################\n",
      "\n",
      "\n"
     ]
    }
   ],
   "source": [
    "print(\"asari_, mzmine_L_\")\n",
    "\n",
    "valid_matches, dict1, dict2 = mf.bidirectional_best_match(asari_, mzmine_L_, mz_ppm=5, rt_tolerance=0.1)"
   ]
  },
  {
   "cell_type": "markdown",
   "id": "07bcf690-52b5-4892-9593-219a70fcbdeb",
   "metadata": {},
   "source": [
    "**Now MS-DIAL**"
   ]
  },
  {
   "cell_type": "code",
   "execution_count": 27,
   "id": "937b4d98-faaa-40ad-8bad-0fde18f4221a",
   "metadata": {},
   "outputs": [
    {
     "name": "stdout",
     "output_type": "stream",
     "text": [
      "54863 [{'id': 'row7', 'mz': 80.0957, 'rtime': 2.476}, {'id': 'row8', 'mz': 80.13656, 'rtime': 3.07}, {'id': 'row9', 'mz': 80.17009, 'rtime': 2.493}]\n"
     ]
    }
   ],
   "source": [
    "msdial_ = mf.get_featureList('HZV029q_MSdial4.90-Area_0_2022824556.txt', start_row=6, mz_col=2, rt_col=1, sep='\\t')\n",
    "print(len(msdial_), msdial_[:3])"
   ]
  },
  {
   "cell_type": "code",
   "execution_count": 28,
   "id": "138baa4a-136f-40ff-892e-93273858bfca",
   "metadata": {},
   "outputs": [
    {
     "name": "stdout",
     "output_type": "stream",
     "text": [
      "msdial_, mzmine_L_\n",
      "\n",
      "    ~~~ By best rtime matches ~~~     \n",
      "\n",
      "Of 54863 list1 features, number of uni-direction matched features is 29113.\n",
      "Of 24837 list1 features, number of uni-direction matched features is 14354.\n",
      "~~~ Biodirectional, unique Number of matched feature pairs: ~~~\n",
      " 12527\n",
      "\n",
      "\n",
      "########################################################################\n",
      "    ~~~ By best m/z matches ~~~     \n",
      "\n",
      "Of 54863 list1 features, number of uni-direction matched features is 29113.\n",
      "Of 24837 list1 features, number of uni-direction matched features is 14354.\n",
      "~~~ Biodirectional, unique Number of matched feature pairs: ~~~\n",
      "     12143\n",
      "########################################################################\n",
      "\n",
      "\n"
     ]
    }
   ],
   "source": [
    "print(\"msdial_, mzmine_L_\")\n",
    "\n",
    "valid_matches, dict1, dict2 = mf.bidirectional_best_match(msdial_, mzmine_L_, mz_ppm=5, rt_tolerance=0.1)"
   ]
  },
  {
   "cell_type": "code",
   "execution_count": 29,
   "id": "b70502c7-86bb-4162-96cc-e2454467d326",
   "metadata": {},
   "outputs": [
    {
     "name": "stdout",
     "output_type": "stream",
     "text": [
      "msdial_, mzmine_\n",
      "\n",
      "    ~~~ By best rtime matches ~~~     \n",
      "\n",
      "Of 54863 list1 features, number of uni-direction matched features is 33581.\n",
      "Of 42099 list1 features, number of uni-direction matched features is 15823.\n",
      "~~~ Biodirectional, unique Number of matched feature pairs: ~~~\n",
      " 14286\n",
      "\n",
      "\n",
      "########################################################################\n",
      "    ~~~ By best m/z matches ~~~     \n",
      "\n",
      "Of 54863 list1 features, number of uni-direction matched features is 33581.\n",
      "Of 42099 list1 features, number of uni-direction matched features is 15823.\n",
      "~~~ Biodirectional, unique Number of matched feature pairs: ~~~\n",
      "     14298\n",
      "########################################################################\n",
      "\n",
      "\n"
     ]
    }
   ],
   "source": [
    "print(\"msdial_, mzmine_\")\n",
    "\n",
    "valid_matches, dict1, dict2 = mf.bidirectional_best_match(msdial_, mzmine_, mz_ppm=5, rt_tolerance=0.1)"
   ]
  },
  {
   "cell_type": "code",
   "execution_count": 30,
   "id": "92714277-7a8b-4f29-a549-aa0d64e99f1b",
   "metadata": {},
   "outputs": [
    {
     "name": "stdout",
     "output_type": "stream",
     "text": [
      "msdial_, asari_\n",
      "\n",
      "    ~~~ By best rtime matches ~~~     \n",
      "\n",
      "Of 54863 list1 features, number of uni-direction matched features is 24651.\n",
      "Of 22440 list1 features, number of uni-direction matched features is 11448.\n",
      "~~~ Biodirectional, unique Number of matched feature pairs: ~~~\n",
      " 10624\n",
      "\n",
      "\n",
      "########################################################################\n",
      "    ~~~ By best m/z matches ~~~     \n",
      "\n",
      "Of 54863 list1 features, number of uni-direction matched features is 24651.\n",
      "Of 22440 list1 features, number of uni-direction matched features is 11448.\n",
      "~~~ Biodirectional, unique Number of matched feature pairs: ~~~\n",
      "     9537\n",
      "########################################################################\n",
      "\n",
      "\n"
     ]
    }
   ],
   "source": [
    "print(\"msdial_, asari_\")\n",
    "\n",
    "valid_matches, dict1, dict2 = mf.bidirectional_best_match(msdial_, asari_, mz_ppm=5, rt_tolerance=0.1)"
   ]
  },
  {
   "cell_type": "code",
   "execution_count": 31,
   "id": "82ab760a-8bb4-4a29-a699-2f4fc42b917e",
   "metadata": {},
   "outputs": [
    {
     "name": "stdout",
     "output_type": "stream",
     "text": [
      "msdial_, xcms_\n",
      "\n",
      "    ~~~ By best rtime matches ~~~     \n",
      "\n",
      "Of 54863 list1 features, number of uni-direction matched features is 14648.\n",
      "Of 10901 list1 features, number of uni-direction matched features is 8365.\n",
      "~~~ Biodirectional, unique Number of matched feature pairs: ~~~\n",
      " 5421\n",
      "\n",
      "\n",
      "########################################################################\n",
      "    ~~~ By best m/z matches ~~~     \n",
      "\n",
      "Of 54863 list1 features, number of uni-direction matched features is 14648.\n",
      "Of 10901 list1 features, number of uni-direction matched features is 8365.\n",
      "~~~ Biodirectional, unique Number of matched feature pairs: ~~~\n",
      "     6159\n",
      "########################################################################\n",
      "\n",
      "\n"
     ]
    }
   ],
   "source": [
    "print(\"msdial_, xcms_\")\n",
    "\n",
    "valid_matches, dict1, dict2 = mf.bidirectional_best_match(msdial_, xcms_, mz_ppm=5, rt_tolerance=0.1)"
   ]
  },
  {
   "cell_type": "markdown",
   "id": "a4bd4468-741c-4c69-a79c-d1f7fce4bc79",
   "metadata": {},
   "source": [
    "## End\n",
    "\n",
    "The numbers were used to construct Figure 1A and Suppl Table 1.\n"
   ]
  }
 ],
 "metadata": {
  "kernelspec": {
   "display_name": "Python 3 (ipykernel)",
   "language": "python",
   "name": "python3"
  },
  "language_info": {
   "codemirror_mode": {
    "name": "ipython",
    "version": 3
   },
   "file_extension": ".py",
   "mimetype": "text/x-python",
   "name": "python",
   "nbconvert_exporter": "python",
   "pygments_lexer": "ipython3",
   "version": "3.10.5"
  }
 },
 "nbformat": 4,
 "nbformat_minor": 5
}
