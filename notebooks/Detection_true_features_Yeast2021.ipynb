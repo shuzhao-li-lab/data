{
 "cells": [
  {
   "cell_type": "markdown",
   "id": "1c91e02e-99ca-4d19-a0a5-4f7a976b906c",
   "metadata": {},
   "source": [
    "# Detection of true features on Yeast2021 dataset by different software algorithms \n",
    "\n",
    "This is on the Yeast Neg data from Chen, Li, et al. \"Metabolite discovery through global annotation of untargeted metabolomics data.\" Nature methods 18.11 (2021): 1377-1385.\n",
    "\n",
    "- XCMS v3.18.0 (R 4.2.0)\n",
    "- MZmine 2.53 (peak detection via centwave and local mininum); 3.3.0.\n",
    "- MS-Dial v4.90\n",
    "- asari 1.10.6\n",
    "\n",
    "SL 2023-01-20"
   ]
  },
  {
   "cell_type": "code",
   "execution_count": 1,
   "id": "a66f300e-ee71-463e-a995-d96c4224d3ee",
   "metadata": {},
   "outputs": [],
   "source": [
    "!pip install --upgrade -q asari-metabolomics"
   ]
  },
  {
   "cell_type": "code",
   "execution_count": 2,
   "id": "3cb13c23-a030-4b9f-bc38-180e0b688614",
   "metadata": {},
   "outputs": [],
   "source": [
    "from asari.tools import match_features as mf"
   ]
  },
  {
   "cell_type": "code",
   "execution_count": 4,
   "id": "4c3c0e67-866b-43a5-9be2-addad25d5fa0",
   "metadata": {},
   "outputs": [
    {
     "name": "stdout",
     "output_type": "stream",
     "text": [
      "314 \n",
      " {'id': 'row5', 'mz': 88.04032, 'rtime': 13.01224}\n",
      "5341 \n",
      " {'id': 'row5', 'mz': 108.0217, 'rtime': 175.23}\n",
      "6043 \n",
      " {'id': 'row5', 'mz': 71.0114441447573, 'rtime': 191.529067993164}\n",
      "11290 \n",
      " {'id': 'row5', 'mz': 71.05022430419922, 'rtime': 10.932333333333334}\n",
      "11256 \n",
      " {'id': 'row5', 'mz': 112.9224, 'rtime': 1.01}\n",
      "18153 \n",
      " {'id': 'row5', 'mz': 71.01144409179688, 'rtime': 3.1790000000000003}\n",
      "4166 {'id': 'row10', 'mz': 71.01381, 'rtime': 4.709}\n"
     ]
    }
   ],
   "source": [
    "# get feature lists from diff tools\n",
    "# use seconds for retention time\n",
    "\n",
    "true_ = mf.get_featureList('manual_certified.txt', start_row=1, mz_col=1, rt_col=2, sep='\\t')\n",
    "print(len(true_), '\\n', true_[3])\n",
    "for x in true_:\n",
    "    x['rtime'] = x['rtime']*60\n",
    "\n",
    "asari_ = mf.get_featureList('asari1.10.6_default_full_Feature_table.tsv', start_row=1, mz_col=1, rt_col=2, sep='\\t')\n",
    "print(len(asari_), '\\n', asari_[3])\n",
    "\n",
    "xcms_ = mf.get_featureList('YeastNeg2021_NetID_XCMS_featureTable.csv', start_row=1, mz_col=1, rt_col=4, sep=',')\n",
    "print(len(xcms_), '\\n', xcms_[3])\n",
    "\n",
    "mzmine_ = mf.get_featureList('yeast2021_MZmine2.53_wavelets_featureTable.csv', start_row=1, mz_col=1, rt_col=2, sep=',')\n",
    "print(len(mzmine_), '\\n', mzmine_[3])\n",
    "for x in mzmine_:\n",
    "    x['rtime'] = x['rtime']*60\n",
    "\n",
    "mzmine3_ = mf.get_featureList('yeast2021_mzmine3.csv', start_row=1,mz_col=4, rt_col=1, sep=',')\n",
    "print(len(mzmine3_), '\\n', mzmine3_[3])\n",
    "for x in mzmine3_:\n",
    "    x['rtime'] = x['rtime']*60    \n",
    "    \n",
    "mzmine_L_ = mf.get_featureList('yeast2021_MZmine2.53_localminium_featureTable.csv', start_row=1, mz_col=1, rt_col=2, sep=',')\n",
    "print(len(mzmine_L_), '\\n', mzmine_L_[3])\n",
    "for x in mzmine_L_:\n",
    "    x['rtime'] = x['rtime']*60\n",
    "    \n",
    "msdial_ = mf.get_featureList('yeast2021-Area_0_20231191747.txt', start_row=6, mz_col=2, rt_col=1, sep='\\t')\n",
    "print(len(msdial_), msdial_[3])\n",
    "for x in msdial_:\n",
    "    x['rtime'] = x['rtime']*60"
   ]
  },
  {
   "cell_type": "code",
   "execution_count": 6,
   "id": "b3bd6fd8-9950-4723-a517-734847b9cd4b",
   "metadata": {},
   "outputs": [],
   "source": [
    "def compare(list1, list2):\n",
    "    '''compare matches and print unmatched in list1.\n",
    "    '''\n",
    "    print(\"\\n  List based inclusive comparisons:\")\n",
    "    dict1, dict2 = mf.bidirectional_match(list1, list2, mz_ppm=5, rt_tolerance=6)\n",
    "\n",
    "    print(\"\\n  Best match comparisons:\")\n",
    "    valid_matches, dict1, dict2 = mf.bidirectional_best_match(list1, list2, mz_ppm=5, rt_tolerance=6)\n",
    "\n",
    "    print(\"Unmatched features: \")\n",
    "    unmatched = [p for p in list1 if p['id'] not in [x[0] for x in valid_matches]]\n",
    "    print(unmatched)"
   ]
  },
  {
   "cell_type": "markdown",
   "id": "ec084cd9-a752-4b25-8db5-eca43d1a98e4",
   "metadata": {},
   "source": [
    "**For detection, unique match is not required. It happened in asari that 310 is best anyway**"
   ]
  },
  {
   "cell_type": "code",
   "execution_count": 16,
   "id": "143cae21-3dac-4952-93fc-f5fe2621cd98",
   "metadata": {},
   "outputs": [
    {
     "name": "stdout",
     "output_type": "stream",
     "text": [
      "\n",
      "  List based inclusive comparisons:\n",
      "Of 314 list1 features, number of uni-direction matched features is 310.\n",
      "Of 5341 list1 features, number of uni-direction matched features is 319.\n",
      "    ~~~ match_numbers ~~~     \n",
      "\n",
      "Unique Number of matched features in table 1:  302\n",
      "Unique Number of matched features in table 2:  319\n",
      "Biodirectional, unique Number of matched feature pairs:  302\n",
      "\n",
      "  Best match comparisons:\n",
      "\n",
      "    ~~~ By best rtime matches ~~~     \n",
      "\n",
      "Of 314 list1 features, number of uni-direction matched features is 310.\n",
      "Of 5341 list1 features, number of uni-direction matched features is 319.\n",
      "~~~ Biodirectional, unique Number of matched feature pairs: ~~~\n",
      " 310\n",
      "\n",
      "\n",
      "########################################################################\n",
      "    ~~~ By best m/z matches ~~~     \n",
      "\n",
      "Of 314 list1 features, number of uni-direction matched features is 310.\n",
      "Of 5341 list1 features, number of uni-direction matched features is 319.\n",
      "~~~ Biodirectional, unique Number of matched feature pairs: ~~~\n",
      "     310\n",
      "########################################################################\n",
      "\n",
      "\n",
      "Unmatched features: \n",
      "[{'id': 'row37', 'mz': 87.00871, 'rtime': 181.24704}, {'id': 'row39', 'mz': 158.1296, 'rtime': 882.84}, {'id': 'row246', 'mz': 404.1045, 'rtime': 832.8762}, {'id': 'row287', 'mz': 174.0433, 'rtime': 360.58302000000003}]\n"
     ]
    }
   ],
   "source": [
    "compare(true_, asari_)"
   ]
  },
  {
   "cell_type": "code",
   "execution_count": 17,
   "id": "1504c0b5-2d13-43bd-9366-653060d3f0a9",
   "metadata": {},
   "outputs": [
    {
     "name": "stdout",
     "output_type": "stream",
     "text": [
      "\n",
      "  List based inclusive comparisons:\n",
      "Of 314 list1 features, number of uni-direction matched features is 301.\n",
      "Of 6043 list1 features, number of uni-direction matched features is 303.\n",
      "    ~~~ match_numbers ~~~     \n",
      "\n",
      "Unique Number of matched features in table 1:  299\n",
      "Unique Number of matched features in table 2:  303\n",
      "Biodirectional, unique Number of matched feature pairs:  299\n",
      "\n",
      "  Best match comparisons:\n",
      "\n",
      "    ~~~ By best rtime matches ~~~     \n",
      "\n",
      "Of 314 list1 features, number of uni-direction matched features is 301.\n",
      "Of 6043 list1 features, number of uni-direction matched features is 303.\n",
      "~~~ Biodirectional, unique Number of matched feature pairs: ~~~\n",
      " 301\n",
      "\n",
      "\n",
      "########################################################################\n",
      "    ~~~ By best m/z matches ~~~     \n",
      "\n",
      "Of 314 list1 features, number of uni-direction matched features is 301.\n",
      "Of 6043 list1 features, number of uni-direction matched features is 303.\n",
      "~~~ Biodirectional, unique Number of matched feature pairs: ~~~\n",
      "     301\n",
      "########################################################################\n",
      "\n",
      "\n",
      "Unmatched features: \n",
      "[{'id': 'row25', 'mz': 131.0843, 'rtime': 590.2280400000001}, {'id': 'row26', 'mz': 131.0843, 'rtime': 557.29434}, {'id': 'row36', 'mz': 87.00869, 'rtime': 252.03966000000003}, {'id': 'row37', 'mz': 87.00871, 'rtime': 181.24704}, {'id': 'row38', 'mz': 87.00871, 'rtime': 296.90033999999997}, {'id': 'row39', 'mz': 158.1296, 'rtime': 882.84}, {'id': 'row124', 'mz': 138.0196, 'rtime': 804.9654}, {'id': 'row191', 'mz': 117.0557, 'rtime': 316.5}, {'id': 'row223', 'mz': 73.02946, 'rtime': 798.5033999999999}, {'id': 'row231', 'mz': 134.0472, 'rtime': 300.58404}, {'id': 'row292', 'mz': 99.00876, 'rtime': 798.3113999999999}, {'id': 'row301', 'mz': 89.03733, 'rtime': 780.9228}, {'id': 'row310', 'mz': 116.0352, 'rtime': 543.35772}]\n"
     ]
    }
   ],
   "source": [
    "compare(true_, xcms_)"
   ]
  },
  {
   "cell_type": "code",
   "execution_count": 18,
   "id": "4bee5ea2-f271-400b-9158-d8f8b079ef1f",
   "metadata": {},
   "outputs": [
    {
     "name": "stdout",
     "output_type": "stream",
     "text": [
      "\n",
      "  List based inclusive comparisons:\n",
      "Of 314 list1 features, number of uni-direction matched features is 291.\n",
      "Of 11290 list1 features, number of uni-direction matched features is 292.\n",
      "    ~~~ match_numbers ~~~     \n",
      "\n",
      "Unique Number of matched features in table 1:  290\n",
      "Unique Number of matched features in table 2:  292\n",
      "Biodirectional, unique Number of matched feature pairs:  290\n",
      "\n",
      "  Best match comparisons:\n",
      "\n",
      "    ~~~ By best rtime matches ~~~     \n",
      "\n",
      "Of 314 list1 features, number of uni-direction matched features is 291.\n",
      "Of 11290 list1 features, number of uni-direction matched features is 292.\n",
      "~~~ Biodirectional, unique Number of matched feature pairs: ~~~\n",
      " 291\n",
      "\n",
      "\n",
      "########################################################################\n",
      "    ~~~ By best m/z matches ~~~     \n",
      "\n",
      "Of 314 list1 features, number of uni-direction matched features is 291.\n",
      "Of 11290 list1 features, number of uni-direction matched features is 292.\n",
      "~~~ Biodirectional, unique Number of matched feature pairs: ~~~\n",
      "     291\n",
      "########################################################################\n",
      "\n",
      "\n",
      "Unmatched features: \n",
      "[{'id': 'row23', 'mz': 131.0825, 'rtime': 974.5374}, {'id': 'row24', 'mz': 131.0825, 'rtime': 1006.9997999999999}, {'id': 'row25', 'mz': 131.0843, 'rtime': 590.2280400000001}, {'id': 'row26', 'mz': 131.0843, 'rtime': 557.29434}, {'id': 'row37', 'mz': 87.00871, 'rtime': 181.24704}, {'id': 'row38', 'mz': 87.00871, 'rtime': 296.90033999999997}, {'id': 'row56', 'mz': 128.0352, 'rtime': 668.7216}, {'id': 'row62', 'mz': 130.0872, 'rtime': 590.22834}, {'id': 'row133', 'mz': 161.0454, 'rtime': 783.5622}, {'id': 'row147', 'mz': 133.0506, 'rtime': 465.9684}, {'id': 'row156', 'mz': 132.0858, 'rtime': 974.5374}, {'id': 'row157', 'mz': 132.0859, 'rtime': 1006.9997999999999}, {'id': 'row163', 'mz': 244.0672, 'rtime': 708.5292000000001}, {'id': 'row164', 'mz': 244.0672, 'rtime': 681.6822000000001}, {'id': 'row167', 'mz': 315.254, 'rtime': 165.09702}, {'id': 'row186', 'mz': 147.0663, 'rtime': 344.18532}, {'id': 'row191', 'mz': 117.0557, 'rtime': 316.5}, {'id': 'row243', 'mz': 78.95901, 'rtime': 852.2742000000001}, {'id': 'row287', 'mz': 174.0433, 'rtime': 360.58302000000003}, {'id': 'row295', 'mz': 131.0906, 'rtime': 589.83804}, {'id': 'row304', 'mz': 96.96958, 'rtime': 852.4662}, {'id': 'row309', 'mz': 181.0716, 'rtime': 681.4878}, {'id': 'row312', 'mz': 158.9389, 'rtime': 830.9958}]\n"
     ]
    }
   ],
   "source": [
    "compare(true_, mzmine_)"
   ]
  },
  {
   "cell_type": "code",
   "execution_count": 7,
   "id": "744563b2-a578-401e-809d-edc036291b7d",
   "metadata": {},
   "outputs": [
    {
     "name": "stdout",
     "output_type": "stream",
     "text": [
      "\n",
      "  List based inclusive comparisons:\n",
      "Of 314 list1 features, number of uni-direction matched features is 291.\n",
      "Of 11256 list1 features, number of uni-direction matched features is 292.\n",
      "    ~~~ match_numbers ~~~     \n",
      "\n",
      "Unique Number of matched features in table 1:  290\n",
      "Unique Number of matched features in table 2:  292\n",
      "Biodirectional, unique Number of matched feature pairs:  290\n",
      "\n",
      "  Best match comparisons:\n",
      "\n",
      "    ~~~ By best rtime matches ~~~     \n",
      "\n",
      "Of 314 list1 features, number of uni-direction matched features is 291.\n",
      "Of 11256 list1 features, number of uni-direction matched features is 292.\n",
      "~~~ Biodirectional, unique Number of matched feature pairs: ~~~\n",
      " 291\n",
      "\n",
      "\n",
      "########################################################################\n",
      "    ~~~ By best m/z matches ~~~     \n",
      "\n",
      "Of 314 list1 features, number of uni-direction matched features is 291.\n",
      "Of 11256 list1 features, number of uni-direction matched features is 292.\n",
      "~~~ Biodirectional, unique Number of matched feature pairs: ~~~\n",
      "     291\n",
      "########################################################################\n",
      "\n",
      "\n",
      "Unmatched features: \n",
      "[{'id': 'row23', 'mz': 131.0825, 'rtime': 974.5374}, {'id': 'row24', 'mz': 131.0825, 'rtime': 1006.9997999999999}, {'id': 'row25', 'mz': 131.0843, 'rtime': 590.2280400000001}, {'id': 'row26', 'mz': 131.0843, 'rtime': 557.29434}, {'id': 'row37', 'mz': 87.00871, 'rtime': 181.24704}, {'id': 'row38', 'mz': 87.00871, 'rtime': 296.90033999999997}, {'id': 'row56', 'mz': 128.0352, 'rtime': 668.7216}, {'id': 'row62', 'mz': 130.0872, 'rtime': 590.22834}, {'id': 'row133', 'mz': 161.0454, 'rtime': 783.5622}, {'id': 'row147', 'mz': 133.0506, 'rtime': 465.9684}, {'id': 'row156', 'mz': 132.0858, 'rtime': 974.5374}, {'id': 'row157', 'mz': 132.0859, 'rtime': 1006.9997999999999}, {'id': 'row163', 'mz': 244.0672, 'rtime': 708.5292000000001}, {'id': 'row164', 'mz': 244.0672, 'rtime': 681.6822000000001}, {'id': 'row167', 'mz': 315.254, 'rtime': 165.09702}, {'id': 'row186', 'mz': 147.0663, 'rtime': 344.18532}, {'id': 'row191', 'mz': 117.0557, 'rtime': 316.5}, {'id': 'row243', 'mz': 78.95901, 'rtime': 852.2742000000001}, {'id': 'row287', 'mz': 174.0433, 'rtime': 360.58302000000003}, {'id': 'row295', 'mz': 131.0906, 'rtime': 589.83804}, {'id': 'row304', 'mz': 96.96958, 'rtime': 852.4662}, {'id': 'row309', 'mz': 181.0716, 'rtime': 681.4878}, {'id': 'row312', 'mz': 158.9389, 'rtime': 830.9958}]\n"
     ]
    }
   ],
   "source": [
    "compare(true_, mzmine3_)"
   ]
  },
  {
   "cell_type": "code",
   "execution_count": 19,
   "id": "2cb96290-214a-4fa4-bbb6-3226b27c8782",
   "metadata": {},
   "outputs": [
    {
     "name": "stdout",
     "output_type": "stream",
     "text": [
      "\n",
      "  List based inclusive comparisons:\n",
      "Of 314 list1 features, number of uni-direction matched features is 271.\n",
      "Of 18153 list1 features, number of uni-direction matched features is 274.\n",
      "    ~~~ match_numbers ~~~     \n",
      "\n",
      "Unique Number of matched features in table 1:  268\n",
      "Unique Number of matched features in table 2:  274\n",
      "Biodirectional, unique Number of matched feature pairs:  268\n",
      "\n",
      "  Best match comparisons:\n",
      "\n",
      "    ~~~ By best rtime matches ~~~     \n",
      "\n",
      "Of 314 list1 features, number of uni-direction matched features is 271.\n",
      "Of 18153 list1 features, number of uni-direction matched features is 274.\n",
      "~~~ Biodirectional, unique Number of matched feature pairs: ~~~\n",
      " 271\n",
      "\n",
      "\n",
      "########################################################################\n",
      "    ~~~ By best m/z matches ~~~     \n",
      "\n",
      "Of 314 list1 features, number of uni-direction matched features is 271.\n",
      "Of 18153 list1 features, number of uni-direction matched features is 274.\n",
      "~~~ Biodirectional, unique Number of matched feature pairs: ~~~\n",
      "     271\n",
      "########################################################################\n",
      "\n",
      "\n",
      "Unmatched features: \n",
      "[{'id': 'row10', 'mz': 146.0458, 'rtime': 598.83576}, {'id': 'row12', 'mz': 156.9907, 'rtime': 833.4413999999999}, {'id': 'row14', 'mz': 145.0618, 'rtime': 677.6196}, {'id': 'row15', 'mz': 173.1042, 'rtime': 1006.2402}, {'id': 'row17', 'mz': 115.0764, 'rtime': 254.10264}, {'id': 'row23', 'mz': 131.0825, 'rtime': 974.5374}, {'id': 'row28', 'mz': 151.061, 'rtime': 431.59704}, {'id': 'row32', 'mz': 116.0717, 'rtime': 672.5904}, {'id': 'row37', 'mz': 87.00871, 'rtime': 181.24704}, {'id': 'row38', 'mz': 87.00871, 'rtime': 296.90033999999997}, {'id': 'row54', 'mz': 128.0353, 'rtime': 809.6988}, {'id': 'row56', 'mz': 128.0352, 'rtime': 668.7216}, {'id': 'row62', 'mz': 130.0872, 'rtime': 590.22834}, {'id': 'row65', 'mz': 158.9888, 'rtime': 833.4413999999999}, {'id': 'row69', 'mz': 164.0716, 'rtime': 529.97538}, {'id': 'row70', 'mz': 164.0716, 'rtime': 803.6394}, {'id': 'row71', 'mz': 241.073, 'rtime': 254.10264}, {'id': 'row73', 'mz': 165.0555, 'rtime': 252.03930000000003}, {'id': 'row95', 'mz': 135.0451, 'rtime': 252.60168000000002}, {'id': 'row98', 'mz': 176.0385, 'rtime': 428.53068}, {'id': 'row103', 'mz': 174.077, 'rtime': 734.49}, {'id': 'row134', 'mz': 91.04004, 'rtime': 423.56502}, {'id': 'row136', 'mz': 180.0665, 'rtime': 645.4272000000001}, {'id': 'row147', 'mz': 133.0506, 'rtime': 465.9684}, {'id': 'row149', 'mz': 160.0614, 'rtime': 645.4272000000001}, {'id': 'row159', 'mz': 172.0614, 'rtime': 675.6888}, {'id': 'row186', 'mz': 147.0663, 'rtime': 344.18532}, {'id': 'row188', 'mz': 152.0644, 'rtime': 431.0217}, {'id': 'row191', 'mz': 117.0557, 'rtime': 316.5}, {'id': 'row216', 'mz': 117.075, 'rtime': 672.591}, {'id': 'row219', 'mz': 160.0436, 'rtime': 455.48106}, {'id': 'row223', 'mz': 73.02946, 'rtime': 798.5033999999999}, {'id': 'row226', 'mz': 172.0979, 'rtime': 425.66369999999995}, {'id': 'row231', 'mz': 134.0472, 'rtime': 300.58404}, {'id': 'row237', 'mz': 115.0036, 'rtime': 813.2922}, {'id': 'row243', 'mz': 78.95901, 'rtime': 852.2742000000001}, {'id': 'row266', 'mz': 176.0562, 'rtime': 802.8828}, {'id': 'row280', 'mz': 203.1288, 'rtime': 252.22704}, {'id': 'row287', 'mz': 174.0433, 'rtime': 360.58302000000003}, {'id': 'row302', 'mz': 263.0439, 'rtime': 384.77268}, {'id': 'row305', 'mz': 147.0663, 'rtime': 426.42768}, {'id': 'row308', 'mz': 151.061, 'rtime': 593.3560200000001}, {'id': 'row312', 'mz': 158.9389, 'rtime': 830.9958}]\n"
     ]
    }
   ],
   "source": [
    "compare(true_, mzmine_L_)"
   ]
  },
  {
   "cell_type": "code",
   "execution_count": 20,
   "id": "ba920bc4-0019-4e9f-8770-66e5b00d92a0",
   "metadata": {},
   "outputs": [
    {
     "name": "stdout",
     "output_type": "stream",
     "text": [
      "\n",
      "  List based inclusive comparisons:\n",
      "Of 314 list1 features, number of uni-direction matched features is 265.\n",
      "Of 4166 list1 features, number of uni-direction matched features is 266.\n",
      "    ~~~ match_numbers ~~~     \n",
      "\n",
      "Unique Number of matched features in table 1:  264\n",
      "Unique Number of matched features in table 2:  266\n",
      "Biodirectional, unique Number of matched feature pairs:  264\n",
      "\n",
      "  Best match comparisons:\n",
      "\n",
      "    ~~~ By best rtime matches ~~~     \n",
      "\n",
      "Of 314 list1 features, number of uni-direction matched features is 265.\n",
      "Of 4166 list1 features, number of uni-direction matched features is 266.\n",
      "~~~ Biodirectional, unique Number of matched feature pairs: ~~~\n",
      " 265\n",
      "\n",
      "\n",
      "########################################################################\n",
      "    ~~~ By best m/z matches ~~~     \n",
      "\n",
      "Of 314 list1 features, number of uni-direction matched features is 265.\n",
      "Of 4166 list1 features, number of uni-direction matched features is 266.\n",
      "~~~ Biodirectional, unique Number of matched feature pairs: ~~~\n",
      "     265\n",
      "########################################################################\n",
      "\n",
      "\n",
      "Unmatched features: \n",
      "[{'id': 'row19', 'mz': 256.2362, 'rtime': 148.18338}, {'id': 'row20', 'mz': 254.2206, 'rtime': 148.93002}, {'id': 'row25', 'mz': 131.0843, 'rtime': 590.2280400000001}, {'id': 'row26', 'mz': 131.0843, 'rtime': 557.29434}, {'id': 'row27', 'mz': 284.2674, 'rtime': 146.13036}, {'id': 'row39', 'mz': 158.1296, 'rtime': 882.84}, {'id': 'row41', 'mz': 144.1109, 'rtime': 252.60168000000002}, {'id': 'row42', 'mz': 144.111, 'rtime': 169.24535999999998}, {'id': 'row64', 'mz': 89.04362, 'rtime': 780.735}, {'id': 'row68', 'mz': 147.0489, 'rtime': 809.8878}, {'id': 'row78', 'mz': 122.0327, 'rtime': 252.60168000000002}, {'id': 'row79', 'mz': 122.0328, 'rtime': 175.7067}, {'id': 'row80', 'mz': 206.163, 'rtime': 154.55532}, {'id': 'row84', 'mz': 146.0648, 'rtime': 803.2608}, {'id': 'row89', 'mz': 174.1075, 'rtime': 1006.05}, {'id': 'row93', 'mz': 157.994, 'rtime': 833.4413999999999}, {'id': 'row102', 'mz': 175.0915, 'rtime': 818.2206}, {'id': 'row108', 'mz': 116.0797, 'rtime': 253.91502}, {'id': 'row109', 'mz': 116.0797, 'rtime': 180.86436}, {'id': 'row111', 'mz': 257.2397, 'rtime': 148.18338}, {'id': 'row117', 'mz': 240.0629, 'rtime': 157.38402}, {'id': 'row125', 'mz': 446.1901, 'rtime': 166.98336}, {'id': 'row148', 'mz': 317.1199, 'rtime': 814.6211999999999}, {'id': 'row151', 'mz': 312.1721, 'rtime': 125.19900000000001}, {'id': 'row155', 'mz': 132.0858, 'rtime': 818.4096}, {'id': 'row156', 'mz': 132.0858, 'rtime': 974.5374}, {'id': 'row157', 'mz': 132.0859, 'rtime': 1006.9997999999999}, {'id': 'row165', 'mz': 300.2624, 'rtime': 157.94766}, {'id': 'row173', 'mz': 326.1877, 'rtime': 125.00868}, {'id': 'row181', 'mz': 242.2207, 'rtime': 148.93002}, {'id': 'row188', 'mz': 152.0644, 'rtime': 431.0217}, {'id': 'row189', 'mz': 310.2832, 'rtime': 144.44898}, {'id': 'row208', 'mz': 118.0226, 'rtime': 798.3113999999999}, {'id': 'row211', 'mz': 340.2032, 'rtime': 123.66833999999999}, {'id': 'row214', 'mz': 170.1267, 'rtime': 162.2757}, {'id': 'row216', 'mz': 117.075, 'rtime': 672.591}, {'id': 'row220', 'mz': 119.0541, 'rtime': 780.5466}, {'id': 'row221', 'mz': 612.1484, 'rtime': 850.5492}, {'id': 'row222', 'mz': 307.0799, 'rtime': 809.6994}, {'id': 'row225', 'mz': 152.0433, 'rtime': 175.51602}, {'id': 'row244', 'mz': 242.0763, 'rtime': 253.91502}, {'id': 'row250', 'mz': 350.1874, 'rtime': 818.7888}, {'id': 'row274', 'mz': 165.0748, 'rtime': 529.97538}, {'id': 'row281', 'mz': 298.1563, 'rtime': 126.15666}, {'id': 'row285', 'mz': 166.0589, 'rtime': 252.22668}, {'id': 'row288', 'mz': 134.0175, 'rtime': 812.1546}, {'id': 'row289', 'mz': 258.179, 'rtime': 157.94766}, {'id': 'row295', 'mz': 131.0906, 'rtime': 589.83804}, {'id': 'row313', 'mz': 285.2708, 'rtime': 145.57032}]\n"
     ]
    }
   ],
   "source": [
    "compare(true_, msdial_)"
   ]
  },
  {
   "cell_type": "markdown",
   "id": "a4bd4468-741c-4c69-a79c-d1f7fce4bc79",
   "metadata": {},
   "source": [
    "## End\n",
    "\n",
    "The numbers were used to construct Figure 4B.\n"
   ]
  },
  {
   "cell_type": "markdown",
   "id": "2e5038e6-660a-485f-947c-22e6e8f6e7b6",
   "metadata": {},
   "source": [
    "## Extra: get matched features btw two lists"
   ]
  },
  {
   "cell_type": "code",
   "execution_count": 21,
   "id": "ddf9a5b6-4c7e-4551-8904-563c6d3c96a2",
   "metadata": {},
   "outputs": [
    {
     "name": "stdout",
     "output_type": "stream",
     "text": [
      "\n",
      "    ~~~ By best rtime matches ~~~     \n",
      "\n",
      "Of 5341 list1 features, number of uni-direction matched features is 3105.\n",
      "Of 6043 list1 features, number of uni-direction matched features is 3048.\n",
      "~~~ Biodirectional, unique Number of matched feature pairs: ~~~\n",
      " 3013\n",
      "\n",
      "\n",
      "########################################################################\n",
      "    ~~~ By best m/z matches ~~~     \n",
      "\n",
      "Of 5341 list1 features, number of uni-direction matched features is 3105.\n",
      "Of 6043 list1 features, number of uni-direction matched features is 3048.\n",
      "~~~ Biodirectional, unique Number of matched feature pairs: ~~~\n",
      "     3016\n",
      "########################################################################\n",
      "\n",
      "\n",
      "3016 [('row2', 'row3'), ('row3', 'row5'), ('row4', 'row6'), ('row19', 'row774'), ('row20', 'row1118')]\n"
     ]
    }
   ],
   "source": [
    "valid_matches, dict1, dict2 = mf.bidirectional_best_match(asari_, xcms_, mz_ppm=5, rt_tolerance=6)\n",
    "print(len(valid_matches), valid_matches[:5])"
   ]
  }
 ],
 "metadata": {
  "kernelspec": {
   "display_name": "Python 3 (ipykernel)",
   "language": "python",
   "name": "python3"
  },
  "language_info": {
   "codemirror_mode": {
    "name": "ipython",
    "version": 3
   },
   "file_extension": ".py",
   "mimetype": "text/x-python",
   "name": "python",
   "nbconvert_exporter": "python",
   "pygments_lexer": "ipython3",
   "version": "3.10.5"
  }
 },
 "nbformat": 4,
 "nbformat_minor": 5
}
