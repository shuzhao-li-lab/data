{
 "cells": [
  {
   "cell_type": "markdown",
   "id": "8d4667dd-30b3-4736-8bd6-d2604a367155",
   "metadata": {},
   "source": [
    "# Plot peak shapes on Yeast2021 dataset by different software algorithms \n",
    "\n",
    "This is on the Yeast Neg data from Chen, Li, et al. \"Metabolite discovery through global annotation of untargeted metabolomics data.\" Nature methods 18.11 (2021): 1377-1385.\n",
    "\n",
    "- XCMS v3.18.0 (R 4.2.0)\n",
    "- MZmine 2.53 (peak detection via centwave and local mininum)\n",
    "- MS-Dial v4.90\n",
    "- asari 1.10.6\n",
    "\n",
    "SL 2023-01-21"
   ]
  },
  {
   "cell_type": "code",
   "execution_count": 1,
   "id": "dd6905ab-9b04-4d16-8423-97443ddd89d0",
   "metadata": {},
   "outputs": [],
   "source": [
    "!pip install --upgrade -q asari-metabolomics\n",
    "!pip install --upgrade -q jms-metabolite-services"
   ]
  },
  {
   "cell_type": "code",
   "execution_count": 2,
   "id": "84cb14cc-853a-4c8b-8d92-c1d5057fc09e",
   "metadata": {},
   "outputs": [],
   "source": [
    "import pickle\n",
    "import matplotlib.pyplot as plt\n",
    "from numpy import log2\n",
    "from asari.peaks import evaluate_gaussian_peak_on_intensity_list\n",
    "from jms.search import build_centurion_tree, find_best_match_centurion_indexed_list"
   ]
  },
  {
   "cell_type": "code",
   "execution_count": 3,
   "id": "2ff24385-9646-4115-9f69-efd797404bf4",
   "metadata": {},
   "outputs": [],
   "source": [
    "def get_features(infile, start_row=1, mz_col=0, rt_col=1, \n",
    "                 rt_left=2, rt_right=3,\n",
    "                 shape=None,\n",
    "                 sep='\\t'):\n",
    "    '''Read features from infile and return a list of json peaks.\n",
    "    '''\n",
    "    FL = []\n",
    "    Gshape = 0\n",
    "    ii = 0\n",
    "    for line in open(infile).read().splitlines()[start_row:]:\n",
    "        ii += 1\n",
    "        a = line.split(sep)\n",
    "        if shape:\n",
    "            Gshape = float(a[shape])\n",
    "        FL.append(\n",
    "            {'id': 'row'+str(ii+start_row), 'mz': float(a[mz_col]), \n",
    "             'rtime': float(a[rt_col]),\n",
    "             'rt_left': float(a[rt_left]),\n",
    "             'rt_right': float(a[rt_right]),\n",
    "             'shape': Gshape,\n",
    "            }\n",
    "        )\n",
    "    return FL\n",
    "    "
   ]
  },
  {
   "cell_type": "code",
   "execution_count": 4,
   "id": "ef47673d-0e96-4110-b1b8-b015edddd495",
   "metadata": {},
   "outputs": [
    {
     "name": "stdout",
     "output_type": "stream",
     "text": [
      "6043 \n",
      " [{'id': 'row2', 'mz': 70.0640208883424, 'rtime': 145.47135925293, 'rt_left': 145.47135925293, 'rt_right': 145.47135925293, 'shape': 0}, {'id': 'row3', 'mz': 70.439044434384, 'rtime': 146.045, 'rt_left': 146.031768798828, 'rt_right': 146.045166015625, 'shape': 0}, {'id': 'row4', 'mz': 70.9460569198031, 'rtime': 406.291839599609, 'rt_left': 405.112243652344, 'rt_right': 406.872, 'shape': 0}]\n"
     ]
    }
   ],
   "source": [
    "xcms_ = get_features('YeastNeg2021_NetID_XCMS_featureTable.csv', start_row=1, mz_col=1, rt_col=4, rt_left=5, rt_right=6, sep=',')\n",
    "print(len(xcms_), '\\n', xcms_[:3])"
   ]
  },
  {
   "cell_type": "code",
   "execution_count": 75,
   "id": "1a5ef7fc-091c-45f5-bda5-76ed3e0c9105",
   "metadata": {},
   "outputs": [
    {
     "name": "stdout",
     "output_type": "stream",
     "text": [
      "5341 \n",
      " {'id': 'row5', 'mz': 108.0217, 'rtime': 175.23, 'rt_left': 168.4, 'rt_right': 182.11, 'shape': 0.87}\n"
     ]
    }
   ],
   "source": [
    "asari_ = get_features('asari1.10.6_default_full_Feature_table.tsv', start_row=1, mz_col=1, rt_col=2, rt_left=3, rt_right=4, shape=8, sep='\\t')\n",
    "print(len(asari_), '\\n', asari_[3])"
   ]
  },
  {
   "cell_type": "code",
   "execution_count": 6,
   "id": "e314a9ac-c944-4fad-a19f-925b78064d2e",
   "metadata": {},
   "outputs": [
    {
     "name": "stdout",
     "output_type": "stream",
     "text": [
      "18155 \n",
      " {'id': 'row5', 'mz': 72.00908915201823, 'rtime': 780.358, 'rt_left': 776.109, 'rt_right': 787.542, 'shape': 0}\n"
     ]
    }
   ],
   "source": [
    "mzmine_L_ = get_features('exportrtrange_yeast2021_MZmine2.53_localminium_featureTable.csv', \n",
    "                               start_row=1, mz_col=1, rt_col=2, rt_left=6, rt_right=7, shape=None, sep=',')\n",
    "for x in mzmine_L_:\n",
    "    x['rtime'] = x['rtime']*60\n",
    "    x['rt_left'] = x['rt_left']*60\n",
    "    x['rt_right'] = x['rt_right']*60\n",
    "    \n",
    "print(len(mzmine_L_), '\\n', mzmine_L_[3])"
   ]
  },
  {
   "cell_type": "code",
   "execution_count": 7,
   "id": "d694fef9-f7dc-47bc-900c-a0b3f62f8ca8",
   "metadata": {},
   "outputs": [
    {
     "name": "stdout",
     "output_type": "stream",
     "text": [
      "11290 \n",
      " {'id': 'row5', 'mz': 71.05022430419922, 'rtime': 655.94, 'rt_left': 654.172, 'rt_right': 656.53, 'shape': 0}\n"
     ]
    }
   ],
   "source": [
    "mzmine_ = get_features('exportrtrange_yeast2021_MZmine2.53_wavelets_featureTable.csv', \n",
    "                               start_row=1, mz_col=1, rt_col=2, rt_left=6, rt_right=7, shape=None, sep=',')\n",
    "for x in mzmine_:\n",
    "    x['rtime'] = x['rtime']*60\n",
    "    x['rt_left'] = x['rt_left']*60\n",
    "    x['rt_right'] = x['rt_right']*60\n",
    "    \n",
    "print(len(mzmine_), '\\n', mzmine_[3])\n"
   ]
  },
  {
   "cell_type": "markdown",
   "id": "6d5dbda6-bc0a-424e-8aab-6f0809c8a5eb",
   "metadata": {},
   "source": [
    "# will add msdial\n",
    "\n",
    "msdial_ = get_features('', start_row=6, mz_col=2, \n",
    "                       \n",
    "                       \n",
    "                       rt_col=1, sep='\\t')\n",
    "\n",
    "\n"
   ]
  },
  {
   "cell_type": "code",
   "execution_count": null,
   "id": "6e2f964a-affd-4736-adc8-940e5b385cc0",
   "metadata": {},
   "outputs": [],
   "source": []
  },
  {
   "cell_type": "code",
   "execution_count": null,
   "id": "3489d2b7-6377-4165-9d82-907b5d2d0a68",
   "metadata": {},
   "outputs": [],
   "source": []
  },
  {
   "cell_type": "markdown",
   "id": "14ca2f1b-fb3b-439a-88ce-549fa91a1c3d",
   "metadata": {},
   "source": [
    "## How to evaluate peaks\n",
    "\n",
    "We use the mass tracks from asari with 1E4 min peak height.\n",
    "\n",
    "Match m/z of a feature by XCMS to a mass track. \n",
    "Use RT window from XCMS to get peak data points, \n",
    "and calculate peak height and goodness of Gaussian fitting.\n",
    "\n",
    "Repeat for other processing methods.\n",
    "\n",
    "Plot peak shape vs log2 height."
   ]
  },
  {
   "cell_type": "code",
   "execution_count": 72,
   "id": "9100e7d5-05e6-44b8-9740-5be64b10e54d",
   "metadata": {},
   "outputs": [],
   "source": [
    "def get_track_id(mz, tracktree, ppm=5):\n",
    "    '''return best matched mass track for mz.\n",
    "    None if no match.\n",
    "    '''\n",
    "    return find_best_match_centurion_indexed_list(mz, tracktree, limit_ppm=ppm)\n",
    "\n",
    "def remove_redundant(peaks, tracktree, ppm=5):\n",
    "    '''return list of pairs, [(masstrack_id, peak), ...]\n",
    "    fix masstrack id if needed.\n",
    "    '''\n",
    "    print(\"Input list\", len(peaks))\n",
    "    new, d = [], {}\n",
    "    for peak in peaks:\n",
    "        m_ = get_track_id(peak['mz'], tracktree)\n",
    "        if m_:\n",
    "            if m_['id_number'] in d:\n",
    "                d[m_['id_number']].append(peak)\n",
    "            else:\n",
    "                d[m_['id_number']] = [peak]\n",
    "\n",
    "    for k,v in d.items():\n",
    "        v = compact_plist(v)\n",
    "        for x in v:\n",
    "            new.append( (k, x) )\n",
    "            \n",
    "    print(\"After removing redundancy\", len(new))\n",
    "    return new\n",
    "\n",
    "def compact_plist(L):\n",
    "    '''remove redundnat peaks in L'''\n",
    "    if len(L) > 1:\n",
    "        L = sorted( [(p['rtime'], p['id'], p) for p in L] )\n",
    "        new = [L[0], ]\n",
    "        for x in L[1:]:\n",
    "            if abs(x[0] - new[-1][0]) > 6: # seconds\n",
    "                new.append(x)\n",
    "        return [x[2] for x in new]\n",
    "    else:\n",
    "        return L\n",
    "        \n",
    "                    \n",
    "def extract_peak_info(peak, dict_scan_rtime, masstrack):\n",
    "    '''update peak by height and goodness of fitting\n",
    "    '''\n",
    "    padding = 3\n",
    "    l, r = peak['rt_left'] - padding, peak['rt_right'] + padding\n",
    "    scans = sorted([k for k,v in dict_scan_rtime.items() if l <= v <= r])\n",
    "    if len(scans) > 3:\n",
    "        roi = masstrack['intensity'][scans]\n",
    "        height = roi.max()\n",
    "        right = len(scans) - 1\n",
    "        apex = int(right/2)\n",
    "        shape, _sigma = evaluate_gaussian_peak_on_intensity_list(roi, height, apex, 0, right)\n",
    "    elif scans:\n",
    "        roi = masstrack['intensity'][scans]\n",
    "        height = roi.max()\n",
    "        shape = 0\n",
    "    else:\n",
    "        height, shape = 10000, 0\n",
    "    return height, shape\n",
    "    "
   ]
  },
  {
   "cell_type": "code",
   "execution_count": 32,
   "id": "289e1aa8-d559-4cf0-8bd9-01a7fe1de5a3",
   "metadata": {},
   "outputs": [
    {
     "data": {
      "text/plain": [
       "dict_keys(['_number_of_samples_', 'rt_length', 'dict_scan_rtime', 'list_mass_tracks', 'MassGrid'])"
      ]
     },
     "execution_count": 32,
     "metadata": {},
     "output_type": "execute_result"
    }
   ],
   "source": [
    "# mass tracks and most info are stored in cmap.pickle in asari processing\n",
    "cmap = pickle.load(open('low_cmap.pickle', 'rb'))\n",
    "cmap.keys()"
   ]
  },
  {
   "cell_type": "code",
   "execution_count": 33,
   "id": "83c4d233-8d47-45a2-94d3-6ea5fbc7bec5",
   "metadata": {},
   "outputs": [],
   "source": [
    "dict_scan_rtime = cmap['dict_scan_rtime']\n",
    "cmap = cmap['list_mass_tracks']"
   ]
  },
  {
   "cell_type": "code",
   "execution_count": 34,
   "id": "d19469f9-edf2-42bb-9717-067462eca055",
   "metadata": {},
   "outputs": [
    {
     "data": {
      "text/plain": [
       "[(0, 60.144800000000004),\n",
       " (1, 60.7342),\n",
       " (2, 61.31479999999999),\n",
       " (3, 61.8955),\n",
       " (4, 62.47580000000001),\n",
       " (5, 63.0544),\n",
       " (6, 63.6338),\n",
       " (7, 64.2127),\n",
       " (8, 64.7913)]"
      ]
     },
     "execution_count": 34,
     "metadata": {},
     "output_type": "execute_result"
    }
   ],
   "source": [
    "list(dict_scan_rtime.items())[:9]"
   ]
  },
  {
   "cell_type": "code",
   "execution_count": 35,
   "id": "3e6c9220-7b17-435c-8942-8b1fe6a7b1ab",
   "metadata": {},
   "outputs": [
    {
     "data": {
      "text/plain": [
       "{'id_number': 99,\n",
       " 'mz': 76.96569442749023,\n",
       " 'intensity': array([2956, 3920, 3613, ..., 7184, 2839, 2386])}"
      ]
     },
     "execution_count": 35,
     "metadata": {},
     "output_type": "execute_result"
    }
   ],
   "source": [
    "cmap[99]"
   ]
  },
  {
   "cell_type": "code",
   "execution_count": 36,
   "id": "5b2819b0-1b30-4d69-9dcd-40e482f3a62e",
   "metadata": {},
   "outputs": [
    {
     "data": {
      "text/plain": [
       "12207"
      ]
     },
     "execution_count": 36,
     "metadata": {},
     "output_type": "execute_result"
    }
   ],
   "source": [
    "len(cmap.keys())"
   ]
  },
  {
   "cell_type": "code",
   "execution_count": 37,
   "id": "8fa1cfdb-7b4d-4e7f-ba71-d850eb28aafa",
   "metadata": {},
   "outputs": [],
   "source": [
    "tracktree = build_centurion_tree(list(cmap.values()))"
   ]
  },
  {
   "cell_type": "code",
   "execution_count": 38,
   "id": "9535d8cc-48e6-4f1f-9b9b-205337b1bc2b",
   "metadata": {},
   "outputs": [
    {
     "data": {
      "text/plain": [
       "{'id_number': 10191,\n",
       " 'mz': 76.96812057495117,\n",
       " 'intensity': array([   0,    0,    0, ...,    0, 7391, 3404])}"
      ]
     },
     "execution_count": 38,
     "metadata": {},
     "output_type": "execute_result"
    }
   ],
   "source": [
    "get_track_id(76.968, tracktree)"
   ]
  },
  {
   "cell_type": "code",
   "execution_count": 39,
   "id": "d5668b19-02fb-4a21-b6a0-cd63fbaae0ee",
   "metadata": {},
   "outputs": [
    {
     "data": {
      "text/plain": [
       "{'id': 'row1002',\n",
       " 'mz': 146.1152,\n",
       " 'rtime': 252.69,\n",
       " 'rt_left': 248.17,\n",
       " 'rt_right': 257.25,\n",
       " 'shape': 1.0,\n",
       " 'height': 310862}"
      ]
     },
     "execution_count": 39,
     "metadata": {},
     "output_type": "execute_result"
    }
   ],
   "source": [
    "asari_[1000]"
   ]
  },
  {
   "cell_type": "code",
   "execution_count": 40,
   "id": "75275821-92d3-463a-bae4-c400a103a84d",
   "metadata": {},
   "outputs": [
    {
     "data": {
      "text/plain": [
       "{'id_number': 2100,\n",
       " 'mz': 146.11518096923828,\n",
       " 'intensity': array([0, 0, 0, ..., 0, 0, 0])}"
      ]
     },
     "execution_count": 40,
     "metadata": {},
     "output_type": "execute_result"
    }
   ],
   "source": [
    "get_track_id(146.1152, tracktree)"
   ]
  },
  {
   "cell_type": "code",
   "execution_count": 41,
   "id": "f8d057aa-54ff-4dd7-aeb7-6207e912729d",
   "metadata": {},
   "outputs": [
    {
     "name": "stderr",
     "output_type": "stream",
     "text": [
      "/opt/conda/lib/python3.10/site-packages/scipy/optimize/_minpack_py.py:833: OptimizeWarning: Covariance of the parameters could not be estimated\n",
      "  warnings.warn('Covariance of the parameters could not be estimated',\n",
      "/opt/conda/lib/python3.10/site-packages/asari/peaks.py:310: RuntimeWarning: invalid value encountered in double_scalars\n",
      "  return 1 - (np.sum((y_fitted-y_orignal)**2) / np.sum((y_orignal-np.mean(y_orignal))**2))\n"
     ]
    },
    {
     "data": {
      "text/plain": [
       "(0, nan)"
      ]
     },
     "execution_count": 41,
     "metadata": {},
     "output_type": "execute_result"
    }
   ],
   "source": [
    "extract_peak_info(asari_[1000], dict_scan_rtime, cmap[1899])"
   ]
  },
  {
   "cell_type": "markdown",
   "id": "f9353985-0350-4b21-a675-a60e0009f551",
   "metadata": {},
   "source": [
    "### Plot asari\n",
    "\n",
    "use internal goodness of fitting in asari. Peak narrower here."
   ]
  },
  {
   "cell_type": "code",
   "execution_count": 42,
   "id": "ad7f9c50-186a-4734-955f-8ebbba55a176",
   "metadata": {},
   "outputs": [],
   "source": [
    "shape_cut = 0.5\n",
    "h_cut = log2(1000000)\n",
    "markersize=0.5"
   ]
  },
  {
   "cell_type": "code",
   "execution_count": 76,
   "id": "b3ca2d6e-2ff6-4097-9df3-c7b3b238f0fa",
   "metadata": {},
   "outputs": [
    {
     "name": "stderr",
     "output_type": "stream",
     "text": [
      "/opt/conda/lib/python3.10/site-packages/scipy/optimize/_minpack_py.py:833: OptimizeWarning: Covariance of the parameters could not be estimated\n",
      "  warnings.warn('Covariance of the parameters could not be estimated',\n",
      "/opt/conda/lib/python3.10/site-packages/asari/peaks.py:310: RuntimeWarning: invalid value encountered in double_scalars\n",
      "  return 1 - (np.sum((y_fitted-y_orignal)**2) / np.sum((y_orignal-np.mean(y_orignal))**2))\n"
     ]
    }
   ],
   "source": [
    "x_good, y_good = [], []\n",
    "x_poor, y_poor = [], []\n",
    "\n",
    "for peak in asari_:\n",
    "    m_ = get_track_id(peak['mz'], tracktree)\n",
    "    if m_:\n",
    "        h, r = extract_peak_info(peak, dict_scan_rtime, cmap[m_['id_number']])\n",
    "        peak['height'] = h\n",
    "        # peak['shape'] = r\n",
    "        # r = peak['shape']\n",
    "        if h > h_cut and r > shape_cut:\n",
    "            x_good.append( r )\n",
    "            y_good.append( log2(h) )\n",
    "        elif h > 1000 and r > 0:\n",
    "            x_poor.append( r )\n",
    "            y_poor.append( log2(h+1) )\n"
   ]
  },
  {
   "cell_type": "code",
   "execution_count": 77,
   "id": "a95dca5e-7884-4984-9331-5c934579f15a",
   "metadata": {},
   "outputs": [
    {
     "name": "stdout",
     "output_type": "stream",
     "text": [
      "4637 525 5162\n"
     ]
    },
    {
     "data": {
      "image/png": "[encoded data removed]",
      "text/plain": [
       "<Figure size 288x504 with 1 Axes>"
      ]
     },
     "metadata": {
      "needs_background": "light"
     },
     "output_type": "display_data"
    }
   ],
   "source": [
    "print(len(x_good), len(x_poor), len(x_good + x_poor))\n",
    "\n",
    "fig, ax = plt.subplots(figsize=(4, 7))\n",
    "\n",
    "# plt.figure(figsize=(4, 7))\n",
    "\n",
    "ax.plot( y_good, x_good, 'k.', markersize=markersize)\n",
    "ax.plot( y_poor, x_poor, 'r.', markersize=markersize)\n",
    "# plt.tick_params(bottom='off', right='off', )\n",
    "ax.spines['right'].set_visible(False)\n",
    "ax.spines['bottom'].set_visible(False)\n",
    "\n",
    "ax.set_title(\"asari peaks\")\n",
    "\n",
    "ax.xaxis.tick_top()\n",
    "ax.xaxis.set_label_position(\"top\")\n",
    "\n",
    "plt.savefig(\"asari_peaks\" + \".png\")\n",
    "plt.savefig(\"asari_peaks\" + \".pdf\")"
   ]
  },
  {
   "cell_type": "markdown",
   "id": "e376d326-e779-4feb-bb94-2289f9c4b2a6",
   "metadata": {},
   "source": [
    "### plot XCMS"
   ]
  },
  {
   "cell_type": "code",
   "execution_count": 80,
   "id": "d7c3b16d-3324-4964-9912-3028b7e14896",
   "metadata": {},
   "outputs": [
    {
     "name": "stdout",
     "output_type": "stream",
     "text": [
      "Input list 6043\n",
      "After removing redundancy 5809\n",
      "input N 5809 good 4566 poor 1024\n"
     ]
    }
   ],
   "source": [
    "x_good, y_good = [], []\n",
    "x_poor, y_poor = [], []\n",
    "\n",
    "new = remove_redundant(xcms_, tracktree, ppm=5)\n",
    "for mid, peak in new:\n",
    "    h, r = extract_peak_info(peak, dict_scan_rtime, cmap[mid])\n",
    "\n",
    "    peak['height'] = h\n",
    "    peak['shape'] = r\n",
    "    if h > h_cut and r > shape_cut:\n",
    "        x_good.append( r )\n",
    "        y_good.append( log2(h) )\n",
    "    elif h > 1000 and r > 0:\n",
    "        x_poor.append( r )\n",
    "        y_poor.append( log2(h+1) )\n",
    "\n",
    "print(\"input N\", len(new),\n",
    "      \"good\", len(x_good), \"poor\", len(x_poor), )"
   ]
  },
  {
   "cell_type": "code",
   "execution_count": 70,
   "id": "c291eb71-4d2e-47a5-bd2f-5f948c8a0845",
   "metadata": {},
   "outputs": [
    {
     "name": "stdout",
     "output_type": "stream",
     "text": [
      "4566 1024 5590\n"
     ]
    },
    {
     "data": {
      "image/png": "[encoded data removed]",
      "text/plain": [
       "<Figure size 288x504 with 1 Axes>"
      ]
     },
     "metadata": {
      "needs_background": "light"
     },
     "output_type": "display_data"
    }
   ],
   "source": [
    "# Make figure\n",
    "fig, ax = plt.subplots(figsize=(4, 7))\n",
    "ax.plot( y_good, x_good, 'k.', markersize=markersize)\n",
    "ax.plot( y_poor, x_poor, 'r.', markersize=markersize)\n",
    "ax.spines['right'].set_visible(False)\n",
    "ax.spines['bottom'].set_visible(False)\n",
    "ax.xaxis.tick_top()\n",
    "ax.xaxis.set_label_position(\"top\")\n",
    "\n",
    "ax.set_title(\"XCMS peaks\")\n",
    "plt.savefig(\"xcms_peaks\" + \".png\")\n",
    "plt.savefig(\"xcms_peaks\" + \".pdf\")"
   ]
  },
  {
   "cell_type": "markdown",
   "id": "fd77ed0e-676e-4f2d-9374-a57ff58a4286",
   "metadata": {},
   "source": [
    "### plot MZmine_"
   ]
  },
  {
   "cell_type": "code",
   "execution_count": 81,
   "id": "2c777b09-bb1e-4662-b649-7b0fc0e0a54b",
   "metadata": {},
   "outputs": [
    {
     "name": "stdout",
     "output_type": "stream",
     "text": [
      "Input list 11290\n",
      "After removing redundancy 10876\n"
     ]
    },
    {
     "name": "stderr",
     "output_type": "stream",
     "text": [
      "/opt/conda/lib/python3.10/site-packages/scipy/optimize/_minpack_py.py:833: OptimizeWarning: Covariance of the parameters could not be estimated\n",
      "  warnings.warn('Covariance of the parameters could not be estimated',\n",
      "/opt/conda/lib/python3.10/site-packages/asari/peaks.py:310: RuntimeWarning: invalid value encountered in double_scalars\n",
      "  return 1 - (np.sum((y_fitted-y_orignal)**2) / np.sum((y_orignal-np.mean(y_orignal))**2))\n"
     ]
    },
    {
     "name": "stdout",
     "output_type": "stream",
     "text": [
      "input N 10876 good 6841 poor 1257\n"
     ]
    }
   ],
   "source": [
    "x_good, y_good = [], []\n",
    "x_poor, y_poor = [], []\n",
    "\n",
    "new = remove_redundant(mzmine_, tracktree, ppm=5)\n",
    "for mid, peak in new:\n",
    "    h, r = extract_peak_info(peak, dict_scan_rtime, cmap[mid])\n",
    "\n",
    "    peak['height'] = h\n",
    "    peak['shape'] = r\n",
    "    if h > h_cut and r > shape_cut:\n",
    "        x_good.append( r )\n",
    "        y_good.append( log2(h) )\n",
    "    elif h > 1000 and r > 0:\n",
    "        x_poor.append( r )\n",
    "        y_poor.append( log2(h+1) )\n",
    "        \n",
    "print(\"input N\", len(new),\n",
    "      \"good\", len(x_good), \"poor\", len(x_poor), )"
   ]
  },
  {
   "cell_type": "code",
   "execution_count": 74,
   "id": "e01976d3-9da2-4af9-8e75-dfa5a7816aa4",
   "metadata": {},
   "outputs": [
    {
     "name": "stdout",
     "output_type": "stream",
     "text": [
      "6841 1257 8098\n"
     ]
    },
    {
     "data": {
      "image/png": "[encoded data removed]",
      "text/plain": [
       "<Figure size 288x504 with 1 Axes>"
      ]
     },
     "metadata": {
      "needs_background": "light"
     },
     "output_type": "display_data"
    }
   ],
   "source": [
    "\n",
    "fig, ax = plt.subplots(figsize=(4, 7))\n",
    "ax.plot( y_good, x_good, 'k.', markersize=markersize)\n",
    "ax.plot( y_poor, x_poor, 'r.', markersize=markersize)\n",
    "ax.spines['right'].set_visible(False)\n",
    "ax.spines['bottom'].set_visible(False)\n",
    "ax.xaxis.tick_top()\n",
    "ax.xaxis.set_label_position(\"top\")\n",
    "\n",
    "ax.set_title(\"mzmine_ peaks\")\n",
    "plt.savefig(\"mzmine_peaks\" + \".png\")\n",
    "plt.savefig(\"mzmine_peaks\" + \".pdf\")"
   ]
  },
  {
   "cell_type": "markdown",
   "id": "c4f50632-aeff-454a-bc63-2a6710df778c",
   "metadata": {},
   "source": [
    "### plot MZmine_L_"
   ]
  },
  {
   "cell_type": "code",
   "execution_count": 82,
   "id": "6877267a-21b0-4432-9f92-742973791c4c",
   "metadata": {},
   "outputs": [
    {
     "name": "stdout",
     "output_type": "stream",
     "text": [
      "Input list 18155\n",
      "After removing redundancy 14394\n",
      "input N 14394 good 4958 poor 2412\n"
     ]
    }
   ],
   "source": [
    "x_good, y_good = [], []\n",
    "x_poor, y_poor = [], []\n",
    "\n",
    "new = remove_redundant(mzmine_L_, tracktree, ppm=5)\n",
    "for mid, peak in new:\n",
    "    h, r = extract_peak_info(peak, dict_scan_rtime, cmap[mid])\n",
    "\n",
    "    peak['height'] = h\n",
    "    peak['shape'] = r\n",
    "    if h > h_cut and r > shape_cut:\n",
    "        x_good.append( r )\n",
    "        y_good.append( log2(h) )\n",
    "    elif h > 1000 and r > 0:\n",
    "        x_poor.append( r )\n",
    "        y_poor.append( log2(h+1) )\n",
    "        \n",
    "print(\"input N\", len(new),\n",
    "      \"good\", len(x_good), \"poor\", len(x_poor), )"
   ]
  },
  {
   "cell_type": "code",
   "execution_count": 79,
   "id": "c4dcbebd-021b-4977-9d44-e3c22158a66c",
   "metadata": {},
   "outputs": [
    {
     "name": "stdout",
     "output_type": "stream",
     "text": [
      "4958 2412 7370\n"
     ]
    },
    {
     "data": {
      "image/png": "[encoded data removed]",
      "text/plain": [
       "<Figure size 288x504 with 1 Axes>"
      ]
     },
     "metadata": {
      "needs_background": "light"
     },
     "output_type": "display_data"
    }
   ],
   "source": [
    "\n",
    "fig, ax = plt.subplots(figsize=(4, 7))\n",
    "ax.plot( y_good, x_good, 'k.', markersize=markersize)\n",
    "ax.plot( y_poor, x_poor, 'r.', markersize=markersize)\n",
    "ax.spines['right'].set_visible(False)\n",
    "ax.spines['bottom'].set_visible(False)\n",
    "ax.xaxis.tick_top()\n",
    "ax.xaxis.set_label_position(\"top\")\n",
    "\n",
    "ax.set_title(\"mzmine_L_ peaks\")\n",
    "\n",
    "plt.savefig(\"mzmine_L_peaks\" + \".png\")\n",
    "plt.savefig(\"mzmine_L_peaks\" + \".pdf\")"
   ]
  },
  {
   "cell_type": "markdown",
   "id": "25ec9d4e-8cce-4ebb-a83d-d2d54d0ba549",
   "metadata": {},
   "source": [
    "### plot MS-DIAL"
   ]
  },
  {
   "cell_type": "code",
   "execution_count": null,
   "id": "88008381-9e2f-49b0-b825-61c464a9c847",
   "metadata": {},
   "outputs": [],
   "source": []
  },
  {
   "cell_type": "code",
   "execution_count": null,
   "id": "71b649e0-a5f6-48e8-8987-c2eb0b1ccf19",
   "metadata": {},
   "outputs": [],
   "source": []
  },
  {
   "cell_type": "code",
   "execution_count": null,
   "id": "544e3b52-f8bb-40cc-a31a-c30415d37f63",
   "metadata": {},
   "outputs": [],
   "source": []
  }
 ],
 "metadata": {
  "kernelspec": {
   "display_name": "Python 3 (ipykernel)",
   "language": "python",
   "name": "python3"
  },
  "language_info": {
   "codemirror_mode": {
    "name": "ipython",
    "version": 3
   },
   "file_extension": ".py",
   "mimetype": "text/x-python",
   "name": "python",
   "nbconvert_exporter": "python",
   "pygments_lexer": "ipython3",
   "version": "3.10.5"
  }
 },
 "nbformat": 4,
 "nbformat_minor": 5
}
