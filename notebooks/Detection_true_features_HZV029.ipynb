{
 "cells": [
  {
   "cell_type": "markdown",
   "id": "1c91e02e-99ca-4d19-a0a5-4f7a976b906c",
   "metadata": {},
   "source": [
    "# Detection of true features on HZV dataset by different software algorithms \n",
    "\n",
    "Data using 3 samples only:\n",
    "batch4_MT_20210729_003G, batch4_MT_20210729_003C, batch4_MT_20210729_003K\n",
    "\n",
    "- XCMS v3.18.0 (R 4.2.0)\n",
    "- MZmine 2.53 (peak detection via centwave and local mininum); 3.3.0.\n",
    "- MS-Dial v4.90\n",
    "- asari 1.10.6\n",
    "\n",
    "SL 2023-01-27"
   ]
  },
  {
   "cell_type": "code",
   "execution_count": 1,
   "id": "a66f300e-ee71-463e-a995-d96c4224d3ee",
   "metadata": {},
   "outputs": [],
   "source": [
    "!pip install --upgrade -q asari-metabolomics"
   ]
  },
  {
   "cell_type": "code",
   "execution_count": 2,
   "id": "3cb13c23-a030-4b9f-bc38-180e0b688614",
   "metadata": {},
   "outputs": [],
   "source": [
    "from asari.tools import match_features as mf"
   ]
  },
  {
   "cell_type": "code",
   "execution_count": 3,
   "id": "dc3d6bfd-2806-4b33-ba6b-e040696d25fe",
   "metadata": {},
   "outputs": [
    {
     "name": "stdout",
     "output_type": "stream",
     "text": [
      "402 \n",
      " [{'id': 'row2', 'mz': 91.05447, 'rtime': 0.592}, {'id': 'row3', 'mz': 94.06543, 'rtime': 1.85}, {'id': 'row4', 'mz': 96.04469, 'rtime': 0.537}]\n"
     ]
    }
   ],
   "source": [
    "true_ = mf.get_featureList('hzv029_manual_certified.txt', start_row=1, mz_col=1, rt_col=2, sep='\\t')\n",
    "print(len(true_), '\\n', true_[:3])\n",
    "for x in true_:\n",
    "    x['rtime'] = x['rtime']*60"
   ]
  },
  {
   "cell_type": "code",
   "execution_count": 4,
   "id": "bb782ceb-592c-4473-9510-9ebc384c5bc7",
   "metadata": {},
   "outputs": [
    {
     "name": "stdout",
     "output_type": "stream",
     "text": [
      "10199 \n",
      " [{'id': 'row2', 'mz': 81.07012176513672, 'rtime': 0.385160884566667}, {'id': 'row3', 'mz': 82.06537755330403, 'rtime': 0.34872880143333335}, {'id': 'row4', 'mz': 82.06532287597656, 'rtime': 3.85791659573333}]\n",
      "6423 \n",
      " [{'id': 'row2', 'mz': 81.0701044009376, 'rtime': 22.7766265869141}, {'id': 'row3', 'mz': 82.0653690543, 'rtime': 20.441068649292}, {'id': 'row4', 'mz': 83.0606593293675, 'rtime': 170.006408691406}]\n",
      "6319 [{'id': 'row2', 'mz': 81.0701, 'rtime': 15.47}, {'id': 'row3', 'mz': 81.0701, 'rtime': 23.45}, {'id': 'row4', 'mz': 140.0711, 'rtime': 130.08}]\n"
     ]
    }
   ],
   "source": [
    "mzmine_ = mf.get_featureList('mt01_MZmine2.53_wavelets_featureTable.csv', start_row=1, mz_col=1, rt_col=2, sep=',')\n",
    "print(len(mzmine_), '\\n', mzmine_[:3])\n",
    "for x in mzmine_:\n",
    "    x['rtime'] = x['rtime']  * 60\n",
    "\n",
    "xcms_ = mf.get_featureList('mt01_XCMS_featureTable.csv', start_row=1, mz_col=1, rt_col=4, sep=',')\n",
    "print(len(xcms_), '\\n', xcms_[:3])\n",
    "\n",
    "asari_ = mf.get_featureList('mt01_full_Feature_table.tsv', start_row=1, mz_col=1, rt_col=2, sep='\\t')\n",
    "print(len(asari_), asari_[:3])\n",
    "\n"
   ]
  },
  {
   "cell_type": "code",
   "execution_count": 5,
   "id": "0172ca52-e6b4-4155-a96c-ffde1061a123",
   "metadata": {},
   "outputs": [
    {
     "name": "stdout",
     "output_type": "stream",
     "text": [
      "6434 \n",
      " [{'id': 'row2', 'mz': 81.07012176513672, 'rtime': 0.385160884566667}, {'id': 'row3', 'mz': 83.06066004435222, 'rtime': 2.8252457976166667}, {'id': 'row4', 'mz': 84.0446891784668, 'rtime': 2.8705494704000003}]\n"
     ]
    }
   ],
   "source": [
    "mzmine_L_ = mf.get_featureList('mt01_MZmine2.53_local_featureTable.csv', start_row=1, mz_col=1, rt_col=2, sep=',')\n",
    "print(len(mzmine_L_), '\\n', mzmine_L_[:3])\n",
    "for x in mzmine_L_:\n",
    "    x['rtime'] = x['rtime']*60\n",
    "\n"
   ]
  },
  {
   "cell_type": "code",
   "execution_count": 6,
   "id": "58d60da1-79b9-472f-89af-59fe7ac35b6e",
   "metadata": {},
   "outputs": [
    {
     "name": "stdout",
     "output_type": "stream",
     "text": [
      "10177 \n",
      " [{'id': 'row2', 'mz': 184.0742, 'rtime': 0.01}, {'id': 'row3', 'mz': 506.3626, 'rtime': 0.01}, {'id': 'row4', 'mz': 507.3661, 'rtime': 0.01}]\n"
     ]
    }
   ],
   "source": [
    "mzmine3_ = mf.get_featureList('mt01_mzmine3.csv', start_row=1, mz_col=4, rt_col=1, sep=',')\n",
    "print(len(mzmine3_), '\\n', mzmine3_[:3])\n",
    "for x in mzmine3_:\n",
    "    x['rtime'] = x['rtime']  * 60"
   ]
  },
  {
   "cell_type": "code",
   "execution_count": 7,
   "id": "9abf3688-c92a-4a1d-9ab9-116f3889749d",
   "metadata": {},
   "outputs": [
    {
     "name": "stdout",
     "output_type": "stream",
     "text": [
      "29924 [{'id': 'row7', 'mz': 80.04777, 'rtime': 1.114}, {'id': 'row8', 'mz': 80.04943, 'rtime': 0.311}, {'id': 'row9', 'mz': 80.16291, 'rtime': 2.304}]\n"
     ]
    }
   ],
   "source": [
    "msdial_ = mf.get_featureList('MT01-MSDIAL-Height_0_20231271135.txt', start_row=6, mz_col=2, rt_col=1, sep='\\t')\n",
    "print(len(msdial_), msdial_[:3])\n",
    "for x in msdial_:\n",
    "    x['rtime'] = x['rtime']*60"
   ]
  },
  {
   "cell_type": "code",
   "execution_count": 8,
   "id": "b3bd6fd8-9950-4723-a517-734847b9cd4b",
   "metadata": {},
   "outputs": [],
   "source": [
    "def compare(list1, list2):\n",
    "    '''compare matches and print unmatched in list1.\n",
    "    '''\n",
    "    print(\"\\n  Best match comparisons:\")\n",
    "    valid_matches, dict1, dict2 = mf.bidirectional_best_match(list1, list2, mz_ppm=5, rt_tolerance=10)\n",
    "\n",
    "    print(\"\\n  List based inclusive comparisons:\")\n",
    "    dict1, dict2 = mf.bidirectional_match(list1, list2, mz_ppm=5, rt_tolerance=10)\n",
    "\n",
    "    \n",
    "    unmatched = [p for p in list1 if p['id'] not in dict1]\n",
    "    print(\"\\n\\nUnmatched features ****** \", len(unmatched), \"*******\\n\")\n",
    "    # [p for p in list1 if p['id'] not in [x[0] for x in valid_matches]]\n",
    "    print(unmatched)\n",
    "    \n",
    "def compare2(list1, list2):\n",
    "    '''compare matches and print unmatched in list1.\n",
    "    '''\n",
    "    print(\"\\n  List based inclusive comparisons:\")\n",
    "    dict1, dict2 = mf.bidirectional_match(list1, list2, mz_ppm=5, rt_tolerance=6)\n",
    "\n",
    "\n",
    "    "
   ]
  },
  {
   "cell_type": "code",
   "execution_count": 9,
   "id": "143cae21-3dac-4952-93fc-f5fe2621cd98",
   "metadata": {},
   "outputs": [
    {
     "name": "stdout",
     "output_type": "stream",
     "text": [
      "\n",
      "  Best match comparisons:\n",
      "\n",
      "    ~~~ By best rtime matches ~~~     \n",
      "\n",
      "Of 402 list1 features, number of uni-direction matched features is 386.\n",
      "Of 6319 list1 features, number of uni-direction matched features is 467.\n",
      "~~~ Biodirectional, unique Number of matched feature pairs: ~~~\n",
      " 385\n",
      "\n",
      "\n",
      "########################################################################\n",
      "    ~~~ By best m/z matches ~~~     \n",
      "\n",
      "Of 402 list1 features, number of uni-direction matched features is 386.\n",
      "Of 6319 list1 features, number of uni-direction matched features is 467.\n",
      "~~~ Biodirectional, unique Number of matched feature pairs: ~~~\n",
      "     372\n",
      "########################################################################\n",
      "\n",
      "\n",
      "\n",
      "  List based inclusive comparisons:\n",
      "Of 402 list1 features, number of uni-direction matched features is 386.\n",
      "Of 6319 list1 features, number of uni-direction matched features is 467.\n",
      "    ~~~ match_numbers ~~~     \n",
      "\n",
      "Unique Number of matched features in table 1:  281\n",
      "Unique Number of matched features in table 2:  441\n",
      "Biodirectional, unique Number of matched feature pairs:  279\n",
      "\n",
      "\n",
      "Unmatched features ******  16 *******\n",
      "\n",
      "[{'id': 'row104', 'mz': 604.27271, 'rtime': 86.28}, {'id': 'row108', 'mz': 622.30709, 'rtime': 90.89999999999999}, {'id': 'row109', 'mz': 642.82312, 'rtime': 138.66}, {'id': 'row153', 'mz': 838.77661, 'rtime': 139.32}, {'id': 'row158', 'mz': 852.79218, 'rtime': 139.62}, {'id': 'row160', 'mz': 896.99536, 'rtime': 146.52}, {'id': 'row231', 'mz': 854.55682, 'rtime': 76.86}, {'id': 'row242', 'mz': 533.88696, 'rtime': 159.48}, {'id': 'row245', 'mz': 144.033, 'rtime': 224.64000000000001}, {'id': 'row248', 'mz': 855.99359, 'rtime': 146.34}, {'id': 'row259', 'mz': 461.98993, 'rtime': 238.5}, {'id': 'row271', 'mz': 884.02472, 'rtime': 147.12}, {'id': 'row370', 'mz': 880.57275, 'rtime': 77.33999999999999}, {'id': 'row381', 'mz': 550.06561, 'rtime': 110.76}, {'id': 'row384', 'mz': 606.06409, 'rtime': 110.76}, {'id': 'row387', 'mz': 819.07617, 'rtime': 110.76}]\n"
     ]
    }
   ],
   "source": [
    "compare(true_, asari_)"
   ]
  },
  {
   "cell_type": "code",
   "execution_count": 11,
   "id": "1504c0b5-2d13-43bd-9366-653060d3f0a9",
   "metadata": {},
   "outputs": [
    {
     "name": "stdout",
     "output_type": "stream",
     "text": [
      "\n",
      "  Best match comparisons:\n",
      "\n",
      "    ~~~ By best rtime matches ~~~     \n",
      "\n",
      "Of 402 list1 features, number of uni-direction matched features is 340.\n",
      "Of 6423 list1 features, number of uni-direction matched features is 360.\n",
      "~~~ Biodirectional, unique Number of matched feature pairs: ~~~\n",
      " 332\n",
      "\n",
      "\n",
      "########################################################################\n",
      "    ~~~ By best m/z matches ~~~     \n",
      "\n",
      "Of 402 list1 features, number of uni-direction matched features is 340.\n",
      "Of 6423 list1 features, number of uni-direction matched features is 360.\n",
      "~~~ Biodirectional, unique Number of matched feature pairs: ~~~\n",
      "     329\n",
      "########################################################################\n",
      "\n",
      "\n",
      "\n",
      "  List based inclusive comparisons:\n",
      "Of 402 list1 features, number of uni-direction matched features is 340.\n",
      "Of 6423 list1 features, number of uni-direction matched features is 360.\n",
      "    ~~~ match_numbers ~~~     \n",
      "\n",
      "Unique Number of matched features in table 1:  298\n",
      "Unique Number of matched features in table 2:  337\n",
      "Biodirectional, unique Number of matched feature pairs:  286\n",
      "\n",
      "\n",
      "Unmatched features ******  62 *******\n",
      "\n",
      "[{'id': 'row2', 'mz': 91.05447, 'rtime': 35.519999999999996}, {'id': 'row6', 'mz': 110.0604, 'rtime': 122.10000000000001}, {'id': 'row11', 'mz': 122.07171, 'rtime': 126.83999999999999}, {'id': 'row12', 'mz': 124.08734, 'rtime': 195.9}, {'id': 'row13', 'mz': 126.10303, 'rtime': 205.5}, {'id': 'row15', 'mz': 140.08232, 'rtime': 29.7}, {'id': 'row16', 'mz': 142.0867, 'rtime': 76.74}, {'id': 'row21', 'mz': 157.97522, 'rtime': 14.58}, {'id': 'row23', 'mz': 160.09744, 'rtime': 170.94}, {'id': 'row29', 'mz': 194.11832, 'rtime': 159.48}, {'id': 'row30', 'mz': 199.10844, 'rtime': 37.74}, {'id': 'row32', 'mz': 208.13405, 'rtime': 172.44}, {'id': 'row33', 'mz': 219.07724, 'rtime': 37.38}, {'id': 'row35', 'mz': 224.12904, 'rtime': 164.04}, {'id': 'row50', 'mz': 272.01862, 'rtime': 193.56}, {'id': 'row52', 'mz': 280.17068, 'rtime': 36.12}, {'id': 'row56', 'mz': 292.10406, 'rtime': 198.48}, {'id': 'row62', 'mz': 305.01923, 'rtime': 155.16}, {'id': 'row77', 'mz': 391.1796, 'rtime': 33.660000000000004}, {'id': 'row80', 'mz': 425.03821, 'rtime': 225.0}, {'id': 'row104', 'mz': 604.27271, 'rtime': 86.28}, {'id': 'row108', 'mz': 622.30709, 'rtime': 90.89999999999999}, {'id': 'row155', 'mz': 848.04535, 'rtime': 225.54}, {'id': 'row159', 'mz': 872.56726, 'rtime': 78.06}, {'id': 'row161', 'mz': 898.58258, 'rtime': 77.04}, {'id': 'row179', 'mz': 199.00198, 'rtime': 14.399999999999999}, {'id': 'row186', 'mz': 157.97523, 'rtime': 17.22}, {'id': 'row200', 'mz': 139.98836, 'rtime': 14.399999999999999}, {'id': 'row203', 'mz': 256.30084, 'rtime': 60.6}, {'id': 'row220', 'mz': 392.16461, 'rtime': 31.14}, {'id': 'row222', 'mz': 167.04915, 'rtime': 222.89999999999998}, {'id': 'row236', 'mz': 156.11371, 'rtime': 97.32000000000001}, {'id': 'row241', 'mz': 146.08162, 'rtime': 159.60000000000002}, {'id': 'row242', 'mz': 533.88696, 'rtime': 159.48}, {'id': 'row245', 'mz': 144.033, 'rtime': 224.64000000000001}, {'id': 'row252', 'mz': 184.04623, 'rtime': 224.52}, {'id': 'row259', 'mz': 461.98993, 'rtime': 238.5}, {'id': 'row275', 'mz': 692.02148, 'rtime': 235.92}, {'id': 'row302', 'mz': 160.0974, 'rtime': 37.26}, {'id': 'row305', 'mz': 487.03925, 'rtime': 224.52}, {'id': 'row308', 'mz': 310.11472, 'rtime': 199.32}, {'id': 'row309', 'mz': 608.3877, 'rtime': 30.900000000000002}, {'id': 'row311', 'mz': 493.0647, 'rtime': 218.22}, {'id': 'row312', 'mz': 154.09801, 'rtime': 50.64}, {'id': 'row325', 'mz': 289.98178, 'rtime': 213.6}, {'id': 'row326', 'mz': 257.10052, 'rtime': 131.4}, {'id': 'row327', 'mz': 187.1449, 'rtime': 136.01999999999998}, {'id': 'row330', 'mz': 858.49744, 'rtime': 73.8}, {'id': 'row336', 'mz': 526.41235, 'rtime': 59.82}, {'id': 'row349', 'mz': 262.15994, 'rtime': 36.6}, {'id': 'row353', 'mz': 278.17612, 'rtime': 31.26}, {'id': 'row354', 'mz': 300.16052, 'rtime': 37.62}, {'id': 'row355', 'mz': 208.134, 'rtime': 84.66}, {'id': 'row361', 'mz': 134.11803, 'rtime': 94.5}, {'id': 'row368', 'mz': 498.38104, 'rtime': 60.24}, {'id': 'row369', 'mz': 272.16544, 'rtime': 45.72}, {'id': 'row372', 'mz': 284.12915, 'rtime': 39.0}, {'id': 'row374', 'mz': 608.38782, 'rtime': 50.82}, {'id': 'row385', 'mz': 280.17078, 'rtime': 56.58}, {'id': 'row386', 'mz': 181.09781, 'rtime': 35.699999999999996}, {'id': 'row394', 'mz': 147.07695, 'rtime': 202.02}, {'id': 'row397', 'mz': 175.98595, 'rtime': 17.82}]\n"
     ]
    }
   ],
   "source": [
    "compare(true_, xcms_)"
   ]
  },
  {
   "cell_type": "code",
   "execution_count": 12,
   "id": "4bee5ea2-f271-400b-9158-d8f8b079ef1f",
   "metadata": {},
   "outputs": [
    {
     "name": "stdout",
     "output_type": "stream",
     "text": [
      "\n",
      "  Best match comparisons:\n",
      "\n",
      "    ~~~ By best rtime matches ~~~     \n",
      "\n",
      "Of 402 list1 features, number of uni-direction matched features is 365.\n",
      "Of 10199 list1 features, number of uni-direction matched features is 350.\n",
      "~~~ Biodirectional, unique Number of matched feature pairs: ~~~\n",
      " 350\n",
      "\n",
      "\n",
      "########################################################################\n",
      "    ~~~ By best m/z matches ~~~     \n",
      "\n",
      "Of 402 list1 features, number of uni-direction matched features is 365.\n",
      "Of 10199 list1 features, number of uni-direction matched features is 350.\n",
      "~~~ Biodirectional, unique Number of matched feature pairs: ~~~\n",
      "     350\n",
      "########################################################################\n",
      "\n",
      "\n",
      "\n",
      "  List based inclusive comparisons:\n",
      "Of 402 list1 features, number of uni-direction matched features is 365.\n",
      "Of 10199 list1 features, number of uni-direction matched features is 350.\n",
      "    ~~~ match_numbers ~~~     \n",
      "\n",
      "Unique Number of matched features in table 1:  365\n",
      "Unique Number of matched features in table 2:  336\n",
      "Biodirectional, unique Number of matched feature pairs:  336\n",
      "\n",
      "\n",
      "Unmatched features ******  37 *******\n",
      "\n",
      "[{'id': 'row2', 'mz': 91.05447, 'rtime': 35.519999999999996}, {'id': 'row75', 'mz': 389.16422, 'rtime': 52.8}, {'id': 'row98', 'mz': 544.8457, 'rtime': 138.54000000000002}, {'id': 'row100', 'mz': 582.82275, 'rtime': 140.22}, {'id': 'row104', 'mz': 604.27271, 'rtime': 86.28}, {'id': 'row110', 'mz': 645.49884, 'rtime': 85.44}, {'id': 'row113', 'mz': 693.3327, 'rtime': 88.38000000000001}, {'id': 'row117', 'mz': 723.54449, 'rtime': 83.22}, {'id': 'row142', 'mz': 806.80896, 'rtime': 139.85999999999999}, {'id': 'row153', 'mz': 838.77661, 'rtime': 139.32}, {'id': 'row158', 'mz': 852.79218, 'rtime': 139.62}, {'id': 'row180', 'mz': 347.0174, 'rtime': 237.66}, {'id': 'row188', 'mz': 165.05154, 'rtime': 224.88000000000002}, {'id': 'row224', 'mz': 165.05519, 'rtime': 158.33999999999997}, {'id': 'row241', 'mz': 146.08162, 'rtime': 159.60000000000002}, {'id': 'row248', 'mz': 855.99359, 'rtime': 146.34}, {'id': 'row252', 'mz': 184.04623, 'rtime': 224.52}, {'id': 'row255', 'mz': 102.05533, 'rtime': 233.4}, {'id': 'row264', 'mz': 520.33496, 'rtime': 43.379999999999995}, {'id': 'row266', 'mz': 610.85382, 'rtime': 139.92}, {'id': 'row272', 'mz': 802.02185, 'rtime': 146.7}, {'id': 'row275', 'mz': 692.02148, 'rtime': 235.92}, {'id': 'row276', 'mz': 392.1647, 'rtime': 52.980000000000004}, {'id': 'row278', 'mz': 230.15474, 'rtime': 54.6}, {'id': 'row286', 'mz': 282.28024, 'rtime': 45.06}, {'id': 'row287', 'mz': 247.18134, 'rtime': 54.84}, {'id': 'row289', 'mz': 300.29089, 'rtime': 45.06}, {'id': 'row316', 'mz': 564.36115, 'rtime': 46.56}, {'id': 'row339', 'mz': 708.8316, 'rtime': 140.1}, {'id': 'row341', 'mz': 258.28009, 'rtime': 41.76}, {'id': 'row348', 'mz': 792.79279, 'rtime': 139.5}, {'id': 'row349', 'mz': 262.15994, 'rtime': 36.6}, {'id': 'row365', 'mz': 754.8161, 'rtime': 139.56}, {'id': 'row369', 'mz': 272.16544, 'rtime': 45.72}, {'id': 'row374', 'mz': 608.38782, 'rtime': 50.82}, {'id': 'row385', 'mz': 280.17078, 'rtime': 56.58}, {'id': 'row392', 'mz': 124.0248, 'rtime': 224.4}]\n"
     ]
    }
   ],
   "source": [
    "compare(true_, mzmine_)"
   ]
  },
  {
   "cell_type": "code",
   "execution_count": 13,
   "id": "2529d581-fc77-4166-9fe0-7930dbd9c187",
   "metadata": {},
   "outputs": [
    {
     "name": "stdout",
     "output_type": "stream",
     "text": [
      "\n",
      "  Best match comparisons:\n",
      "\n",
      "    ~~~ By best rtime matches ~~~     \n",
      "\n",
      "Of 402 list1 features, number of uni-direction matched features is 365.\n",
      "Of 10177 list1 features, number of uni-direction matched features is 349.\n",
      "~~~ Biodirectional, unique Number of matched feature pairs: ~~~\n",
      " 349\n",
      "\n",
      "\n",
      "########################################################################\n",
      "    ~~~ By best m/z matches ~~~     \n",
      "\n",
      "Of 402 list1 features, number of uni-direction matched features is 365.\n",
      "Of 10177 list1 features, number of uni-direction matched features is 349.\n",
      "~~~ Biodirectional, unique Number of matched feature pairs: ~~~\n",
      "     349\n",
      "########################################################################\n",
      "\n",
      "\n",
      "\n",
      "  List based inclusive comparisons:\n",
      "Of 402 list1 features, number of uni-direction matched features is 365.\n",
      "Of 10177 list1 features, number of uni-direction matched features is 349.\n",
      "    ~~~ match_numbers ~~~     \n",
      "\n",
      "Unique Number of matched features in table 1:  365\n",
      "Unique Number of matched features in table 2:  334\n",
      "Biodirectional, unique Number of matched feature pairs:  334\n",
      "\n",
      "\n",
      "Unmatched features ******  37 *******\n",
      "\n",
      "[{'id': 'row2', 'mz': 91.05447, 'rtime': 35.519999999999996}, {'id': 'row75', 'mz': 389.16422, 'rtime': 52.8}, {'id': 'row98', 'mz': 544.8457, 'rtime': 138.54000000000002}, {'id': 'row100', 'mz': 582.82275, 'rtime': 140.22}, {'id': 'row104', 'mz': 604.27271, 'rtime': 86.28}, {'id': 'row110', 'mz': 645.49884, 'rtime': 85.44}, {'id': 'row113', 'mz': 693.3327, 'rtime': 88.38000000000001}, {'id': 'row117', 'mz': 723.54449, 'rtime': 83.22}, {'id': 'row142', 'mz': 806.80896, 'rtime': 139.85999999999999}, {'id': 'row153', 'mz': 838.77661, 'rtime': 139.32}, {'id': 'row158', 'mz': 852.79218, 'rtime': 139.62}, {'id': 'row180', 'mz': 347.0174, 'rtime': 237.66}, {'id': 'row188', 'mz': 165.05154, 'rtime': 224.88000000000002}, {'id': 'row224', 'mz': 165.05519, 'rtime': 158.33999999999997}, {'id': 'row241', 'mz': 146.08162, 'rtime': 159.60000000000002}, {'id': 'row248', 'mz': 855.99359, 'rtime': 146.34}, {'id': 'row252', 'mz': 184.04623, 'rtime': 224.52}, {'id': 'row255', 'mz': 102.05533, 'rtime': 233.4}, {'id': 'row264', 'mz': 520.33496, 'rtime': 43.379999999999995}, {'id': 'row266', 'mz': 610.85382, 'rtime': 139.92}, {'id': 'row272', 'mz': 802.02185, 'rtime': 146.7}, {'id': 'row275', 'mz': 692.02148, 'rtime': 235.92}, {'id': 'row276', 'mz': 392.1647, 'rtime': 52.980000000000004}, {'id': 'row278', 'mz': 230.15474, 'rtime': 54.6}, {'id': 'row286', 'mz': 282.28024, 'rtime': 45.06}, {'id': 'row287', 'mz': 247.18134, 'rtime': 54.84}, {'id': 'row289', 'mz': 300.29089, 'rtime': 45.06}, {'id': 'row316', 'mz': 564.36115, 'rtime': 46.56}, {'id': 'row339', 'mz': 708.8316, 'rtime': 140.1}, {'id': 'row341', 'mz': 258.28009, 'rtime': 41.76}, {'id': 'row348', 'mz': 792.79279, 'rtime': 139.5}, {'id': 'row349', 'mz': 262.15994, 'rtime': 36.6}, {'id': 'row365', 'mz': 754.8161, 'rtime': 139.56}, {'id': 'row369', 'mz': 272.16544, 'rtime': 45.72}, {'id': 'row374', 'mz': 608.38782, 'rtime': 50.82}, {'id': 'row385', 'mz': 280.17078, 'rtime': 56.58}, {'id': 'row392', 'mz': 124.0248, 'rtime': 224.4}]\n"
     ]
    }
   ],
   "source": [
    "compare(true_, mzmine3_)"
   ]
  },
  {
   "cell_type": "code",
   "execution_count": 14,
   "id": "2cb96290-214a-4fa4-bbb6-3226b27c8782",
   "metadata": {},
   "outputs": [
    {
     "name": "stdout",
     "output_type": "stream",
     "text": [
      "\n",
      "  Best match comparisons:\n",
      "\n",
      "    ~~~ By best rtime matches ~~~     \n",
      "\n",
      "Of 402 list1 features, number of uni-direction matched features is 372.\n",
      "Of 6434 list1 features, number of uni-direction matched features is 403.\n",
      "~~~ Biodirectional, unique Number of matched feature pairs: ~~~\n",
      " 364\n",
      "\n",
      "\n",
      "########################################################################\n",
      "    ~~~ By best m/z matches ~~~     \n",
      "\n",
      "Of 402 list1 features, number of uni-direction matched features is 372.\n",
      "Of 6434 list1 features, number of uni-direction matched features is 403.\n",
      "~~~ Biodirectional, unique Number of matched feature pairs: ~~~\n",
      "     357\n",
      "########################################################################\n",
      "\n",
      "\n",
      "\n",
      "  List based inclusive comparisons:\n",
      "Of 402 list1 features, number of uni-direction matched features is 372.\n",
      "Of 6434 list1 features, number of uni-direction matched features is 403.\n",
      "    ~~~ match_numbers ~~~     \n",
      "\n",
      "Unique Number of matched features in table 1:  319\n",
      "Unique Number of matched features in table 2:  382\n",
      "Biodirectional, unique Number of matched feature pairs:  303\n",
      "\n",
      "\n",
      "Unmatched features ******  30 *******\n",
      "\n",
      "[{'id': 'row11', 'mz': 122.07171, 'rtime': 126.83999999999999}, {'id': 'row60', 'mz': 302.02072, 'rtime': 226.5}, {'id': 'row66', 'mz': 346.01077, 'rtime': 226.5}, {'id': 'row86', 'mz': 474.03271, 'rtime': 147.17999999999998}, {'id': 'row97', 'mz': 538.35236, 'rtime': 94.68}, {'id': 'row104', 'mz': 604.27271, 'rtime': 86.28}, {'id': 'row108', 'mz': 622.30709, 'rtime': 90.89999999999999}, {'id': 'row113', 'mz': 693.3327, 'rtime': 88.38000000000001}, {'id': 'row133', 'mz': 790.57776, 'rtime': 63.54}, {'id': 'row155', 'mz': 848.04535, 'rtime': 225.54}, {'id': 'row159', 'mz': 872.56726, 'rtime': 78.06}, {'id': 'row165', 'mz': 975.53119, 'rtime': 63.720000000000006}, {'id': 'row178', 'mz': 344.01575, 'rtime': 228.54000000000002}, {'id': 'row180', 'mz': 347.0174, 'rtime': 237.66}, {'id': 'row195', 'mz': 347.01837, 'rtime': 226.79999999999998}, {'id': 'row203', 'mz': 256.30084, 'rtime': 60.6}, {'id': 'row232', 'mz': 346.02136, 'rtime': 215.64}, {'id': 'row242', 'mz': 533.88696, 'rtime': 159.48}, {'id': 'row259', 'mz': 461.98993, 'rtime': 238.5}, {'id': 'row275', 'mz': 692.02148, 'rtime': 235.92}, {'id': 'row307', 'mz': 968.55872, 'rtime': 64.86}, {'id': 'row315', 'mz': 822.60284, 'rtime': 65.4}, {'id': 'row317', 'mz': 836.54706, 'rtime': 76.74}, {'id': 'row318', 'mz': 951.53186, 'rtime': 63.6}, {'id': 'row346', 'mz': 828.55511, 'rtime': 65.22}, {'id': 'row364', 'mz': 992.55872, 'rtime': 63.24}, {'id': 'row370', 'mz': 880.57275, 'rtime': 77.33999999999999}, {'id': 'row388', 'mz': 492.34659, 'rtime': 87.72}, {'id': 'row391', 'mz': 225.20822, 'rtime': 136.86}, {'id': 'row397', 'mz': 175.98595, 'rtime': 17.82}]\n"
     ]
    }
   ],
   "source": [
    "compare(true_, mzmine_L_)"
   ]
  },
  {
   "cell_type": "code",
   "execution_count": 15,
   "id": "ba920bc4-0019-4e9f-8770-66e5b00d92a0",
   "metadata": {},
   "outputs": [
    {
     "name": "stdout",
     "output_type": "stream",
     "text": [
      "\n",
      "  Best match comparisons:\n",
      "\n",
      "    ~~~ By best rtime matches ~~~     \n",
      "\n",
      "Of 402 list1 features, number of uni-direction matched features is 394.\n",
      "Of 29924 list1 features, number of uni-direction matched features is 675.\n",
      "~~~ Biodirectional, unique Number of matched feature pairs: ~~~\n",
      " 392\n",
      "\n",
      "\n",
      "########################################################################\n",
      "    ~~~ By best m/z matches ~~~     \n",
      "\n",
      "Of 402 list1 features, number of uni-direction matched features is 394.\n",
      "Of 29924 list1 features, number of uni-direction matched features is 675.\n",
      "~~~ Biodirectional, unique Number of matched feature pairs: ~~~\n",
      "     386\n",
      "########################################################################\n",
      "\n",
      "\n",
      "\n",
      "  List based inclusive comparisons:\n",
      "Of 402 list1 features, number of uni-direction matched features is 394.\n",
      "Of 29924 list1 features, number of uni-direction matched features is 675.\n",
      "    ~~~ match_numbers ~~~     \n",
      "\n",
      "Unique Number of matched features in table 1:  187\n",
      "Unique Number of matched features in table 2:  638\n",
      "Biodirectional, unique Number of matched feature pairs:  187\n",
      "\n",
      "\n",
      "Unmatched features ******  8 *******\n",
      "\n",
      "[{'id': 'row51', 'mz': 272.02988, 'rtime': 42.66}, {'id': 'row175', 'mz': 809.59113, 'rtime': 71.16}, {'id': 'row184', 'mz': 793.59631, 'rtime': 63.9}, {'id': 'row205', 'mz': 912.01392, 'rtime': 146.94}, {'id': 'row218', 'mz': 797.62775, 'rtime': 65.1}, {'id': 'row220', 'mz': 392.16461, 'rtime': 31.14}, {'id': 'row276', 'mz': 392.1647, 'rtime': 52.980000000000004}, {'id': 'row333', 'mz': 865.62915, 'rtime': 64.74}]\n"
     ]
    }
   ],
   "source": [
    "compare(true_, msdial_)"
   ]
  },
  {
   "cell_type": "markdown",
   "id": "a4bd4468-741c-4c69-a79c-d1f7fce4bc79",
   "metadata": {},
   "source": [
    "## End\n",
    "\n",
    "The numbers were used to construct Figure 4.\n"
   ]
  }
 ],
 "metadata": {
  "kernelspec": {
   "display_name": "Python 3 (ipykernel)",
   "language": "python",
   "name": "python3"
  },
  "language_info": {
   "codemirror_mode": {
    "name": "ipython",
    "version": 3
   },
   "file_extension": ".py",
   "mimetype": "text/x-python",
   "name": "python",
   "nbconvert_exporter": "python",
   "pygments_lexer": "ipython3",
   "version": "3.10.5"
  }
 },
 "nbformat": 4,
 "nbformat_minor": 5
}
